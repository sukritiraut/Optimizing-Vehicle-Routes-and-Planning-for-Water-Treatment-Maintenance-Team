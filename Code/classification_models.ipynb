{
 "cells": [
  {
   "cell_type": "code",
   "execution_count": 1,
   "id": "29f4e862",
   "metadata": {},
   "outputs": [],
   "source": [
    "import pandas as pd\n",
    "import numpy as np\n",
    "import matplotlib.pyplot as plt\n",
    "import random\n",
    "import math\n",
    "from sklearn.model_selection import cross_val_score, GridSearchCV, cross_validate, train_test_split\n",
    "from sklearn.metrics import accuracy_score, classification_report, confusion_matrix, ConfusionMatrixDisplay\n",
    "from sklearn.preprocessing import StandardScaler, normalize\n",
    "from sklearn.neighbors import KNeighborsClassifier\n",
    "from imblearn.under_sampling import RandomUnderSampler\n",
    "from sklearn.metrics import precision_recall_fscore_support\n",
    "from sklearn.metrics import balanced_accuracy_score\n",
    "from sklearn.ensemble import RandomForestClassifier\n",
    "from sklearn.svm import SVC\n",
    "from sklearn.model_selection import KFold\n",
    "import seaborn as sns\n",
    "from imblearn.ensemble import BalancedRandomForestClassifier\n",
    "from imblearn.over_sampling import SMOTE\n",
    "from sklearn.cluster import KMeans\n",
    "from sklearn.metrics import adjusted_rand_score, normalized_mutual_info_score\n"
   ]
  },
  {
   "cell_type": "code",
   "execution_count": 2,
   "id": "8255efe4",
   "metadata": {},
   "outputs": [],
   "source": [
    "df_wo = pd.read_excel('./WOs.xlsx', sheet_name = 'Sheet1', engine='openpyxl')"
   ]
  },
  {
   "cell_type": "code",
   "execution_count": 3,
   "id": "017fb490-45f7-435e-afa0-0e10d6b5561c",
   "metadata": {},
   "outputs": [],
   "source": [
    "df_asset = pd.read_excel('./WOs.xlsx', sheet_name = 'assettype')\n",
    "df_wotype = pd.read_excel('./WOs.xlsx', sheet_name = 'WOType')\n",
    "df_location = pd.read_excel('./WOs.xlsx', sheet_name = 'location')\n",
    "df_status = pd.read_excel('./WOs.xlsx', sheet_name = 'status')"
   ]
  },
  {
   "cell_type": "code",
   "execution_count": 4,
   "id": "6b60b335",
   "metadata": {
    "scrolled": true
   },
   "outputs": [
    {
     "data": {
      "text/html": [
       "<div>\n",
       "<style scoped>\n",
       "    .dataframe tbody tr th:only-of-type {\n",
       "        vertical-align: middle;\n",
       "    }\n",
       "\n",
       "    .dataframe tbody tr th {\n",
       "        vertical-align: top;\n",
       "    }\n",
       "\n",
       "    .dataframe thead th {\n",
       "        text-align: right;\n",
       "    }\n",
       "</style>\n",
       "<table border=\"1\" class=\"dataframe\">\n",
       "  <thead>\n",
       "    <tr style=\"text-align: right;\">\n",
       "      <th></th>\n",
       "      <th>Site ID</th>\n",
       "      <th>Asset Number</th>\n",
       "      <th>Asset Description</th>\n",
       "      <th>assettype</th>\n",
       "      <th>assetcriticality</th>\n",
       "      <th>installdate</th>\n",
       "      <th>location</th>\n",
       "      <th>WO Number</th>\n",
       "      <th>WO Description</th>\n",
       "      <th>reportdate</th>\n",
       "      <th>WO Status</th>\n",
       "      <th>WO Type</th>\n",
       "      <th>WO Priority</th>\n",
       "      <th>Labor Hours</th>\n",
       "      <th>Labor Cost</th>\n",
       "      <th>Material Cost</th>\n",
       "      <th>Work Order Cost</th>\n",
       "      <th>pump station</th>\n",
       "    </tr>\n",
       "  </thead>\n",
       "  <tbody>\n",
       "    <tr>\n",
       "      <th>0</th>\n",
       "      <td>PS</td>\n",
       "      <td>2003425</td>\n",
       "      <td>Truck #2003425</td>\n",
       "      <td>TRUCK</td>\n",
       "      <td>NaN</td>\n",
       "      <td>NaT</td>\n",
       "      <td>PS</td>\n",
       "      <td>PS2706551</td>\n",
       "      <td>Weekly Vehicle Inspection #2003425- Weekly</td>\n",
       "      <td>2016-04-27 08:41:55</td>\n",
       "      <td>CLOSE</td>\n",
       "      <td>PM</td>\n",
       "      <td>3.0</td>\n",
       "      <td>0.500000</td>\n",
       "      <td>14.60</td>\n",
       "      <td>0.00</td>\n",
       "      <td>14.60</td>\n",
       "      <td>NaN</td>\n",
       "    </tr>\n",
       "    <tr>\n",
       "      <th>1</th>\n",
       "      <td>PS</td>\n",
       "      <td>2003425</td>\n",
       "      <td>Truck #2003425</td>\n",
       "      <td>TRUCK</td>\n",
       "      <td>NaN</td>\n",
       "      <td>NaT</td>\n",
       "      <td>CENTRAL</td>\n",
       "      <td>PS2695726</td>\n",
       "      <td>Weekly Vehicle Inspection #2003425- Weekly</td>\n",
       "      <td>2015-12-01 11:13:18</td>\n",
       "      <td>CLOSE</td>\n",
       "      <td>PM</td>\n",
       "      <td>3.0</td>\n",
       "      <td>0.500000</td>\n",
       "      <td>14.60</td>\n",
       "      <td>0.00</td>\n",
       "      <td>14.60</td>\n",
       "      <td>NaN</td>\n",
       "    </tr>\n",
       "    <tr>\n",
       "      <th>2</th>\n",
       "      <td>PS</td>\n",
       "      <td>ABB-ADR-P-001</td>\n",
       "      <td>ABBERRONE AUTO-DIALER</td>\n",
       "      <td>BUILDING</td>\n",
       "      <td>NaN</td>\n",
       "      <td>NaT</td>\n",
       "      <td>X-DECOMMI</td>\n",
       "      <td>PS2444244</td>\n",
       "      <td>Remove Verbatim and components</td>\n",
       "      <td>2014-11-13 10:28:29</td>\n",
       "      <td>CLOSE</td>\n",
       "      <td>MOD</td>\n",
       "      <td>3.0</td>\n",
       "      <td>1.250000</td>\n",
       "      <td>36.50</td>\n",
       "      <td>0.00</td>\n",
       "      <td>36.50</td>\n",
       "      <td>NaN</td>\n",
       "    </tr>\n",
       "    <tr>\n",
       "      <th>3</th>\n",
       "      <td>PS</td>\n",
       "      <td>ABB-ADR-P-001</td>\n",
       "      <td>ABBERRONE AUTO-DIALER</td>\n",
       "      <td>BUILDING</td>\n",
       "      <td>NaN</td>\n",
       "      <td>NaT</td>\n",
       "      <td>PS-10-036</td>\n",
       "      <td>PS715889</td>\n",
       "      <td>7193429 Providence crossing ARV</td>\n",
       "      <td>2011-07-22 09:48:18</td>\n",
       "      <td>CLOSE</td>\n",
       "      <td>PM</td>\n",
       "      <td>3.0</td>\n",
       "      <td>6.100000</td>\n",
       "      <td>172.97</td>\n",
       "      <td>21.71</td>\n",
       "      <td>194.68</td>\n",
       "      <td>ABBERRONE</td>\n",
       "    </tr>\n",
       "    <tr>\n",
       "      <th>4</th>\n",
       "      <td>PS</td>\n",
       "      <td>ABB-ADR-P-001</td>\n",
       "      <td>ABBERRONE AUTO-DIALER</td>\n",
       "      <td>BUILDING</td>\n",
       "      <td>NaN</td>\n",
       "      <td>NaT</td>\n",
       "      <td>PS-10-036</td>\n",
       "      <td>PS273993</td>\n",
       "      <td>ALARM CALL-SHORELAKE w/o#6153503</td>\n",
       "      <td>2010-06-16 09:07:04</td>\n",
       "      <td>CLOSE</td>\n",
       "      <td>OCAL</td>\n",
       "      <td>3.0</td>\n",
       "      <td>3.000000</td>\n",
       "      <td>100.26</td>\n",
       "      <td>0.00</td>\n",
       "      <td>100.26</td>\n",
       "      <td>ABBERRONE</td>\n",
       "    </tr>\n",
       "    <tr>\n",
       "      <th>5</th>\n",
       "      <td>PS</td>\n",
       "      <td>ABB-ADR-P-001</td>\n",
       "      <td>ABBERRONE AUTO-DIALER</td>\n",
       "      <td>BUILDING</td>\n",
       "      <td>NaN</td>\n",
       "      <td>NaT</td>\n",
       "      <td>PS-10-036</td>\n",
       "      <td>PS348575</td>\n",
       "      <td>831101</td>\n",
       "      <td>2010-08-03 10:16:32</td>\n",
       "      <td>CLOSE</td>\n",
       "      <td>CM</td>\n",
       "      <td>3.0</td>\n",
       "      <td>0.000000</td>\n",
       "      <td>0.00</td>\n",
       "      <td>0.00</td>\n",
       "      <td>0.00</td>\n",
       "      <td>ABBERRONE</td>\n",
       "    </tr>\n",
       "    <tr>\n",
       "      <th>6</th>\n",
       "      <td>PS</td>\n",
       "      <td>ABB-ADR-P-001</td>\n",
       "      <td>ABBERRONE AUTO-DIALER</td>\n",
       "      <td>BUILDING</td>\n",
       "      <td>NaN</td>\n",
       "      <td>NaT</td>\n",
       "      <td>PS-10-036</td>\n",
       "      <td>PS262798</td>\n",
       "      <td>MOBILE TEST</td>\n",
       "      <td>2010-02-25 10:27:41</td>\n",
       "      <td>CLOSE</td>\n",
       "      <td>PM</td>\n",
       "      <td>3.0</td>\n",
       "      <td>0.000000</td>\n",
       "      <td>0.00</td>\n",
       "      <td>0.00</td>\n",
       "      <td>0.00</td>\n",
       "      <td>ABBERRONE</td>\n",
       "    </tr>\n",
       "    <tr>\n",
       "      <th>7</th>\n",
       "      <td>PS</td>\n",
       "      <td>ABB-ADR-P-001</td>\n",
       "      <td>ABBERRONE AUTO-DIALER</td>\n",
       "      <td>BUILDING</td>\n",
       "      <td>NaN</td>\n",
       "      <td>NaT</td>\n",
       "      <td>PS-10-036</td>\n",
       "      <td>PS653871</td>\n",
       "      <td>62229</td>\n",
       "      <td>2011-06-22 17:49:49</td>\n",
       "      <td>CLOSE</td>\n",
       "      <td>CM</td>\n",
       "      <td>3.0</td>\n",
       "      <td>3.033333</td>\n",
       "      <td>86.03</td>\n",
       "      <td>0.00</td>\n",
       "      <td>86.03</td>\n",
       "      <td>ABBERRONE</td>\n",
       "    </tr>\n",
       "    <tr>\n",
       "      <th>8</th>\n",
       "      <td>PS</td>\n",
       "      <td>ABB-ADR-P-001</td>\n",
       "      <td>ABBERRONE AUTO-DIALER</td>\n",
       "      <td>BUILDING</td>\n",
       "      <td>NaN</td>\n",
       "      <td>NaT</td>\n",
       "      <td>PS-10-036</td>\n",
       "      <td>PS2030915</td>\n",
       "      <td>Aberrone - False Generator Running alarms thro...</td>\n",
       "      <td>2013-11-08 14:08:46</td>\n",
       "      <td>CLOSE</td>\n",
       "      <td>CM</td>\n",
       "      <td>2.0</td>\n",
       "      <td>3.166667</td>\n",
       "      <td>89.78</td>\n",
       "      <td>0.00</td>\n",
       "      <td>89.78</td>\n",
       "      <td>ABBERRONE</td>\n",
       "    </tr>\n",
       "    <tr>\n",
       "      <th>9</th>\n",
       "      <td>PS</td>\n",
       "      <td>ABB-ADR-P-001</td>\n",
       "      <td>ABBERRONE AUTO-DIALER</td>\n",
       "      <td>BUILDING</td>\n",
       "      <td>NaN</td>\n",
       "      <td>NaT</td>\n",
       "      <td>PS-10-036</td>\n",
       "      <td>PS2411950</td>\n",
       "      <td>Mission High Level Mineral Ridge</td>\n",
       "      <td>2014-09-30 14:32:22</td>\n",
       "      <td>CLOSE</td>\n",
       "      <td>OCAL</td>\n",
       "      <td>2.0</td>\n",
       "      <td>0.500000</td>\n",
       "      <td>14.60</td>\n",
       "      <td>0.00</td>\n",
       "      <td>14.60</td>\n",
       "      <td>ABBERRONE</td>\n",
       "    </tr>\n",
       "  </tbody>\n",
       "</table>\n",
       "</div>"
      ],
      "text/plain": [
       "  Site ID   Asset Number      Asset Description assettype  assetcriticality  \\\n",
       "0      PS        2003425         Truck #2003425     TRUCK               NaN   \n",
       "1      PS        2003425         Truck #2003425     TRUCK               NaN   \n",
       "2      PS  ABB-ADR-P-001  ABBERRONE AUTO-DIALER  BUILDING               NaN   \n",
       "3      PS  ABB-ADR-P-001  ABBERRONE AUTO-DIALER  BUILDING               NaN   \n",
       "4      PS  ABB-ADR-P-001  ABBERRONE AUTO-DIALER  BUILDING               NaN   \n",
       "5      PS  ABB-ADR-P-001  ABBERRONE AUTO-DIALER  BUILDING               NaN   \n",
       "6      PS  ABB-ADR-P-001  ABBERRONE AUTO-DIALER  BUILDING               NaN   \n",
       "7      PS  ABB-ADR-P-001  ABBERRONE AUTO-DIALER  BUILDING               NaN   \n",
       "8      PS  ABB-ADR-P-001  ABBERRONE AUTO-DIALER  BUILDING               NaN   \n",
       "9      PS  ABB-ADR-P-001  ABBERRONE AUTO-DIALER  BUILDING               NaN   \n",
       "\n",
       "  installdate   location  WO Number  \\\n",
       "0         NaT         PS  PS2706551   \n",
       "1         NaT    CENTRAL  PS2695726   \n",
       "2         NaT  X-DECOMMI  PS2444244   \n",
       "3         NaT  PS-10-036   PS715889   \n",
       "4         NaT  PS-10-036   PS273993   \n",
       "5         NaT  PS-10-036   PS348575   \n",
       "6         NaT  PS-10-036   PS262798   \n",
       "7         NaT  PS-10-036   PS653871   \n",
       "8         NaT  PS-10-036  PS2030915   \n",
       "9         NaT  PS-10-036  PS2411950   \n",
       "\n",
       "                                      WO Description          reportdate  \\\n",
       "0         Weekly Vehicle Inspection #2003425- Weekly 2016-04-27 08:41:55   \n",
       "1         Weekly Vehicle Inspection #2003425- Weekly 2015-12-01 11:13:18   \n",
       "2                     Remove Verbatim and components 2014-11-13 10:28:29   \n",
       "3                    7193429 Providence crossing ARV 2011-07-22 09:48:18   \n",
       "4                   ALARM CALL-SHORELAKE w/o#6153503 2010-06-16 09:07:04   \n",
       "5                                             831101 2010-08-03 10:16:32   \n",
       "6                                        MOBILE TEST 2010-02-25 10:27:41   \n",
       "7                                              62229 2011-06-22 17:49:49   \n",
       "8  Aberrone - False Generator Running alarms thro... 2013-11-08 14:08:46   \n",
       "9                   Mission High Level Mineral Ridge 2014-09-30 14:32:22   \n",
       "\n",
       "  WO Status WO Type  WO Priority  Labor Hours  Labor Cost  Material Cost  \\\n",
       "0     CLOSE      PM          3.0     0.500000       14.60           0.00   \n",
       "1     CLOSE      PM          3.0     0.500000       14.60           0.00   \n",
       "2     CLOSE     MOD          3.0     1.250000       36.50           0.00   \n",
       "3     CLOSE      PM          3.0     6.100000      172.97          21.71   \n",
       "4     CLOSE    OCAL          3.0     3.000000      100.26           0.00   \n",
       "5     CLOSE      CM          3.0     0.000000        0.00           0.00   \n",
       "6     CLOSE      PM          3.0     0.000000        0.00           0.00   \n",
       "7     CLOSE      CM          3.0     3.033333       86.03           0.00   \n",
       "8     CLOSE      CM          2.0     3.166667       89.78           0.00   \n",
       "9     CLOSE    OCAL          2.0     0.500000       14.60           0.00   \n",
       "\n",
       "   Work Order Cost pump station  \n",
       "0            14.60          NaN  \n",
       "1            14.60          NaN  \n",
       "2            36.50          NaN  \n",
       "3           194.68    ABBERRONE  \n",
       "4           100.26    ABBERRONE  \n",
       "5             0.00    ABBERRONE  \n",
       "6             0.00    ABBERRONE  \n",
       "7            86.03    ABBERRONE  \n",
       "8            89.78    ABBERRONE  \n",
       "9            14.60    ABBERRONE  "
      ]
     },
     "execution_count": 4,
     "metadata": {},
     "output_type": "execute_result"
    }
   ],
   "source": [
    "df_wo2 = df_wo.copy()\n",
    "df_wo2.head(10)"
   ]
  },
  {
   "cell_type": "code",
   "execution_count": 5,
   "id": "6d5f28fc-21a4-4856-95c9-4f4077fe2c06",
   "metadata": {},
   "outputs": [],
   "source": [
    "#remove rows with no pump stations\n",
    "df_wo2 =df_wo2[(df_wo2['pump station'].notna())]"
   ]
  },
  {
   "cell_type": "code",
   "execution_count": 6,
   "id": "9611d1cf-6018-405d-b513-9f750095e16a",
   "metadata": {},
   "outputs": [
    {
     "data": {
      "text/plain": [
       "(341719, 18)"
      ]
     },
     "execution_count": 6,
     "metadata": {},
     "output_type": "execute_result"
    }
   ],
   "source": [
    "df_wo2.shape"
   ]
  },
  {
   "cell_type": "code",
   "execution_count": 7,
   "id": "f8dad468-8d70-4096-a296-21966fcbbfea",
   "metadata": {},
   "outputs": [
    {
     "data": {
      "text/html": [
       "<div>\n",
       "<style scoped>\n",
       "    .dataframe tbody tr th:only-of-type {\n",
       "        vertical-align: middle;\n",
       "    }\n",
       "\n",
       "    .dataframe tbody tr th {\n",
       "        vertical-align: top;\n",
       "    }\n",
       "\n",
       "    .dataframe thead th {\n",
       "        text-align: right;\n",
       "    }\n",
       "</style>\n",
       "<table border=\"1\" class=\"dataframe\">\n",
       "  <thead>\n",
       "    <tr style=\"text-align: right;\">\n",
       "      <th></th>\n",
       "      <th>long</th>\n",
       "      <th>lat</th>\n",
       "      <th>Pump_Identifier</th>\n",
       "      <th>pump station</th>\n",
       "      <th>Pump Station Address Final</th>\n",
       "      <th>long_lat</th>\n",
       "    </tr>\n",
       "  </thead>\n",
       "  <tbody>\n",
       "    <tr>\n",
       "      <th>0</th>\n",
       "      <td>-83.961629</td>\n",
       "      <td>33.969770</td>\n",
       "      <td>1</td>\n",
       "      <td>Winder Hwy Lawrenceville GA</td>\n",
       "      <td>Winder Hwy Lawrenceville GA</td>\n",
       "      <td>(-83.9616285, 33.9697702)</td>\n",
       "    </tr>\n",
       "    <tr>\n",
       "      <th>1</th>\n",
       "      <td>-83.945564</td>\n",
       "      <td>34.085553</td>\n",
       "      <td>2</td>\n",
       "      <td>ABBERONE</td>\n",
       "      <td>ABBERRONE</td>\n",
       "      <td>(-83.9455640476, 34.08555339)</td>\n",
       "    </tr>\n",
       "    <tr>\n",
       "      <th>2</th>\n",
       "      <td>-83.945564</td>\n",
       "      <td>34.085553</td>\n",
       "      <td>2</td>\n",
       "      <td>ABBERRONE</td>\n",
       "      <td>ABBERRONE</td>\n",
       "      <td>(-83.9455640476, 34.08555339)</td>\n",
       "    </tr>\n",
       "    <tr>\n",
       "      <th>3</th>\n",
       "      <td>-83.998518</td>\n",
       "      <td>33.853074</td>\n",
       "      <td>3</td>\n",
       "      <td>ABINGTON DRIVE</td>\n",
       "      <td>ABINGTON DRIVE</td>\n",
       "      <td>(-83.9985179404, 33.85307417)</td>\n",
       "    </tr>\n",
       "    <tr>\n",
       "      <th>4</th>\n",
       "      <td>-83.940248</td>\n",
       "      <td>33.978324</td>\n",
       "      <td>4</td>\n",
       "      <td>ALCOVY RIVER</td>\n",
       "      <td>ALCOVY RIVER BOOSTER STATION</td>\n",
       "      <td>(-83.9402479833, 33.97832391)</td>\n",
       "    </tr>\n",
       "  </tbody>\n",
       "</table>\n",
       "</div>"
      ],
      "text/plain": [
       "        long        lat  Pump_Identifier                 pump station  \\\n",
       "0 -83.961629  33.969770                1  Winder Hwy Lawrenceville GA   \n",
       "1 -83.945564  34.085553                2                     ABBERONE   \n",
       "2 -83.945564  34.085553                2                    ABBERRONE   \n",
       "3 -83.998518  33.853074                3               ABINGTON DRIVE   \n",
       "4 -83.940248  33.978324                4                 ALCOVY RIVER   \n",
       "\n",
       "     Pump Station Address Final                       long_lat  \n",
       "0   Winder Hwy Lawrenceville GA      (-83.9616285, 33.9697702)  \n",
       "1                     ABBERRONE  (-83.9455640476, 34.08555339)  \n",
       "2                     ABBERRONE  (-83.9455640476, 34.08555339)  \n",
       "3                ABINGTON DRIVE  (-83.9985179404, 33.85307417)  \n",
       "4  ALCOVY RIVER BOOSTER STATION  (-83.9402479833, 33.97832391)  "
      ]
     },
     "execution_count": 7,
     "metadata": {},
     "output_type": "execute_result"
    }
   ],
   "source": [
    "#location data with longitude and latitude\n",
    "loc_lookup = pd.read_csv(r\"Location_v3.csv\",encoding='ISO-8859-1')\n",
    "loc_lookup.head(5)"
   ]
  },
  {
   "cell_type": "code",
   "execution_count": 8,
   "id": "1a9e9964-f2a6-4a60-9d04-f9af7bbccfb5",
   "metadata": {},
   "outputs": [
    {
     "data": {
      "text/plain": [
       "0"
      ]
     },
     "execution_count": 8,
     "metadata": {},
     "output_type": "execute_result"
    }
   ],
   "source": [
    "num_null_values = loc_lookup['pump station'].isnull().sum()\n",
    "num_null_values"
   ]
  },
  {
   "cell_type": "code",
   "execution_count": 9,
   "id": "e2f56efc-12fb-417b-938e-37a6365c19c3",
   "metadata": {},
   "outputs": [
    {
     "name": "stdout",
     "output_type": "stream",
     "text": [
      "Index(['long', 'lat', 'Pump_Identifier', 'pump station',\n",
      "       'Pump Station Address Final', 'long_lat'],\n",
      "      dtype='object')\n"
     ]
    }
   ],
   "source": [
    "#print(df_wo2.columns)\n",
    "print(loc_lookup.columns)"
   ]
  },
  {
   "cell_type": "code",
   "execution_count": 10,
   "id": "600a8208-a7cd-4e90-ae28-22a2793fe699",
   "metadata": {},
   "outputs": [
    {
     "data": {
      "text/html": [
       "<div>\n",
       "<style scoped>\n",
       "    .dataframe tbody tr th:only-of-type {\n",
       "        vertical-align: middle;\n",
       "    }\n",
       "\n",
       "    .dataframe tbody tr th {\n",
       "        vertical-align: top;\n",
       "    }\n",
       "\n",
       "    .dataframe thead th {\n",
       "        text-align: right;\n",
       "    }\n",
       "</style>\n",
       "<table border=\"1\" class=\"dataframe\">\n",
       "  <thead>\n",
       "    <tr style=\"text-align: right;\">\n",
       "      <th></th>\n",
       "      <th>Site ID</th>\n",
       "      <th>Asset Number</th>\n",
       "      <th>Asset Description</th>\n",
       "      <th>assettype</th>\n",
       "      <th>assetcriticality</th>\n",
       "      <th>installdate</th>\n",
       "      <th>location</th>\n",
       "      <th>WO Number</th>\n",
       "      <th>WO Description</th>\n",
       "      <th>reportdate</th>\n",
       "      <th>...</th>\n",
       "      <th>Labor Hours</th>\n",
       "      <th>Labor Cost</th>\n",
       "      <th>Material Cost</th>\n",
       "      <th>Work Order Cost</th>\n",
       "      <th>pump station</th>\n",
       "      <th>long</th>\n",
       "      <th>lat</th>\n",
       "      <th>Pump_Identifier</th>\n",
       "      <th>Pump Station Address Final</th>\n",
       "      <th>long_lat</th>\n",
       "    </tr>\n",
       "  </thead>\n",
       "  <tbody>\n",
       "    <tr>\n",
       "      <th>0</th>\n",
       "      <td>PS</td>\n",
       "      <td>ABB-ADR-P-001</td>\n",
       "      <td>ABBERRONE AUTO-DIALER</td>\n",
       "      <td>BUILDING</td>\n",
       "      <td>NaN</td>\n",
       "      <td>NaT</td>\n",
       "      <td>PS-10-036</td>\n",
       "      <td>PS715889</td>\n",
       "      <td>7193429 Providence crossing ARV</td>\n",
       "      <td>2011-07-22 09:48:18</td>\n",
       "      <td>...</td>\n",
       "      <td>6.100000</td>\n",
       "      <td>172.97</td>\n",
       "      <td>21.71</td>\n",
       "      <td>194.68</td>\n",
       "      <td>ABBERRONE</td>\n",
       "      <td>-83.945564</td>\n",
       "      <td>34.085553</td>\n",
       "      <td>2.0</td>\n",
       "      <td>ABBERRONE</td>\n",
       "      <td>(-83.9455640476, 34.08555339)</td>\n",
       "    </tr>\n",
       "    <tr>\n",
       "      <th>1</th>\n",
       "      <td>PS</td>\n",
       "      <td>ABB-ADR-P-001</td>\n",
       "      <td>ABBERRONE AUTO-DIALER</td>\n",
       "      <td>BUILDING</td>\n",
       "      <td>NaN</td>\n",
       "      <td>NaT</td>\n",
       "      <td>PS-10-036</td>\n",
       "      <td>PS273993</td>\n",
       "      <td>ALARM CALL-SHORELAKE w/o#6153503</td>\n",
       "      <td>2010-06-16 09:07:04</td>\n",
       "      <td>...</td>\n",
       "      <td>3.000000</td>\n",
       "      <td>100.26</td>\n",
       "      <td>0.00</td>\n",
       "      <td>100.26</td>\n",
       "      <td>ABBERRONE</td>\n",
       "      <td>-83.945564</td>\n",
       "      <td>34.085553</td>\n",
       "      <td>2.0</td>\n",
       "      <td>ABBERRONE</td>\n",
       "      <td>(-83.9455640476, 34.08555339)</td>\n",
       "    </tr>\n",
       "    <tr>\n",
       "      <th>2</th>\n",
       "      <td>PS</td>\n",
       "      <td>ABB-ADR-P-001</td>\n",
       "      <td>ABBERRONE AUTO-DIALER</td>\n",
       "      <td>BUILDING</td>\n",
       "      <td>NaN</td>\n",
       "      <td>NaT</td>\n",
       "      <td>PS-10-036</td>\n",
       "      <td>PS348575</td>\n",
       "      <td>831101</td>\n",
       "      <td>2010-08-03 10:16:32</td>\n",
       "      <td>...</td>\n",
       "      <td>0.000000</td>\n",
       "      <td>0.00</td>\n",
       "      <td>0.00</td>\n",
       "      <td>0.00</td>\n",
       "      <td>ABBERRONE</td>\n",
       "      <td>-83.945564</td>\n",
       "      <td>34.085553</td>\n",
       "      <td>2.0</td>\n",
       "      <td>ABBERRONE</td>\n",
       "      <td>(-83.9455640476, 34.08555339)</td>\n",
       "    </tr>\n",
       "    <tr>\n",
       "      <th>3</th>\n",
       "      <td>PS</td>\n",
       "      <td>ABB-ADR-P-001</td>\n",
       "      <td>ABBERRONE AUTO-DIALER</td>\n",
       "      <td>BUILDING</td>\n",
       "      <td>NaN</td>\n",
       "      <td>NaT</td>\n",
       "      <td>PS-10-036</td>\n",
       "      <td>PS262798</td>\n",
       "      <td>MOBILE TEST</td>\n",
       "      <td>2010-02-25 10:27:41</td>\n",
       "      <td>...</td>\n",
       "      <td>0.000000</td>\n",
       "      <td>0.00</td>\n",
       "      <td>0.00</td>\n",
       "      <td>0.00</td>\n",
       "      <td>ABBERRONE</td>\n",
       "      <td>-83.945564</td>\n",
       "      <td>34.085553</td>\n",
       "      <td>2.0</td>\n",
       "      <td>ABBERRONE</td>\n",
       "      <td>(-83.9455640476, 34.08555339)</td>\n",
       "    </tr>\n",
       "    <tr>\n",
       "      <th>4</th>\n",
       "      <td>PS</td>\n",
       "      <td>ABB-ADR-P-001</td>\n",
       "      <td>ABBERRONE AUTO-DIALER</td>\n",
       "      <td>BUILDING</td>\n",
       "      <td>NaN</td>\n",
       "      <td>NaT</td>\n",
       "      <td>PS-10-036</td>\n",
       "      <td>PS653871</td>\n",
       "      <td>62229</td>\n",
       "      <td>2011-06-22 17:49:49</td>\n",
       "      <td>...</td>\n",
       "      <td>3.033333</td>\n",
       "      <td>86.03</td>\n",
       "      <td>0.00</td>\n",
       "      <td>86.03</td>\n",
       "      <td>ABBERRONE</td>\n",
       "      <td>-83.945564</td>\n",
       "      <td>34.085553</td>\n",
       "      <td>2.0</td>\n",
       "      <td>ABBERRONE</td>\n",
       "      <td>(-83.9455640476, 34.08555339)</td>\n",
       "    </tr>\n",
       "  </tbody>\n",
       "</table>\n",
       "<p>5 rows × 23 columns</p>\n",
       "</div>"
      ],
      "text/plain": [
       "  Site ID   Asset Number      Asset Description assettype  assetcriticality  \\\n",
       "0      PS  ABB-ADR-P-001  ABBERRONE AUTO-DIALER  BUILDING               NaN   \n",
       "1      PS  ABB-ADR-P-001  ABBERRONE AUTO-DIALER  BUILDING               NaN   \n",
       "2      PS  ABB-ADR-P-001  ABBERRONE AUTO-DIALER  BUILDING               NaN   \n",
       "3      PS  ABB-ADR-P-001  ABBERRONE AUTO-DIALER  BUILDING               NaN   \n",
       "4      PS  ABB-ADR-P-001  ABBERRONE AUTO-DIALER  BUILDING               NaN   \n",
       "\n",
       "  installdate   location WO Number                    WO Description  \\\n",
       "0         NaT  PS-10-036  PS715889   7193429 Providence crossing ARV   \n",
       "1         NaT  PS-10-036  PS273993  ALARM CALL-SHORELAKE w/o#6153503   \n",
       "2         NaT  PS-10-036  PS348575                            831101   \n",
       "3         NaT  PS-10-036  PS262798                       MOBILE TEST   \n",
       "4         NaT  PS-10-036  PS653871                             62229   \n",
       "\n",
       "           reportdate  ... Labor Hours Labor Cost  Material Cost  \\\n",
       "0 2011-07-22 09:48:18  ...    6.100000     172.97          21.71   \n",
       "1 2010-06-16 09:07:04  ...    3.000000     100.26           0.00   \n",
       "2 2010-08-03 10:16:32  ...    0.000000       0.00           0.00   \n",
       "3 2010-02-25 10:27:41  ...    0.000000       0.00           0.00   \n",
       "4 2011-06-22 17:49:49  ...    3.033333      86.03           0.00   \n",
       "\n",
       "   Work Order Cost  pump station       long        lat Pump_Identifier  \\\n",
       "0           194.68     ABBERRONE -83.945564  34.085553             2.0   \n",
       "1           100.26     ABBERRONE -83.945564  34.085553             2.0   \n",
       "2             0.00     ABBERRONE -83.945564  34.085553             2.0   \n",
       "3             0.00     ABBERRONE -83.945564  34.085553             2.0   \n",
       "4            86.03     ABBERRONE -83.945564  34.085553             2.0   \n",
       "\n",
       "   Pump Station Address Final                       long_lat  \n",
       "0                   ABBERRONE  (-83.9455640476, 34.08555339)  \n",
       "1                   ABBERRONE  (-83.9455640476, 34.08555339)  \n",
       "2                   ABBERRONE  (-83.9455640476, 34.08555339)  \n",
       "3                   ABBERRONE  (-83.9455640476, 34.08555339)  \n",
       "4                   ABBERRONE  (-83.9455640476, 34.08555339)  \n",
       "\n",
       "[5 rows x 23 columns]"
      ]
     },
     "execution_count": 10,
     "metadata": {},
     "output_type": "execute_result"
    }
   ],
   "source": [
    "#merge df and location file to get the lat and long\n",
    "df_wo3 = df_wo2.merge(loc_lookup, on ='pump station', how = 'left')\n",
    "df_wo3.head(5)"
   ]
  },
  {
   "cell_type": "code",
   "execution_count": 11,
   "id": "f5e2b9de-2b16-43fb-9b75-873a69453b73",
   "metadata": {},
   "outputs": [
    {
     "data": {
      "text/plain": [
       "(341719, 23)"
      ]
     },
     "execution_count": 11,
     "metadata": {},
     "output_type": "execute_result"
    }
   ],
   "source": [
    "df_wo3.shape"
   ]
  },
  {
   "cell_type": "code",
   "execution_count": null,
   "id": "578a6af3-2b6a-4031-b1e0-94c4011f9ffb",
   "metadata": {},
   "outputs": [],
   "source": [
    "loc_lookup['assetcriticality'] = loc_lookup['assetcriticality'].fillna(loc_lookup['Pump Station Address_raw data'])"
   ]
  },
  {
   "cell_type": "code",
   "execution_count": 13,
   "id": "19ebc964-d56f-4e6b-8e0d-6a6cfbd8aa25",
   "metadata": {},
   "outputs": [
    {
     "data": {
      "text/plain": [
       "74078"
      ]
     },
     "execution_count": 13,
     "metadata": {},
     "output_type": "execute_result"
    }
   ],
   "source": [
    "null_sum = df_wo3['assetcriticality'].isnull().sum()\n",
    "null_sum"
   ]
  },
  {
   "cell_type": "code",
   "execution_count": 14,
   "id": "e7c0e490-9107-44de-a65b-713425dea011",
   "metadata": {},
   "outputs": [
    {
     "data": {
      "text/plain": [
       "0"
      ]
     },
     "execution_count": 14,
     "metadata": {},
     "output_type": "execute_result"
    }
   ],
   "source": [
    "null_sum = df_wo3['location'].isnull().sum()\n",
    "null_sum"
   ]
  },
  {
   "cell_type": "code",
   "execution_count": 15,
   "id": "5cb5f61a-8193-4168-8905-f5cfed2051cf",
   "metadata": {},
   "outputs": [
    {
     "data": {
      "text/plain": [
       "286"
      ]
     },
     "execution_count": 15,
     "metadata": {},
     "output_type": "execute_result"
    }
   ],
   "source": [
    "null_sum = df_wo3['WO Type'].isnull().sum()\n",
    "null_sum"
   ]
  },
  {
   "cell_type": "code",
   "execution_count": 16,
   "id": "26240c73-d33e-417d-a9c8-97e4a5ddc0ef",
   "metadata": {},
   "outputs": [
    {
     "data": {
      "text/plain": [
       "351"
      ]
     },
     "execution_count": 16,
     "metadata": {},
     "output_type": "execute_result"
    }
   ],
   "source": [
    "null_sum = df_wo3['WO Priority'].isnull().sum()\n",
    "null_sum"
   ]
  },
  {
   "cell_type": "code",
   "execution_count": 17,
   "id": "55c9f3cf-8ca4-4159-9332-319a88d76e7b",
   "metadata": {},
   "outputs": [
    {
     "data": {
      "text/plain": [
       "0"
      ]
     },
     "execution_count": 17,
     "metadata": {},
     "output_type": "execute_result"
    }
   ],
   "source": [
    "null_sum = df_wo3['WO Status'].isnull().sum()\n",
    "null_sum"
   ]
  },
  {
   "cell_type": "code",
   "execution_count": 19,
   "id": "a8fa7a1a-6c1d-49e6-b7d0-1fb60c0c3c84",
   "metadata": {},
   "outputs": [
    {
     "data": {
      "text/plain": [
       "(204152, 23)"
      ]
     },
     "execution_count": 19,
     "metadata": {},
     "output_type": "execute_result"
    }
   ],
   "source": [
    "# Drop rows with NaN values from all columns\n",
    "df_wo3 = df_wo3.dropna(how='any')\n",
    "df_wo3.shape"
   ]
  },
  {
   "cell_type": "markdown",
   "id": "a72b34e3-7c9a-4a58-ac33-06465cfb13b4",
   "metadata": {},
   "source": [
    "#Convert NA to 0\n",
    "\n",
    "df_wo3['assetcriticality'] = df_wo3['assetcriticality'].fillna(0)\n",
    "df_wo3['location'] = df_wo3['location'].fillna(0)\n",
    "df_wo3['WO Type'] = df_wo3['WO Type'].fillna(0)\n",
    "df_wo3['WO Priority'] = df_wo3['WO Priority'].fillna(0)\n",
    "df_wo3['WO Status'] = df_wo3['WO Status'].fillna(0)"
   ]
  },
  {
   "cell_type": "markdown",
   "id": "9f149cb3-0529-40fe-b837-2e6d38bebe80",
   "metadata": {},
   "source": [
    "#print(df_wo['assettype'].unique())\n",
    "print(df_wo3['assetcriticality'].unique())\n",
    "print(df_wo3['WO Type'].unique())\n",
    "print(df_wo3['WO Priority'].unique())\n",
    "print(df_wo3['WO Status'].unique())"
   ]
  },
  {
   "cell_type": "code",
   "execution_count": 22,
   "id": "6261c48e-cc33-45d9-aacc-169308aba297",
   "metadata": {},
   "outputs": [],
   "source": [
    "#getting numerical values for some of the columns\n",
    "\n",
    "df_wo3 = df_wo3.merge(df_asset, on = 'assettype', how = \"inner\")\n",
    "df_wo3 = df_wo3.merge(df_wotype, on = 'WO Type', how = \"inner\")\n",
    "df_wo3 = df_wo3.merge(df_location, on = 'location', how = \"inner\")\n",
    "df_wo3 = df_wo3.merge(df_status, on = 'WO Status', how = \"inner\")"
   ]
  },
  {
   "cell_type": "code",
   "execution_count": 23,
   "id": "6ba026c2-fdad-4201-8a39-cca16695ec55",
   "metadata": {},
   "outputs": [
    {
     "data": {
      "text/html": [
       "<div>\n",
       "<style scoped>\n",
       "    .dataframe tbody tr th:only-of-type {\n",
       "        vertical-align: middle;\n",
       "    }\n",
       "\n",
       "    .dataframe tbody tr th {\n",
       "        vertical-align: top;\n",
       "    }\n",
       "\n",
       "    .dataframe thead th {\n",
       "        text-align: right;\n",
       "    }\n",
       "</style>\n",
       "<table border=\"1\" class=\"dataframe\">\n",
       "  <thead>\n",
       "    <tr style=\"text-align: right;\">\n",
       "      <th></th>\n",
       "      <th>Site ID</th>\n",
       "      <th>Asset Number</th>\n",
       "      <th>Asset Description</th>\n",
       "      <th>assettype</th>\n",
       "      <th>assetcriticality</th>\n",
       "      <th>installdate</th>\n",
       "      <th>location</th>\n",
       "      <th>WO Number</th>\n",
       "      <th>WO Description</th>\n",
       "      <th>reportdate</th>\n",
       "      <th>...</th>\n",
       "      <th>pump station</th>\n",
       "      <th>long</th>\n",
       "      <th>lat</th>\n",
       "      <th>Pump_Identifier</th>\n",
       "      <th>Pump Station Address Final</th>\n",
       "      <th>long_lat</th>\n",
       "      <th>assettype_order</th>\n",
       "      <th>WOType_Order</th>\n",
       "      <th>location_order</th>\n",
       "      <th>WO Status_order</th>\n",
       "    </tr>\n",
       "  </thead>\n",
       "  <tbody>\n",
       "    <tr>\n",
       "      <th>0</th>\n",
       "      <td>PS</td>\n",
       "      <td>ABB-ATS-P-001</td>\n",
       "      <td>AUTOMATIC TRANSFER SWITCH, B010206432</td>\n",
       "      <td>SWITCH-TRANSFER</td>\n",
       "      <td>5.0</td>\n",
       "      <td>2014-09-29</td>\n",
       "      <td>PS-10-036</td>\n",
       "      <td>PS2868998</td>\n",
       "      <td>ATS, Annual PM Inspection</td>\n",
       "      <td>2021-02-24 12:27:39</td>\n",
       "      <td>...</td>\n",
       "      <td>ABBERRONE</td>\n",
       "      <td>-83.945564</td>\n",
       "      <td>34.085553</td>\n",
       "      <td>2.0</td>\n",
       "      <td>ABBERRONE</td>\n",
       "      <td>(-83.9455640476, 34.08555339)</td>\n",
       "      <td>4</td>\n",
       "      <td>1</td>\n",
       "      <td>4</td>\n",
       "      <td>3</td>\n",
       "    </tr>\n",
       "    <tr>\n",
       "      <th>1</th>\n",
       "      <td>PS</td>\n",
       "      <td>ABB-ATS-P-001</td>\n",
       "      <td>AUTOMATIC TRANSFER SWITCH, B010206432</td>\n",
       "      <td>SWITCH-TRANSFER</td>\n",
       "      <td>5.0</td>\n",
       "      <td>2014-09-29</td>\n",
       "      <td>PS-10-036</td>\n",
       "      <td>PS2868999</td>\n",
       "      <td>Automatic Transfer Switch</td>\n",
       "      <td>2021-02-24 12:27:40</td>\n",
       "      <td>...</td>\n",
       "      <td>ABBERRONE</td>\n",
       "      <td>-83.945564</td>\n",
       "      <td>34.085553</td>\n",
       "      <td>2.0</td>\n",
       "      <td>ABBERRONE</td>\n",
       "      <td>(-83.9455640476, 34.08555339)</td>\n",
       "      <td>4</td>\n",
       "      <td>1</td>\n",
       "      <td>4</td>\n",
       "      <td>3</td>\n",
       "    </tr>\n",
       "    <tr>\n",
       "      <th>2</th>\n",
       "      <td>PS</td>\n",
       "      <td>ABB-ATS-P-001</td>\n",
       "      <td>AUTOMATIC TRANSFER SWITCH, B010206432</td>\n",
       "      <td>SWITCH-TRANSFER</td>\n",
       "      <td>5.0</td>\n",
       "      <td>2014-09-29</td>\n",
       "      <td>PS-10-036</td>\n",
       "      <td>PS2905040</td>\n",
       "      <td>ATS, Annual PM Inspection</td>\n",
       "      <td>2022-02-22 13:28:29</td>\n",
       "      <td>...</td>\n",
       "      <td>ABBERRONE</td>\n",
       "      <td>-83.945564</td>\n",
       "      <td>34.085553</td>\n",
       "      <td>2.0</td>\n",
       "      <td>ABBERRONE</td>\n",
       "      <td>(-83.9455640476, 34.08555339)</td>\n",
       "      <td>4</td>\n",
       "      <td>1</td>\n",
       "      <td>4</td>\n",
       "      <td>3</td>\n",
       "    </tr>\n",
       "    <tr>\n",
       "      <th>3</th>\n",
       "      <td>PS</td>\n",
       "      <td>ABB-ATS-P-001</td>\n",
       "      <td>AUTOMATIC TRANSFER SWITCH, B010206432</td>\n",
       "      <td>SWITCH-TRANSFER</td>\n",
       "      <td>5.0</td>\n",
       "      <td>2014-09-29</td>\n",
       "      <td>PS-10-036</td>\n",
       "      <td>PS2905041</td>\n",
       "      <td>Automatic Transfer Switch</td>\n",
       "      <td>2022-02-22 13:28:30</td>\n",
       "      <td>...</td>\n",
       "      <td>ABBERRONE</td>\n",
       "      <td>-83.945564</td>\n",
       "      <td>34.085553</td>\n",
       "      <td>2.0</td>\n",
       "      <td>ABBERRONE</td>\n",
       "      <td>(-83.9455640476, 34.08555339)</td>\n",
       "      <td>4</td>\n",
       "      <td>1</td>\n",
       "      <td>4</td>\n",
       "      <td>3</td>\n",
       "    </tr>\n",
       "    <tr>\n",
       "      <th>4</th>\n",
       "      <td>PS</td>\n",
       "      <td>ABB-ATS-P-001</td>\n",
       "      <td>AUTOMATIC TRANSFER SWITCH, B010206432</td>\n",
       "      <td>SWITCH-TRANSFER</td>\n",
       "      <td>5.0</td>\n",
       "      <td>2014-09-29</td>\n",
       "      <td>PS-10-036</td>\n",
       "      <td>PS2939900</td>\n",
       "      <td>ATS, ANNUAL PM INSPECTION</td>\n",
       "      <td>2023-01-24 15:12:47</td>\n",
       "      <td>...</td>\n",
       "      <td>ABBERRONE</td>\n",
       "      <td>-83.945564</td>\n",
       "      <td>34.085553</td>\n",
       "      <td>2.0</td>\n",
       "      <td>ABBERRONE</td>\n",
       "      <td>(-83.9455640476, 34.08555339)</td>\n",
       "      <td>4</td>\n",
       "      <td>1</td>\n",
       "      <td>4</td>\n",
       "      <td>3</td>\n",
       "    </tr>\n",
       "  </tbody>\n",
       "</table>\n",
       "<p>5 rows × 27 columns</p>\n",
       "</div>"
      ],
      "text/plain": [
       "  Site ID   Asset Number                      Asset Description  \\\n",
       "0      PS  ABB-ATS-P-001  AUTOMATIC TRANSFER SWITCH, B010206432   \n",
       "1      PS  ABB-ATS-P-001  AUTOMATIC TRANSFER SWITCH, B010206432   \n",
       "2      PS  ABB-ATS-P-001  AUTOMATIC TRANSFER SWITCH, B010206432   \n",
       "3      PS  ABB-ATS-P-001  AUTOMATIC TRANSFER SWITCH, B010206432   \n",
       "4      PS  ABB-ATS-P-001  AUTOMATIC TRANSFER SWITCH, B010206432   \n",
       "\n",
       "         assettype  assetcriticality installdate   location  WO Number  \\\n",
       "0  SWITCH-TRANSFER               5.0  2014-09-29  PS-10-036  PS2868998   \n",
       "1  SWITCH-TRANSFER               5.0  2014-09-29  PS-10-036  PS2868999   \n",
       "2  SWITCH-TRANSFER               5.0  2014-09-29  PS-10-036  PS2905040   \n",
       "3  SWITCH-TRANSFER               5.0  2014-09-29  PS-10-036  PS2905041   \n",
       "4  SWITCH-TRANSFER               5.0  2014-09-29  PS-10-036  PS2939900   \n",
       "\n",
       "              WO Description          reportdate  ... pump station       long  \\\n",
       "0  ATS, Annual PM Inspection 2021-02-24 12:27:39  ...    ABBERRONE -83.945564   \n",
       "1  Automatic Transfer Switch 2021-02-24 12:27:40  ...    ABBERRONE -83.945564   \n",
       "2  ATS, Annual PM Inspection 2022-02-22 13:28:29  ...    ABBERRONE -83.945564   \n",
       "3  Automatic Transfer Switch 2022-02-22 13:28:30  ...    ABBERRONE -83.945564   \n",
       "4  ATS, ANNUAL PM INSPECTION 2023-01-24 15:12:47  ...    ABBERRONE -83.945564   \n",
       "\n",
       "         lat  Pump_Identifier  Pump Station Address Final  \\\n",
       "0  34.085553              2.0                   ABBERRONE   \n",
       "1  34.085553              2.0                   ABBERRONE   \n",
       "2  34.085553              2.0                   ABBERRONE   \n",
       "3  34.085553              2.0                   ABBERRONE   \n",
       "4  34.085553              2.0                   ABBERRONE   \n",
       "\n",
       "                        long_lat  assettype_order WOType_Order  \\\n",
       "0  (-83.9455640476, 34.08555339)                4            1   \n",
       "1  (-83.9455640476, 34.08555339)                4            1   \n",
       "2  (-83.9455640476, 34.08555339)                4            1   \n",
       "3  (-83.9455640476, 34.08555339)                4            1   \n",
       "4  (-83.9455640476, 34.08555339)                4            1   \n",
       "\n",
       "   location_order  WO Status_order  \n",
       "0               4                3  \n",
       "1               4                3  \n",
       "2               4                3  \n",
       "3               4                3  \n",
       "4               4                3  \n",
       "\n",
       "[5 rows x 27 columns]"
      ]
     },
     "execution_count": 23,
     "metadata": {},
     "output_type": "execute_result"
    }
   ],
   "source": [
    "\n",
    "df_wo3.head(5)"
   ]
  },
  {
   "cell_type": "code",
   "execution_count": 24,
   "id": "56cd74d3-3b9b-47d4-8a1e-9e6c39fec8c3",
   "metadata": {},
   "outputs": [
    {
     "name": "stdout",
     "output_type": "stream",
     "text": [
      "356249\n",
      "204152\n"
     ]
    }
   ],
   "source": [
    "#check length\n",
    "print(len(df_wo))\n",
    "print(len(df_wo3))"
   ]
  },
  {
   "cell_type": "code",
   "execution_count": 25,
   "id": "5cc4d39e-1dcd-441d-a293-c6666281aa2c",
   "metadata": {},
   "outputs": [
    {
     "data": {
      "text/plain": [
       "['Site ID',\n",
       " 'Asset Number',\n",
       " 'Asset Description',\n",
       " 'assettype',\n",
       " 'assetcriticality',\n",
       " 'installdate',\n",
       " 'location',\n",
       " 'WO Number',\n",
       " 'WO Description',\n",
       " 'reportdate',\n",
       " 'WO Status',\n",
       " 'WO Type',\n",
       " 'WO Priority',\n",
       " 'Labor Hours',\n",
       " 'Labor Cost',\n",
       " 'Material Cost',\n",
       " 'Work Order Cost',\n",
       " 'pump station',\n",
       " 'long',\n",
       " 'lat',\n",
       " 'Pump_Identifier',\n",
       " 'Pump Station Address Final',\n",
       " 'long_lat',\n",
       " 'assettype_order',\n",
       " 'WOType_Order',\n",
       " 'location_order',\n",
       " 'WO Status_order']"
      ]
     },
     "execution_count": 25,
     "metadata": {},
     "output_type": "execute_result"
    }
   ],
   "source": [
    "df_wo3.columns.tolist()"
   ]
  },
  {
   "cell_type": "code",
   "execution_count": 26,
   "id": "a21de23c",
   "metadata": {},
   "outputs": [],
   "source": [
    "##subset using relevant columns only\n",
    "\n",
    "# y = WO Priority\n",
    "\n",
    "df_new = df_wo3[[\n",
    "#'Site ID',\n",
    " #'Asset Number',\n",
    " #'Asset Description',\n",
    " #'assettype',\n",
    " 'WO Priority',\n",
    " #'location',\n",
    " 'assetcriticality',\n",
    " #'installdate',\n",
    " #'WO Number',\n",
    " #'WO Description',\n",
    " #'reportdate',\n",
    " #'WO Status',\n",
    " #'WO Type',\n",
    " 'Labor Hours',\n",
    " 'Labor Cost',\n",
    " 'Material Cost',\n",
    " 'Work Order Cost',\n",
    " 'assettype_order',\n",
    " 'WOType_Order',\n",
    " 'location_order',\n",
    " 'WO Status_order'\n",
    "    ]]"
   ]
  },
  {
   "cell_type": "code",
   "execution_count": 27,
   "id": "564e4e99-79d8-4254-aac3-68ff83c59107",
   "metadata": {},
   "outputs": [
    {
     "data": {
      "text/html": [
       "<div>\n",
       "<style scoped>\n",
       "    .dataframe tbody tr th:only-of-type {\n",
       "        vertical-align: middle;\n",
       "    }\n",
       "\n",
       "    .dataframe tbody tr th {\n",
       "        vertical-align: top;\n",
       "    }\n",
       "\n",
       "    .dataframe thead th {\n",
       "        text-align: right;\n",
       "    }\n",
       "</style>\n",
       "<table border=\"1\" class=\"dataframe\">\n",
       "  <thead>\n",
       "    <tr style=\"text-align: right;\">\n",
       "      <th></th>\n",
       "      <th>WO Priority</th>\n",
       "      <th>assetcriticality</th>\n",
       "      <th>Labor Hours</th>\n",
       "      <th>Labor Cost</th>\n",
       "      <th>Material Cost</th>\n",
       "      <th>Work Order Cost</th>\n",
       "      <th>assettype_order</th>\n",
       "      <th>WOType_Order</th>\n",
       "      <th>location_order</th>\n",
       "      <th>WO Status_order</th>\n",
       "    </tr>\n",
       "  </thead>\n",
       "  <tbody>\n",
       "    <tr>\n",
       "      <th>0</th>\n",
       "      <td>3.0</td>\n",
       "      <td>5.0</td>\n",
       "      <td>1.25</td>\n",
       "      <td>39.43</td>\n",
       "      <td>0.0</td>\n",
       "      <td>39.43</td>\n",
       "      <td>4</td>\n",
       "      <td>1</td>\n",
       "      <td>4</td>\n",
       "      <td>3</td>\n",
       "    </tr>\n",
       "    <tr>\n",
       "      <th>1</th>\n",
       "      <td>3.0</td>\n",
       "      <td>5.0</td>\n",
       "      <td>0.00</td>\n",
       "      <td>0.00</td>\n",
       "      <td>0.0</td>\n",
       "      <td>0.00</td>\n",
       "      <td>4</td>\n",
       "      <td>1</td>\n",
       "      <td>4</td>\n",
       "      <td>3</td>\n",
       "    </tr>\n",
       "    <tr>\n",
       "      <th>2</th>\n",
       "      <td>3.0</td>\n",
       "      <td>5.0</td>\n",
       "      <td>1.00</td>\n",
       "      <td>34.06</td>\n",
       "      <td>0.0</td>\n",
       "      <td>34.06</td>\n",
       "      <td>4</td>\n",
       "      <td>1</td>\n",
       "      <td>4</td>\n",
       "      <td>3</td>\n",
       "    </tr>\n",
       "    <tr>\n",
       "      <th>3</th>\n",
       "      <td>3.0</td>\n",
       "      <td>5.0</td>\n",
       "      <td>0.00</td>\n",
       "      <td>0.00</td>\n",
       "      <td>0.0</td>\n",
       "      <td>0.00</td>\n",
       "      <td>4</td>\n",
       "      <td>1</td>\n",
       "      <td>4</td>\n",
       "      <td>3</td>\n",
       "    </tr>\n",
       "    <tr>\n",
       "      <th>4</th>\n",
       "      <td>3.0</td>\n",
       "      <td>5.0</td>\n",
       "      <td>1.00</td>\n",
       "      <td>34.06</td>\n",
       "      <td>0.0</td>\n",
       "      <td>34.06</td>\n",
       "      <td>4</td>\n",
       "      <td>1</td>\n",
       "      <td>4</td>\n",
       "      <td>3</td>\n",
       "    </tr>\n",
       "  </tbody>\n",
       "</table>\n",
       "</div>"
      ],
      "text/plain": [
       "   WO Priority  assetcriticality  Labor Hours  Labor Cost  Material Cost  \\\n",
       "0          3.0               5.0         1.25       39.43            0.0   \n",
       "1          3.0               5.0         0.00        0.00            0.0   \n",
       "2          3.0               5.0         1.00       34.06            0.0   \n",
       "3          3.0               5.0         0.00        0.00            0.0   \n",
       "4          3.0               5.0         1.00       34.06            0.0   \n",
       "\n",
       "   Work Order Cost  assettype_order  WOType_Order  location_order  \\\n",
       "0            39.43                4             1               4   \n",
       "1             0.00                4             1               4   \n",
       "2            34.06                4             1               4   \n",
       "3             0.00                4             1               4   \n",
       "4            34.06                4             1               4   \n",
       "\n",
       "   WO Status_order  \n",
       "0                3  \n",
       "1                3  \n",
       "2                3  \n",
       "3                3  \n",
       "4                3  "
      ]
     },
     "execution_count": 27,
     "metadata": {},
     "output_type": "execute_result"
    }
   ],
   "source": [
    "df_new.head(5)"
   ]
  },
  {
   "cell_type": "code",
   "execution_count": 28,
   "id": "1fec0c7e-a21d-43b9-a55c-e190e96b5ec5",
   "metadata": {},
   "outputs": [
    {
     "data": {
      "text/plain": [
       "WO Priority         float64\n",
       "assetcriticality    float64\n",
       "Labor Hours         float64\n",
       "Labor Cost          float64\n",
       "Material Cost       float64\n",
       "Work Order Cost     float64\n",
       "assettype_order       int64\n",
       "WOType_Order          int64\n",
       "location_order        int64\n",
       "WO Status_order       int64\n",
       "dtype: object"
      ]
     },
     "execution_count": 28,
     "metadata": {},
     "output_type": "execute_result"
    }
   ],
   "source": [
    "df_new.dtypes"
   ]
  },
  {
   "cell_type": "code",
   "execution_count": 29,
   "id": "a37baf01-48e3-4af6-beab-f3e9dfa34d60",
   "metadata": {},
   "outputs": [
    {
     "name": "stdout",
     "output_type": "stream",
     "text": [
      "[5. 4. 3. 2. 1.]\n",
      "[ 1  3  4  5 11  8  2  9  6  7 12 14 13 15 10 16 18 19 17]\n",
      "[3. 1. 2. 4. 5.]\n",
      "[ 3  4  2  5  9 13  1 15 11 12  6 16 10 14  7  8]\n",
      "[  4  12  20  27   6  16  19  30   5  10  17  26   8  28  21  24  31   2\n",
      "   9  15  40  42  34  14   7  36  44  38  13   3  52  54  56  57  59  60\n",
      "  18  48  46  37  61  23  77  41  70  45  65  78  50  29  62  63  22  68\n",
      "  85  25  66 100  47 101  93  90  53  39  32 106 105 107  55  79  69  74\n",
      "  75  49  80  88  96  81  82  67  94  72  71  83]\n"
     ]
    }
   ],
   "source": [
    "print(df_new['assetcriticality'].unique())\n",
    "print(df_new['WOType_Order'].unique())\n",
    "print(df_new['WO Priority'].unique())\n",
    "print(df_new['WO Status_order'].unique())\n",
    "print(df_new['assettype_order'].unique())"
   ]
  },
  {
   "cell_type": "code",
   "execution_count": 20,
   "id": "c11cc39a",
   "metadata": {},
   "outputs": [],
   "source": [
    "##creating training and testing datasets \n",
    "\n",
    "x_data = df_new.drop(['WO Priority'], axis=1)\n",
    "y_data = df_new['WO Priority']\n",
    " \n",
    "\n",
    "\n",
    "x_train, x_test, y_train, y_test = train_test_split(x_data, y_data, test_size = 0.30, \n",
    "                                                            shuffle = True, random_state=614)\n",
    "       \n",
    "\n",
    "    \n",
    "##scale training datasets\n",
    "\n",
    "scaler = StandardScaler()\n",
    "scaler.fit(x_train)\n",
    "scaled_x_train = scaler.transform(x_train)\n",
    "scaled_x_test = scaler.transform(x_test)\n",
    "\n",
    "    \n",
    "#print(x_data)\n",
    "#print(y_data)"
   ]
  },
  {
   "cell_type": "code",
   "execution_count": 23,
   "id": "c011e22a-7c8c-44b1-b359-c75c82f5ddb8",
   "metadata": {
    "scrolled": true
   },
   "outputs": [
    {
     "data": {
      "text/html": [
       "<div>\n",
       "<style scoped>\n",
       "    .dataframe tbody tr th:only-of-type {\n",
       "        vertical-align: middle;\n",
       "    }\n",
       "\n",
       "    .dataframe tbody tr th {\n",
       "        vertical-align: top;\n",
       "    }\n",
       "\n",
       "    .dataframe thead th {\n",
       "        text-align: right;\n",
       "    }\n",
       "</style>\n",
       "<table border=\"1\" class=\"dataframe\">\n",
       "  <thead>\n",
       "    <tr style=\"text-align: right;\">\n",
       "      <th></th>\n",
       "      <th>WO Priority</th>\n",
       "      <th>count</th>\n",
       "    </tr>\n",
       "  </thead>\n",
       "  <tbody>\n",
       "    <tr>\n",
       "      <th>0</th>\n",
       "      <td>3.0</td>\n",
       "      <td>311169</td>\n",
       "    </tr>\n",
       "    <tr>\n",
       "      <th>1</th>\n",
       "      <td>1.0</td>\n",
       "      <td>13914</td>\n",
       "    </tr>\n",
       "    <tr>\n",
       "      <th>2</th>\n",
       "      <td>2.0</td>\n",
       "      <td>12421</td>\n",
       "    </tr>\n",
       "    <tr>\n",
       "      <th>3</th>\n",
       "      <td>4.0</td>\n",
       "      <td>3365</td>\n",
       "    </tr>\n",
       "    <tr>\n",
       "      <th>4</th>\n",
       "      <td>5.0</td>\n",
       "      <td>488</td>\n",
       "    </tr>\n",
       "    <tr>\n",
       "      <th>5</th>\n",
       "      <td>0.0</td>\n",
       "      <td>351</td>\n",
       "    </tr>\n",
       "  </tbody>\n",
       "</table>\n",
       "</div>"
      ],
      "text/plain": [
       "   WO Priority   count\n",
       "0          3.0  311169\n",
       "1          1.0   13914\n",
       "2          2.0   12421\n",
       "3          4.0    3365\n",
       "4          5.0     488\n",
       "5          0.0     351"
      ]
     },
     "execution_count": 23,
     "metadata": {},
     "output_type": "execute_result"
    }
   ],
   "source": [
    "#check the y values stats..class imbalanace issye since most belong to class 3\n",
    "\n",
    "df_new.groupby('WO Priority')['WO Priority'].count() \\\n",
    "                                    .reset_index(name='count') \\\n",
    "                                    .sort_values(['count'], ascending=False)\\\n",
    "                                    .reset_index(drop = True)"
   ]
  },
  {
   "cell_type": "markdown",
   "id": "7e56abb7-912c-4d8c-ab96-71a535334467",
   "metadata": {},
   "source": [
    "# Fit Models"
   ]
  },
  {
   "cell_type": "markdown",
   "id": "6183e031",
   "metadata": {},
   "source": [
    "## KNN ##"
   ]
  },
  {
   "cell_type": "code",
   "execution_count": 26,
   "id": "a69022b1",
   "metadata": {},
   "outputs": [
    {
     "data": {
      "text/html": [
       "<style>#sk-container-id-2 {color: black;}#sk-container-id-2 pre{padding: 0;}#sk-container-id-2 div.sk-toggleable {background-color: white;}#sk-container-id-2 label.sk-toggleable__label {cursor: pointer;display: block;width: 100%;margin-bottom: 0;padding: 0.3em;box-sizing: border-box;text-align: center;}#sk-container-id-2 label.sk-toggleable__label-arrow:before {content: \"▸\";float: left;margin-right: 0.25em;color: #696969;}#sk-container-id-2 label.sk-toggleable__label-arrow:hover:before {color: black;}#sk-container-id-2 div.sk-estimator:hover label.sk-toggleable__label-arrow:before {color: black;}#sk-container-id-2 div.sk-toggleable__content {max-height: 0;max-width: 0;overflow: hidden;text-align: left;background-color: #f0f8ff;}#sk-container-id-2 div.sk-toggleable__content pre {margin: 0.2em;color: black;border-radius: 0.25em;background-color: #f0f8ff;}#sk-container-id-2 input.sk-toggleable__control:checked~div.sk-toggleable__content {max-height: 200px;max-width: 100%;overflow: auto;}#sk-container-id-2 input.sk-toggleable__control:checked~label.sk-toggleable__label-arrow:before {content: \"▾\";}#sk-container-id-2 div.sk-estimator input.sk-toggleable__control:checked~label.sk-toggleable__label {background-color: #d4ebff;}#sk-container-id-2 div.sk-label input.sk-toggleable__control:checked~label.sk-toggleable__label {background-color: #d4ebff;}#sk-container-id-2 input.sk-hidden--visually {border: 0;clip: rect(1px 1px 1px 1px);clip: rect(1px, 1px, 1px, 1px);height: 1px;margin: -1px;overflow: hidden;padding: 0;position: absolute;width: 1px;}#sk-container-id-2 div.sk-estimator {font-family: monospace;background-color: #f0f8ff;border: 1px dotted black;border-radius: 0.25em;box-sizing: border-box;margin-bottom: 0.5em;}#sk-container-id-2 div.sk-estimator:hover {background-color: #d4ebff;}#sk-container-id-2 div.sk-parallel-item::after {content: \"\";width: 100%;border-bottom: 1px solid gray;flex-grow: 1;}#sk-container-id-2 div.sk-label:hover label.sk-toggleable__label {background-color: #d4ebff;}#sk-container-id-2 div.sk-serial::before {content: \"\";position: absolute;border-left: 1px solid gray;box-sizing: border-box;top: 0;bottom: 0;left: 50%;z-index: 0;}#sk-container-id-2 div.sk-serial {display: flex;flex-direction: column;align-items: center;background-color: white;padding-right: 0.2em;padding-left: 0.2em;position: relative;}#sk-container-id-2 div.sk-item {position: relative;z-index: 1;}#sk-container-id-2 div.sk-parallel {display: flex;align-items: stretch;justify-content: center;background-color: white;position: relative;}#sk-container-id-2 div.sk-item::before, #sk-container-id-2 div.sk-parallel-item::before {content: \"\";position: absolute;border-left: 1px solid gray;box-sizing: border-box;top: 0;bottom: 0;left: 50%;z-index: -1;}#sk-container-id-2 div.sk-parallel-item {display: flex;flex-direction: column;z-index: 1;position: relative;background-color: white;}#sk-container-id-2 div.sk-parallel-item:first-child::after {align-self: flex-end;width: 50%;}#sk-container-id-2 div.sk-parallel-item:last-child::after {align-self: flex-start;width: 50%;}#sk-container-id-2 div.sk-parallel-item:only-child::after {width: 0;}#sk-container-id-2 div.sk-dashed-wrapped {border: 1px dashed gray;margin: 0 0.4em 0.5em 0.4em;box-sizing: border-box;padding-bottom: 0.4em;background-color: white;}#sk-container-id-2 div.sk-label label {font-family: monospace;font-weight: bold;display: inline-block;line-height: 1.2em;}#sk-container-id-2 div.sk-label-container {text-align: center;}#sk-container-id-2 div.sk-container {/* jupyter's `normalize.less` sets `[hidden] { display: none; }` but bootstrap.min.css set `[hidden] { display: none !important; }` so we also need the `!important` here to be able to override the default hidden behavior on the sphinx rendered scikit-learn.org. See: https://github.com/scikit-learn/scikit-learn/issues/21755 */display: inline-block !important;position: relative;}#sk-container-id-2 div.sk-text-repr-fallback {display: none;}</style><div id=\"sk-container-id-2\" class=\"sk-top-container\"><div class=\"sk-text-repr-fallback\"><pre>KNeighborsClassifier(metric=&#x27;manhattan&#x27;, n_neighbors=6)</pre><b>In a Jupyter environment, please rerun this cell to show the HTML representation or trust the notebook. <br />On GitHub, the HTML representation is unable to render, please try loading this page with nbviewer.org.</b></div><div class=\"sk-container\" hidden><div class=\"sk-item\"><div class=\"sk-estimator sk-toggleable\"><input class=\"sk-toggleable__control sk-hidden--visually\" id=\"sk-estimator-id-2\" type=\"checkbox\" checked><label for=\"sk-estimator-id-2\" class=\"sk-toggleable__label sk-toggleable__label-arrow\">KNeighborsClassifier</label><div class=\"sk-toggleable__content\"><pre>KNeighborsClassifier(metric=&#x27;manhattan&#x27;, n_neighbors=6)</pre></div></div></div></div></div>"
      ],
      "text/plain": [
       "KNeighborsClassifier(metric='manhattan', n_neighbors=6)"
      ]
     },
     "execution_count": 26,
     "metadata": {},
     "output_type": "execute_result"
    }
   ],
   "source": [
    "# https://stats.stackexchange.com/questions/534999/why-is-k-sqrtn-a-good-solution-of-the-number-of-neighbors-to-consider\n",
    "\n",
    "k = 6 #using the exisiting # of priorities \n",
    "\n",
    "classifier = KNeighborsClassifier(n_neighbors = k, metric='manhattan')\n",
    "classifier.fit(scaled_x_train, y_train)"
   ]
  },
  {
   "cell_type": "code",
   "execution_count": 27,
   "id": "f5709b1f",
   "metadata": {},
   "outputs": [],
   "source": [
    "#predict on new dataset\n",
    "\n",
    "y_pred = classifier.predict(scaled_x_test)\n",
    "\n",
    "cm = confusion_matrix(y_test, y_pred, labels=classifier.classes_)\n",
    "ac = accuracy_score(y_test, y_pred)"
   ]
  },
  {
   "cell_type": "code",
   "execution_count": 28,
   "id": "36cfe5d5",
   "metadata": {},
   "outputs": [
    {
     "name": "stdout",
     "output_type": "stream",
     "text": [
      "[0. 1. 2. 3. 4. 5.]\n"
     ]
    }
   ],
   "source": [
    "print(classifier.classes_)"
   ]
  },
  {
   "cell_type": "code",
   "execution_count": 29,
   "id": "68c173a2",
   "metadata": {
    "scrolled": true
   },
   "outputs": [
    {
     "name": "stdout",
     "output_type": "stream",
     "text": [
      "6\n"
     ]
    },
    {
     "data": {
      "image/png": "[encoded data removed]",
      "text/plain": [
       "<Figure size 640x480 with 2 Axes>"
      ]
     },
     "metadata": {},
     "output_type": "display_data"
    },
    {
     "name": "stdout",
     "output_type": "stream",
     "text": [
      "0.9385931540389999\n"
     ]
    }
   ],
   "source": [
    "print(k)\n",
    "\n",
    "disp = ConfusionMatrixDisplay(confusion_matrix=cm,\n",
    "                               display_labels=classifier.classes_)\n",
    "disp.plot()\n",
    "plt.show()\n",
    "print(ac)"
   ]
  },
  {
   "cell_type": "code",
   "execution_count": 30,
   "id": "e5f3fc8f",
   "metadata": {},
   "outputs": [
    {
     "name": "stdout",
     "output_type": "stream",
     "text": [
      "Classification Metrics:\n",
      "   precision    recall  f1-score  support\n",
      "0   0.817308  0.817308  0.817308    104.0\n",
      "1   0.622724  0.760271  0.684657   4138.0\n",
      "2   0.439024  0.387360  0.411577   3671.0\n",
      "3   0.974828  0.977374  0.976099  93432.0\n",
      "4   0.566910  0.227539  0.324739   1024.0\n",
      "5   0.451613  0.097222  0.160000    144.0\n"
     ]
    }
   ],
   "source": [
    "# calculate classification metrics\n",
    "df_rpt = pd.DataFrame(precision_recall_fscore_support(y_test,y_pred)).transpose()\n",
    "df_rpt.columns = columns=[\"precision\",\"recall\",\"f1-score\",\"support\"]\n",
    "print(\"Classification Metrics:\")\n",
    "print(df_rpt)\n"
   ]
  },
  {
   "cell_type": "code",
   "execution_count": 31,
   "id": "06949707",
   "metadata": {},
   "outputs": [
    {
     "name": "stdout",
     "output_type": "stream",
     "text": [
      "Balanced accuracy: 0.544512325074858\n"
     ]
    }
   ],
   "source": [
    "#balance accuracy is way less than regular accuracy. Therefore, it is a better metric to evaluate the model in case of imbalance.\n",
    "\n",
    "balanced_acc = balanced_accuracy_score(y_test, y_pred)\n",
    "\n",
    "print('Balanced accuracy:', balanced_acc)\n"
   ]
  },
  {
   "cell_type": "markdown",
   "id": "f9d83b0a-18be-4e5f-a253-bc56866136f0",
   "metadata": {},
   "source": [
    "# Handle class imbalance "
   ]
  },
  {
   "cell_type": "code",
   "execution_count": null,
   "id": "f42e8b01-413d-47e3-b42a-b2258b2a40ad",
   "metadata": {},
   "outputs": [],
   "source": [
    "#https://medium.com/mlearning-ai/handling-class-imbalance-in-machine-learning-cb1473e825ce\n",
    "#https://imbalanced-learn.org/stable/ensemble.html\n",
    "#https://eqibuana.medium.com/how-to-deal-with-imbalanced-data-in-classification-tasks-1046e5be0e0"
   ]
  },
  {
   "cell_type": "markdown",
   "id": "bcfb61b0-23a9-4ee8-ae40-70fa0209b27b",
   "metadata": {},
   "source": [
    "## fit KNN models below using either undersample or oversample at a time"
   ]
  },
  {
   "cell_type": "markdown",
   "id": "8dc66b50-bacb-4b97-8cb3-07b49d4fcb0c",
   "metadata": {},
   "source": [
    "## 1) undersample"
   ]
  },
  {
   "cell_type": "code",
   "execution_count": null,
   "id": "0646cae4-4ec5-4cc4-8d80-e87a76c0f58f",
   "metadata": {},
   "outputs": [],
   "source": [
    "#Apply RandomUnderSampler to the training data and testing datasets "
   ]
  },
  {
   "cell_type": "code",
   "execution_count": 34,
   "id": "2f3f59be",
   "metadata": {},
   "outputs": [
    {
     "data": {
      "image/png": "[encoded data removed]",
      "text/plain": [
       "<Figure size 640x480 with 1 Axes>"
      ]
     },
     "metadata": {},
     "output_type": "display_data"
    }
   ],
   "source": [
    "rus = RandomUnderSampler(random_state=42)\n",
    "X_train_resampled, y_train_resampled = rus.fit_resample(scaled_x_train, y_train)\n",
    "\n",
    "# plot the new distribution\n",
    "unique, counts = np.unique(y_train_resampled, return_counts=True)\n",
    "plt.bar(unique, counts)\n",
    "plt.xticks([0, 1, 2, 3, 4, 5], ['0', '1','2','3','4','5'])\n",
    "plt.ylabel('Number of Instances')\n",
    "plt.show()"
   ]
  },
  {
   "cell_type": "code",
   "execution_count": 37,
   "id": "6d136a20-efd0-4034-a34c-90268ce66239",
   "metadata": {},
   "outputs": [
    {
     "data": {
      "text/plain": [
       "((1482, 9), (1482,))"
      ]
     },
     "execution_count": 37,
     "metadata": {},
     "output_type": "execute_result"
    }
   ],
   "source": [
    "X_train_resampled.shape, y_train_resampled.shape"
   ]
  },
  {
   "cell_type": "code",
   "execution_count": 35,
   "id": "4d9d2f69-ad83-41cd-b71c-1dd79033c5dc",
   "metadata": {},
   "outputs": [
    {
     "data": {
      "image/png": "[encoded data removed]",
      "text/plain": [
       "<Figure size 640x480 with 1 Axes>"
      ]
     },
     "metadata": {},
     "output_type": "display_data"
    }
   ],
   "source": [
    "rus = RandomUnderSampler(random_state=42)\n",
    "X_test_resampled, y_test_resampled = rus.fit_resample(scaled_x_test, y_test)\n",
    "\n",
    "# plot the new distribution\n",
    "unique, counts = np.unique(y_test_resampled, return_counts=True)\n",
    "plt.bar(unique, counts)\n",
    "plt.xticks([0, 1, 2, 3, 4, 5], ['0', '1','2','3','4','5'])\n",
    "plt.ylabel('Number of Instances')\n",
    "plt.show()"
   ]
  },
  {
   "cell_type": "code",
   "execution_count": 38,
   "id": "d5e68eb8-67ac-4baf-adc7-474b532e3725",
   "metadata": {},
   "outputs": [
    {
     "data": {
      "text/plain": [
       "((624, 9), (624,))"
      ]
     },
     "execution_count": 38,
     "metadata": {},
     "output_type": "execute_result"
    }
   ],
   "source": [
    "X_test_resampled.shape, y_test_resampled.shape"
   ]
  },
  {
   "cell_type": "markdown",
   "id": "e24b3407-684a-4019-8181-db3f11d15fee",
   "metadata": {},
   "source": [
    "## 2) oversample"
   ]
  },
  {
   "cell_type": "code",
   "execution_count": 33,
   "id": "f86ca575-0a6c-4c6b-b6ac-aae77fb8963e",
   "metadata": {},
   "outputs": [],
   "source": [
    "#Apply SMOTE oversampling to the training data and testing datasets "
   ]
  },
  {
   "cell_type": "code",
   "execution_count": 73,
   "id": "a86d2c3d-c1a7-4fe4-ba62-8444fb875346",
   "metadata": {},
   "outputs": [],
   "source": [
    "from imblearn.over_sampling import SMOTE\n",
    "from collections import Counter\n",
    "import numpy as np\n",
    "\n",
    "# Assuming 'scaled_x_train' and 'y_train' are your original training data\n",
    "\n",
    "# Step 1: Apply SMOTE oversampling to the training data\n",
    "sm = SMOTE(random_state=42)\n",
    "X_train_resampled, y_train_resampled = sm.fit_resample(scaled_x_train, y_train)\n",
    "\n",
    "# Step 2: Subset the resampled data to 15,000 rows for each class, totaling 100,000 rows\n",
    "total_subset_size = 200000\n",
    "subset_size_per_class = 30000\n",
    "\n",
    "# Get unique classes and their counts after oversampling\n",
    "counter = Counter(y_train_resampled)\n",
    "\n",
    "# Initialize empty lists to store subsets\n",
    "subsets_X = []\n",
    "subsets_y = []\n",
    "\n",
    "# Shuffle indices for each class\n",
    "for cls in range(6):  # Assuming classes range from 0 to 5\n",
    "    indices_cls = np.where(y_train_resampled == cls)[0]\n",
    "    np.random.shuffle(indices_cls)\n",
    "\n",
    "    # Take subset_size_per_class indices for each class\n",
    "    indices = indices_cls[:subset_size_per_class]\n",
    "\n",
    "    # Store the subset for the current class\n",
    "    subsets_X.append(X_train_resampled[indices])\n",
    "    subsets_y.append(y_train_resampled[indices])\n",
    "\n",
    "# Concatenate subsets for all classes\n",
    "X_train_resampled = np.concatenate(subsets_X)\n",
    "y_train_resampled = np.concatenate(subsets_y)\n",
    "\n",
    "# Now, X_subset and y_subset contain 15,000 rows for each class, totaling 100,000 rows after oversampling\n"
   ]
  },
  {
   "cell_type": "code",
   "execution_count": 74,
   "id": "c9662d8f-d31b-4915-8da4-00264e2cdb8a",
   "metadata": {},
   "outputs": [
    {
     "data": {
      "image/png": "[encoded data removed]",
      "text/plain": [
       "<Figure size 640x480 with 1 Axes>"
      ]
     },
     "metadata": {},
     "output_type": "display_data"
    }
   ],
   "source": [
    "# plot the new distribution\n",
    "unique, counts = np.unique(y_train_resampled, return_counts=True)\n",
    "plt.bar(unique, counts)\n",
    "plt.xticks([0, 1, 2, 3, 4, 5], ['0', '1','2','3','4','5'])\n",
    "plt.ylabel('Number of Instances')\n",
    "plt.show()"
   ]
  },
  {
   "cell_type": "code",
   "execution_count": 75,
   "id": "1fdc9dad-61f8-4ad8-bdd9-c349b76bbb98",
   "metadata": {},
   "outputs": [
    {
     "data": {
      "text/plain": [
       "((180000, 9), (180000,))"
      ]
     },
     "execution_count": 75,
     "metadata": {},
     "output_type": "execute_result"
    }
   ],
   "source": [
    "X_train_resampled.shape, y_train_resampled.shape"
   ]
  },
  {
   "cell_type": "code",
   "execution_count": 76,
   "id": "f2e1400f-5c46-4a9a-bc26-7d65eb29c233",
   "metadata": {},
   "outputs": [],
   "source": [
    "\n",
    "from imblearn.over_sampling import SMOTE\n",
    "from collections import Counter\n",
    "import numpy as np\n",
    "\n",
    "# Assuming 'scaled_x_test' and 'y_test' are your original test data\n",
    "\n",
    "# Step 1: Apply SMOTE oversampling to the test data\n",
    "sm = SMOTE(random_state=42)\n",
    "X_test_resampled, y_test_resampled = sm.fit_resample(scaled_x_test, y_test)\n",
    "\n",
    "# Step 2: Subset the resampled data to 16,000 rows for each class, totaling 100,000 rows\n",
    "total_subset_size = 200000\n",
    "subset_size_per_class = 30000\n",
    "\n",
    "# Get unique classes and their counts after oversampling\n",
    "counter = Counter(y_test_resampled)\n",
    "\n",
    "# Initialize empty lists to store subsets\n",
    "subsets_X = []\n",
    "subsets_y = []\n",
    "\n",
    "# Shuffle indices for each class\n",
    "for cls in range(6):  # Assuming classes range from 0 to 5\n",
    "    indices_cls = np.where(y_test_resampled == cls)[0]\n",
    "    np.random.shuffle(indices_cls)\n",
    "\n",
    "    # Take subset_size_per_class indices for each class\n",
    "    indices = indices_cls[:subset_size_per_class]\n",
    "\n",
    "    # Store the subset for the current class\n",
    "    subsets_X.append(X_test_resampled[indices])\n",
    "    subsets_y.append(y_test_resampled[indices])\n",
    "\n",
    "# Concatenate subsets for all classes\n",
    "X_test_resampled = np.concatenate(subsets_X)\n",
    "y_test_resampled = np.concatenate(subsets_y)\n",
    "\n",
    "# Now, X_test_resampled and y_test_resampled contain 16,000 rows for each class, totaling 100,000 rows after oversampling\n"
   ]
  },
  {
   "cell_type": "code",
   "execution_count": 77,
   "id": "0563be91-823b-48a1-9849-39e33db69932",
   "metadata": {},
   "outputs": [
    {
     "data": {
      "image/png": "[encoded data removed]",
      "text/plain": [
       "<Figure size 640x480 with 1 Axes>"
      ]
     },
     "metadata": {},
     "output_type": "display_data"
    }
   ],
   "source": [
    "# plot the new distribution\n",
    "unique, counts = np.unique(y_test_resampled, return_counts=True)\n",
    "plt.bar(unique, counts)\n",
    "plt.xticks([0, 1, 2, 3, 4, 5], ['0', '1','2','3','4','5'])\n",
    "plt.ylabel('Number of Instances')\n",
    "plt.show()"
   ]
  },
  {
   "cell_type": "code",
   "execution_count": 78,
   "id": "7b5bd632-f038-45dc-b3b2-2b2952165c4c",
   "metadata": {},
   "outputs": [
    {
     "data": {
      "text/plain": [
       "((180000, 9), (180000,))"
      ]
     },
     "execution_count": 78,
     "metadata": {},
     "output_type": "execute_result"
    }
   ],
   "source": [
    "X_test_resampled.shape, y_test_resampled.shape"
   ]
  },
  {
   "cell_type": "markdown",
   "id": "00afc8f2-5de5-427f-8043-91ec4626d466",
   "metadata": {},
   "source": [
    "## 1) fit KNN again"
   ]
  },
  {
   "cell_type": "markdown",
   "id": "e93a74f1-0d12-4da1-818d-c91a973b97b1",
   "metadata": {},
   "source": [
    "### Fitting KNN models again with either oversamples or undersamples"
   ]
  },
  {
   "cell_type": "code",
   "execution_count": 54,
   "id": "3b879491-56ec-4949-9ab9-3ba449cf9321",
   "metadata": {},
   "outputs": [
    {
     "data": {
      "text/html": [
       "<style>#sk-container-id-4 {color: black;}#sk-container-id-4 pre{padding: 0;}#sk-container-id-4 div.sk-toggleable {background-color: white;}#sk-container-id-4 label.sk-toggleable__label {cursor: pointer;display: block;width: 100%;margin-bottom: 0;padding: 0.3em;box-sizing: border-box;text-align: center;}#sk-container-id-4 label.sk-toggleable__label-arrow:before {content: \"▸\";float: left;margin-right: 0.25em;color: #696969;}#sk-container-id-4 label.sk-toggleable__label-arrow:hover:before {color: black;}#sk-container-id-4 div.sk-estimator:hover label.sk-toggleable__label-arrow:before {color: black;}#sk-container-id-4 div.sk-toggleable__content {max-height: 0;max-width: 0;overflow: hidden;text-align: left;background-color: #f0f8ff;}#sk-container-id-4 div.sk-toggleable__content pre {margin: 0.2em;color: black;border-radius: 0.25em;background-color: #f0f8ff;}#sk-container-id-4 input.sk-toggleable__control:checked~div.sk-toggleable__content {max-height: 200px;max-width: 100%;overflow: auto;}#sk-container-id-4 input.sk-toggleable__control:checked~label.sk-toggleable__label-arrow:before {content: \"▾\";}#sk-container-id-4 div.sk-estimator input.sk-toggleable__control:checked~label.sk-toggleable__label {background-color: #d4ebff;}#sk-container-id-4 div.sk-label input.sk-toggleable__control:checked~label.sk-toggleable__label {background-color: #d4ebff;}#sk-container-id-4 input.sk-hidden--visually {border: 0;clip: rect(1px 1px 1px 1px);clip: rect(1px, 1px, 1px, 1px);height: 1px;margin: -1px;overflow: hidden;padding: 0;position: absolute;width: 1px;}#sk-container-id-4 div.sk-estimator {font-family: monospace;background-color: #f0f8ff;border: 1px dotted black;border-radius: 0.25em;box-sizing: border-box;margin-bottom: 0.5em;}#sk-container-id-4 div.sk-estimator:hover {background-color: #d4ebff;}#sk-container-id-4 div.sk-parallel-item::after {content: \"\";width: 100%;border-bottom: 1px solid gray;flex-grow: 1;}#sk-container-id-4 div.sk-label:hover label.sk-toggleable__label {background-color: #d4ebff;}#sk-container-id-4 div.sk-serial::before {content: \"\";position: absolute;border-left: 1px solid gray;box-sizing: border-box;top: 0;bottom: 0;left: 50%;z-index: 0;}#sk-container-id-4 div.sk-serial {display: flex;flex-direction: column;align-items: center;background-color: white;padding-right: 0.2em;padding-left: 0.2em;position: relative;}#sk-container-id-4 div.sk-item {position: relative;z-index: 1;}#sk-container-id-4 div.sk-parallel {display: flex;align-items: stretch;justify-content: center;background-color: white;position: relative;}#sk-container-id-4 div.sk-item::before, #sk-container-id-4 div.sk-parallel-item::before {content: \"\";position: absolute;border-left: 1px solid gray;box-sizing: border-box;top: 0;bottom: 0;left: 50%;z-index: -1;}#sk-container-id-4 div.sk-parallel-item {display: flex;flex-direction: column;z-index: 1;position: relative;background-color: white;}#sk-container-id-4 div.sk-parallel-item:first-child::after {align-self: flex-end;width: 50%;}#sk-container-id-4 div.sk-parallel-item:last-child::after {align-self: flex-start;width: 50%;}#sk-container-id-4 div.sk-parallel-item:only-child::after {width: 0;}#sk-container-id-4 div.sk-dashed-wrapped {border: 1px dashed gray;margin: 0 0.4em 0.5em 0.4em;box-sizing: border-box;padding-bottom: 0.4em;background-color: white;}#sk-container-id-4 div.sk-label label {font-family: monospace;font-weight: bold;display: inline-block;line-height: 1.2em;}#sk-container-id-4 div.sk-label-container {text-align: center;}#sk-container-id-4 div.sk-container {/* jupyter's `normalize.less` sets `[hidden] { display: none; }` but bootstrap.min.css set `[hidden] { display: none !important; }` so we also need the `!important` here to be able to override the default hidden behavior on the sphinx rendered scikit-learn.org. See: https://github.com/scikit-learn/scikit-learn/issues/21755 */display: inline-block !important;position: relative;}#sk-container-id-4 div.sk-text-repr-fallback {display: none;}</style><div id=\"sk-container-id-4\" class=\"sk-top-container\"><div class=\"sk-text-repr-fallback\"><pre>KNeighborsClassifier(metric=&#x27;manhattan&#x27;, n_neighbors=6)</pre><b>In a Jupyter environment, please rerun this cell to show the HTML representation or trust the notebook. <br />On GitHub, the HTML representation is unable to render, please try loading this page with nbviewer.org.</b></div><div class=\"sk-container\" hidden><div class=\"sk-item\"><div class=\"sk-estimator sk-toggleable\"><input class=\"sk-toggleable__control sk-hidden--visually\" id=\"sk-estimator-id-4\" type=\"checkbox\" checked><label for=\"sk-estimator-id-4\" class=\"sk-toggleable__label sk-toggleable__label-arrow\">KNeighborsClassifier</label><div class=\"sk-toggleable__content\"><pre>KNeighborsClassifier(metric=&#x27;manhattan&#x27;, n_neighbors=6)</pre></div></div></div></div></div>"
      ],
      "text/plain": [
       "KNeighborsClassifier(metric='manhattan', n_neighbors=6)"
      ]
     },
     "execution_count": 54,
     "metadata": {},
     "output_type": "execute_result"
    }
   ],
   "source": [
    "##fit KNN again\n",
    "k=6\n",
    "\n",
    "classifier = KNeighborsClassifier(n_neighbors = k, metric='manhattan')\n",
    "classifier.fit(X_train_resampled, y_train_resampled)\n"
   ]
  },
  {
   "cell_type": "code",
   "execution_count": 55,
   "id": "db48e355-b90c-4e85-8a24-0e49a25f0f3b",
   "metadata": {},
   "outputs": [
    {
     "name": "stdout",
     "output_type": "stream",
     "text": [
      "[0. 1. 2. 3. 4. 5.]\n",
      "[[47317   171   570   760   703   479]\n",
      " [    1 37056 11405   118  1104   316]\n",
      " [   34 15127 28060   848  4474  1457]\n",
      " [   38   718  1531 46594   903   216]\n",
      " [  237  2906  9285  8391 26103  3078]\n",
      " [  490  3433  8356  2486 10671 24564]]\n",
      "0.69898\n"
     ]
    }
   ],
   "source": [
    "\n",
    "y_pred = classifier.predict(X_test_resampled)\n",
    "\n",
    "cm = confusion_matrix(y_test_resampled, y_pred, labels=classifier.classes_)\n",
    "ac = accuracy_score(y_test_resampled, y_pred)\n",
    "\n",
    "print(classifier.classes_)\n",
    "print(cm)\n",
    "print(ac)\n"
   ]
  },
  {
   "cell_type": "code",
   "execution_count": 56,
   "id": "654ccb3b-8ef1-4ad0-9db0-3fda4a325003",
   "metadata": {},
   "outputs": [
    {
     "name": "stdout",
     "output_type": "stream",
     "text": [
      "Classification Metrics:\n",
      "   precision   recall  f1-score  support\n",
      "0   0.983374  0.94634  0.964502  50000.0\n",
      "1   0.623723  0.74112  0.677372  50000.0\n",
      "2   0.473930  0.56120  0.513886  50000.0\n",
      "3   0.787101  0.93188  0.853393  50000.0\n",
      "4   0.593817  0.52206  0.555631  50000.0\n",
      "5   0.815809  0.49128  0.613257  50000.0\n"
     ]
    }
   ],
   "source": [
    "# calculate classification metrics\n",
    "df_rpt = pd.DataFrame(precision_recall_fscore_support(y_test_resampled,y_pred)).transpose()\n",
    "df_rpt.columns = columns=[\"precision\",\"recall\",\"f1-score\",\"support\"]\n",
    "print(\"Classification Metrics:\")\n",
    "print(df_rpt)\n"
   ]
  },
  {
   "cell_type": "code",
   "execution_count": 57,
   "id": "8a144edd-d11b-4aba-9ccf-97588cb450ce",
   "metadata": {},
   "outputs": [
    {
     "name": "stdout",
     "output_type": "stream",
     "text": [
      "Balanced accuracy: 0.69898\n"
     ]
    }
   ],
   "source": [
    "balanced_acc = balanced_accuracy_score(y_test_resampled, y_pred)\n",
    "\n",
    "print('Balanced accuracy:', balanced_acc)\n"
   ]
  },
  {
   "cell_type": "markdown",
   "id": "eed88272-9cbe-4352-ac0d-06bad10fc962",
   "metadata": {},
   "source": [
    "## tune hyper parameters of KNN"
   ]
  },
  {
   "cell_type": "code",
   "execution_count": 67,
   "id": "4cb9ac35-781c-40e4-b3cb-b09f441480b4",
   "metadata": {},
   "outputs": [
    {
     "name": "stdout",
     "output_type": "stream",
     "text": [
      "Best N : 1\n",
      "Best Score : 0.9245444444444445\n"
     ]
    },
    {
     "data": {
      "image/png": "[encoded data removed]",
      "text/plain": [
       "<Figure size 640x480 with 1 Axes>"
      ]
     },
     "metadata": {},
     "output_type": "display_data"
    }
   ],
   "source": [
    "cv = KFold(n_splits=10, shuffle=True, random_state=42)\n",
    "model = KNeighborsClassifier()\n",
    "neighbors = np.arange(1,15)\n",
    "params = {'n_neighbors':neighbors}\n",
    "\n",
    "grid = GridSearchCV(model,\n",
    "                    param_grid=params,\n",
    "                    cv=cv,\n",
    "                    n_jobs=-1\n",
    "                   )\n",
    "grid.fit(X_train_resampled, y_train_resampled)\n",
    "best_n = round(grid.best_params_['n_neighbors'],3)\n",
    "best_score  = grid.best_score_\n",
    "print(\"Best N : {}\".format(best_n))\n",
    "print(\"Best Score : {}\".format(best_score))\n",
    "\n",
    "\n",
    "#plot\n",
    "plt.plot(neighbors, 1-grid.cv_results_['mean_test_score'])\n",
    "plt.plot(best_n,1-best_score,marker=\"o\", color='r')\n",
    "plt.title(\"Cross-validation error curve for KNN \\n Best N : {}\".format(best_n))\n",
    "plt.xlabel(\"N\")\n",
    "plt.ylabel(\"Mean Error\")\n",
    "plt.show()\n"
   ]
  },
  {
   "cell_type": "code",
   "execution_count": 68,
   "id": "66407421-92b3-4127-bceb-5588dc977586",
   "metadata": {},
   "outputs": [
    {
     "name": "stdout",
     "output_type": "stream",
     "text": [
      "Accuracy rate from KNN : 0.6630833333333334\n"
     ]
    },
    {
     "data": {
      "image/png": "[encoded data removed]",
      "text/plain": [
       "<Figure size 640x480 with 1 Axes>"
      ]
     },
     "metadata": {},
     "output_type": "display_data"
    },
    {
     "name": "stdout",
     "output_type": "stream",
     "text": [
      "Classification Metrics:\n",
      "   precision    recall  f1-score  support\n",
      "0   0.987766  0.936567  0.961485  30000.0\n",
      "1   0.599087  0.669500  0.632340  30000.0\n",
      "2   0.453398  0.543533  0.494391  30000.0\n",
      "3   0.677906  0.940933  0.788051  30000.0\n",
      "4   0.578560  0.490233  0.530747  30000.0\n",
      "5   0.795202  0.397733  0.530252  30000.0\n"
     ]
    }
   ],
   "source": [
    "# predict using the best model\n",
    "best_model = grid.best_estimator_\n",
    "y_pred = best_model.predict(X_test_resampled)\n",
    "knn_accuracy =  accuracy_score(y_test_resampled,y_pred)\n",
    "print(\"Accuracy rate from KNN : {}\".format(knn_accuracy))\n",
    "\n",
    "# confusion matrix\n",
    "cm = confusion_matrix(y_test_resampled,y_pred)\n",
    "sns.heatmap(cm, \n",
    "            annot=True,\n",
    "            cmap='Greens',\n",
    "            cbar=False,\n",
    "            fmt=\"d\",\n",
    "            xticklabels=np.unique(y_test_resampled),\n",
    "            yticklabels=np.unique(y_test_resampled)\n",
    "           )\n",
    "plt.title(\"Confusion Matrix\")\n",
    "plt.show()\n",
    "\n",
    "# calculate classification metrics\n",
    "df_rpt = pd.DataFrame(precision_recall_fscore_support(y_test_resampled,y_pred)).transpose()\n",
    "df_rpt.columns = columns=[\"precision\",\"recall\",\"f1-score\",\"support\"]\n",
    "print(\"Classification Metrics:\")\n",
    "print(df_rpt)\n"
   ]
  },
  {
   "cell_type": "code",
   "execution_count": 69,
   "id": "730c889d-c399-464f-8bca-9766dcd19017",
   "metadata": {},
   "outputs": [
    {
     "name": "stdout",
     "output_type": "stream",
     "text": [
      "Balanced accuracy: 0.6630833333333334\n"
     ]
    }
   ],
   "source": [
    "balanced_acc = balanced_accuracy_score(y_test_resampled, y_pred)\n",
    "\n",
    "print('Balanced accuracy:', balanced_acc)"
   ]
  },
  {
   "cell_type": "markdown",
   "id": "c77aa133-b6ae-4d79-befb-2214d7bbffd5",
   "metadata": {},
   "source": [
    "## 2) ensemble method "
   ]
  },
  {
   "cell_type": "code",
   "execution_count": null,
   "id": "6f57d57f-38e9-4239-9bd1-a754eee262a7",
   "metadata": {},
   "outputs": [],
   "source": [
    "#BalancedRandomForestClassifier is another ensemble method in which each tree of the forest will be provided a balanced bootstrap sample [CLB+04]. "
   ]
  },
  {
   "cell_type": "markdown",
   "id": "0a6eede7-1fe2-4148-b6db-fa2ef8a8999c",
   "metadata": {},
   "source": [
    "## fit model in the original dataset"
   ]
  },
  {
   "cell_type": "code",
   "execution_count": 70,
   "id": "c53957da-743c-4b69-9e8c-a7f7bc82660f",
   "metadata": {},
   "outputs": [
    {
     "name": "stderr",
     "output_type": "stream",
     "text": [
      "C:\\Users\\stuti\\.conda\\envs\\dvaproject\\Lib\\site-packages\\imblearn\\ensemble\\_forest.py:546: FutureWarning: The default of `sampling_strategy` will change from `'auto'` to `'all'` in version 0.13. This change will follow the implementation proposed in the original paper. Set to `'all'` to silence this warning and adopt the future behaviour.\n",
      "  warn(\n",
      "C:\\Users\\stuti\\.conda\\envs\\dvaproject\\Lib\\site-packages\\imblearn\\ensemble\\_forest.py:558: FutureWarning: The default of `replacement` will change from `False` to `True` in version 0.13. This change will follow the implementation proposed in the original paper. Set to `True` to silence this warning and adopt the future behaviour.\n",
      "  warn(\n"
     ]
    },
    {
     "name": "stdout",
     "output_type": "stream",
     "text": [
      "Classification report:\n",
      "               precision    recall  f1-score   support\n",
      "\n",
      "         0.0       0.18      0.98      0.30       104\n",
      "         1.0       0.66      0.79      0.72      4138\n",
      "         2.0       0.31      0.55      0.39      3671\n",
      "         3.0       1.00      0.86      0.93     93432\n",
      "         4.0       0.07      0.51      0.13      1024\n",
      "         5.0       0.04      0.68      0.07       144\n",
      "\n",
      "    accuracy                           0.84    102513\n",
      "   macro avg       0.38      0.73      0.42    102513\n",
      "weighted avg       0.95      0.84      0.89    102513\n",
      "\n"
     ]
    }
   ],
   "source": [
    "\n",
    "model = BalancedRandomForestClassifier(n_estimators=100, random_state=42)\n",
    "model.fit(scaled_x_train, y_train)\n",
    "y_pred = model.predict(scaled_x_test)\n",
    "\n",
    "print('Classification report:\\n', classification_report(y_test, y_pred))"
   ]
  },
  {
   "cell_type": "code",
   "execution_count": 71,
   "id": "39d33017-b39d-4ed8-9896-12afaf35abf0",
   "metadata": {},
   "outputs": [
    {
     "name": "stdout",
     "output_type": "stream",
     "text": [
      "Best Parameters: {'max_depth': 2, 'n_estimators': 4, 'sampling_strategy': 'auto'}\n",
      "Best Score: 0.8604611408719727\n",
      "Classification report:\n",
      "               precision    recall  f1-score   support\n",
      "\n",
      "         0.0       0.03      0.97      0.06       104\n",
      "         1.0       0.37      0.78      0.51      4138\n",
      "         2.0       0.32      0.56      0.41      3671\n",
      "         3.0       1.00      0.89      0.94     93432\n",
      "         4.0       0.12      0.00      0.01      1024\n",
      "         5.0       0.01      0.03      0.02       144\n",
      "\n",
      "    accuracy                           0.87    102513\n",
      "   macro avg       0.31      0.54      0.32    102513\n",
      "weighted avg       0.94      0.87      0.89    102513\n",
      "\n"
     ]
    }
   ],
   "source": [
    "#Hyper-parameter Tuning\n",
    "import warnings\n",
    "\n",
    "# Ignore FutureWarnings\n",
    "warnings.simplefilter(action='ignore', category=FutureWarning)\n",
    "\n",
    "\n",
    "param = {\n",
    "    'n_estimators': [4, 16, 256],\n",
    "    'max_depth': [2, 8, 16],\n",
    "    'sampling_strategy': ['auto', 'all']\n",
    "}\n",
    "        \n",
    "# Perform GridSearchCV\n",
    "gscv = GridSearchCV(model, param_grid=param, cv=3, scoring='accuracy')\n",
    "gscv.fit(scaled_x_train, y_train)\n",
    "\n",
    "# Get the best parameters and score\n",
    "best_params = gscv.best_params_\n",
    "best_score = gscv.best_score_\n",
    "\n",
    "# Predict using the best model found by GridSearchCV\n",
    "best_model = gscv.best_estimator_\n",
    "y_pred = best_model.predict(scaled_x_test)\n",
    "\n",
    "# Print the classification report\n",
    "print('Best Parameters:', best_params)\n",
    "print('Best Score:', best_score)\n",
    "print('Classification report:\\n', classification_report(y_test, y_pred))"
   ]
  },
  {
   "cell_type": "code",
   "execution_count": 72,
   "id": "5e815b3a-596a-4adf-87a5-e0b41a014566",
   "metadata": {},
   "outputs": [
    {
     "data": {
      "image/png": "[encoded data removed]",
      "text/plain": [
       "<Figure size 640x480 with 1 Axes>"
      ]
     },
     "metadata": {},
     "output_type": "display_data"
    }
   ],
   "source": [
    "# confusion matrix\n",
    "cm = confusion_matrix(y_test,y_pred)\n",
    "sns.heatmap(cm, \n",
    "            annot=True,\n",
    "            cmap='Greens',\n",
    "            cbar=False,\n",
    "            fmt=\"d\",\n",
    "            xticklabels=np.unique(y_test),\n",
    "            yticklabels=np.unique(y_test)\n",
    "           )\n",
    "plt.title(\"Confusion Matrix\")\n",
    "plt.show()\n"
   ]
  },
  {
   "cell_type": "code",
   "execution_count": 73,
   "id": "d51b98de-81ca-4fdc-b920-907be69e50c9",
   "metadata": {},
   "outputs": [
    {
     "name": "stdout",
     "output_type": "stream",
     "text": [
      "Classification Metrics:\n",
      "   precision    recall  f1-score  support\n",
      "0   0.030149  0.971154  0.058483    104.0\n",
      "1   0.374005  0.783712  0.506363   4138.0\n",
      "2   0.321877  0.558703  0.408444   3671.0\n",
      "3   0.995550  0.893227  0.941617  93432.0\n",
      "4   0.125000  0.002930  0.005725   1024.0\n",
      "5   0.014981  0.027778  0.019465    144.0\n"
     ]
    }
   ],
   "source": [
    "\n",
    "# calculate classification metrics\n",
    "df_rpt = pd.DataFrame(precision_recall_fscore_support(y_test,y_pred)).transpose()\n",
    "df_rpt.columns = columns=[\"precision\",\"recall\",\"f1-score\",\"support\"]\n",
    "print(\"Classification Metrics:\")\n",
    "print(df_rpt)\n"
   ]
  },
  {
   "cell_type": "code",
   "execution_count": 74,
   "id": "e750747a-c247-428a-86bb-e6c004dc49c2",
   "metadata": {},
   "outputs": [
    {
     "name": "stdout",
     "output_type": "stream",
     "text": [
      "Balanced accuracy: 0.5395839600018728\n"
     ]
    }
   ],
   "source": [
    "balanced_acc = balanced_accuracy_score(y_test, y_pred)\n",
    "\n",
    "print('Balanced accuracy:', balanced_acc)"
   ]
  },
  {
   "cell_type": "markdown",
   "id": "cf3378c8-bede-4c4b-ab9b-f15ba5dec6c8",
   "metadata": {},
   "source": [
    "### fit random forest in resampled (oversampled) dataset"
   ]
  },
  {
   "cell_type": "markdown",
   "id": "feeecb96-ad32-4e49-b072-64b32c19d0c2",
   "metadata": {},
   "source": [
    "### Hyper-parameter Tuning"
   ]
  },
  {
   "cell_type": "code",
   "execution_count": 79,
   "id": "38f64450-ce9e-4283-b902-4bcd3ff58d85",
   "metadata": {},
   "outputs": [
    {
     "name": "stderr",
     "output_type": "stream",
     "text": [
      "C:\\Users\\stuti\\.conda\\envs\\dvaproject\\Lib\\site-packages\\sklearn\\model_selection\\_search.py:307: UserWarning: The total space of parameters 9 is smaller than n_iter=10. Running 9 iterations. For exhaustive searches, use GridSearchCV.\n",
      "  warnings.warn(\n"
     ]
    },
    {
     "name": "stdout",
     "output_type": "stream",
     "text": [
      "Best Parameters: {'n_estimators': 64, 'max_depth': 16}\n",
      "Best Score: 0.8831444444444445\n",
      "Classification report:\n",
      "               precision    recall  f1-score   support\n",
      "\n",
      "         0.0       0.99      0.96      0.98     30000\n",
      "         1.0       0.76      0.81      0.78     30000\n",
      "         2.0       0.58      0.66      0.61     30000\n",
      "         3.0       0.92      0.92      0.92     30000\n",
      "         4.0       0.62      0.69      0.65     30000\n",
      "         5.0       0.83      0.60      0.70     30000\n",
      "\n",
      "    accuracy                           0.77    180000\n",
      "   macro avg       0.78      0.77      0.77    180000\n",
      "weighted avg       0.78      0.77      0.77    180000\n",
      "\n"
     ]
    }
   ],
   "source": [
    "from sklearn.model_selection import RandomizedSearchCV\n",
    "from sklearn.ensemble import RandomForestClassifier\n",
    "from sklearn.metrics import classification_report\n",
    "\n",
    "# Define the model\n",
    "model = RandomForestClassifier()\n",
    "\n",
    "param = {\n",
    "    'n_estimators': [4, 16, 64],\n",
    "    'max_depth': [2, 8, 16]\n",
    "}\n",
    "\n",
    "# Perform RandomizedSearchCV with reduced parameter space and fewer iterations\n",
    "gscv = RandomizedSearchCV(model, param_distributions=param, n_iter=10, cv=3, scoring='accuracy')\n",
    "gscv.fit(X_train_resampled, y_train_resampled)  # Using a subset of data for faster computation\n",
    "\n",
    "# Get the best parameters and score\n",
    "best_params = gscv.best_params_\n",
    "best_score = gscv.best_score_\n",
    "\n",
    "# Predict using the best model found by RandomizedSearchCV\n",
    "best_model = gscv.best_estimator_\n",
    "y_pred = best_model.predict(X_test_resampled)  # Using a subset of test data for faster computation\n",
    "\n",
    "# Print the classification report\n",
    "print('Best Parameters:', best_params)\n",
    "print('Best Score:', best_score)\n",
    "print('Classification report:\\n', classification_report(y_test_resampled, y_pred))"
   ]
  },
  {
   "cell_type": "code",
   "execution_count": 30,
   "id": "efca6738-385c-492f-94b4-72e44eb9b47d",
   "metadata": {},
   "outputs": [
    {
     "data": {
      "text/plain": [
       "array([0., 0., 0., ..., 2., 4., 5.])"
      ]
     },
     "execution_count": 30,
     "metadata": {},
     "output_type": "execute_result"
    }
   ],
   "source": [
    "y_pred[3:]"
   ]
  },
  {
   "cell_type": "code",
   "execution_count": 104,
   "id": "13161733-1b32-406f-aabf-012204e3d7e1",
   "metadata": {},
   "outputs": [
    {
     "data": {
      "image/png": "[encoded data removed]",
      "text/plain": [
       "<Figure size 640x480 with 1 Axes>"
      ]
     },
     "metadata": {},
     "output_type": "display_data"
    }
   ],
   "source": [
    "# confusion matrix\n",
    "cm = confusion_matrix(y_test_resampled,y_pred)\n",
    "sns.heatmap(cm, \n",
    "            annot=True,\n",
    "            cmap='Greens',\n",
    "            cbar=False,\n",
    "            fmt=\"d\",\n",
    "            xticklabels=np.unique(y_test_resampled),\n",
    "            yticklabels=np.unique(y_test_resampled)\n",
    "           )\n",
    "plt.title(\"Confusion Matrix\")\n",
    "plt.show()\n"
   ]
  },
  {
   "cell_type": "code",
   "execution_count": 105,
   "id": "b29a797a-4ecc-4dcb-9fc8-60242de4412d",
   "metadata": {},
   "outputs": [
    {
     "name": "stdout",
     "output_type": "stream",
     "text": [
      "Classification Metrics:\n",
      "   precision    recall  f1-score  support\n",
      "0   0.993008  0.960967  0.976724  30000.0\n",
      "1   0.756612  0.814367  0.784428  30000.0\n",
      "2   0.574261  0.654600  0.611804  30000.0\n",
      "3   0.924640  0.914900  0.919744  30000.0\n",
      "4   0.615774  0.697467  0.654079  30000.0\n",
      "5   0.830619  0.576367  0.680520  30000.0\n"
     ]
    }
   ],
   "source": [
    "\n",
    "# calculate classification metrics\n",
    "df_rpt = pd.DataFrame(precision_recall_fscore_support(y_test_resampled,y_pred)).transpose()\n",
    "df_rpt.columns = columns=[\"precision\",\"recall\",\"f1-score\",\"support\"]\n",
    "print(\"Classification Metrics:\")\n",
    "print(df_rpt)\n"
   ]
  },
  {
   "cell_type": "code",
   "execution_count": 80,
   "id": "85818d64-9c92-48de-96b4-a7905f0f9778",
   "metadata": {},
   "outputs": [
    {
     "name": "stdout",
     "output_type": "stream",
     "text": [
      "Balanced accuracy: 0.7719666666666667\n"
     ]
    }
   ],
   "source": [
    "balanced_acc = balanced_accuracy_score(y_test_resampled, y_pred)\n",
    "\n",
    "print('Balanced accuracy:', balanced_acc)"
   ]
  },
  {
   "cell_type": "markdown",
   "id": "a5dfff6c-bca3-4f49-9fd4-13f8d8e89606",
   "metadata": {},
   "source": [
    "## export predicted data for a single day to demo"
   ]
  },
  {
   "cell_type": "code",
   "execution_count": 81,
   "id": "f301a2ff-87ce-405c-83fa-33e003f6dce7",
   "metadata": {},
   "outputs": [],
   "source": [
    "# Make a copy of the DataFrame df_wo3\n",
    "df = df_wo3.copy()\n",
    "\n",
    "# Convert startdate to datetime format\n",
    "startdate = pd.to_datetime('2023-09-12').date()\n",
    "\n",
    "# Filter the DataFrame to get rows where 'reportdate' matches the startdate\n",
    "df_export = df[df['reportdate'].dt.date == startdate]\n",
    "\n",
    "#print(df_export)"
   ]
  },
  {
   "cell_type": "code",
   "execution_count": 82,
   "id": "eab85606-d635-4256-a40e-b31f72ee2dd8",
   "metadata": {},
   "outputs": [],
   "source": [
    "df_export = df_export[[\n",
    " 'WO Priority',\n",
    " 'assetcriticality',\n",
    " 'Labor Hours',\n",
    " 'Labor Cost',\n",
    " 'Material Cost',\n",
    " 'Work Order Cost',\n",
    " 'assettype_order',\n",
    " 'WOType_Order',\n",
    " 'location_order',\n",
    " 'WO Status_order']]\n"
   ]
  },
  {
   "cell_type": "code",
   "execution_count": 83,
   "id": "cb5bf63b-2f1b-43b5-ac4b-54125c49f6cd",
   "metadata": {},
   "outputs": [
    {
     "data": {
      "text/plain": [
       "(30, 10)"
      ]
     },
     "execution_count": 83,
     "metadata": {},
     "output_type": "execute_result"
    }
   ],
   "source": [
    "df_export.shape"
   ]
  },
  {
   "cell_type": "code",
   "execution_count": 84,
   "id": "88f53e49-9747-40ad-a4aa-fceae0b76caa",
   "metadata": {},
   "outputs": [],
   "source": [
    "##creating x and y datasets \n",
    "\n",
    "x_data = df_export.drop(['WO Priority'], axis=1)\n",
    "y_data = df_export['WO Priority']\n",
    "\n",
    "#converting to arrays \n",
    "\n",
    "x_data_array = x_data.values\n",
    "y_data_array = y_data.values\n",
    "\n",
    "#scaling x data\n",
    "scaler = StandardScaler()\n",
    "scaler.fit(x_data_array)\n",
    "scaled_x_data = scaler.transform(x_data_array)\n"
   ]
  },
  {
   "cell_type": "code",
   "execution_count": 85,
   "id": "c166b268-e94f-4e3d-9e1e-efc137345089",
   "metadata": {},
   "outputs": [],
   "source": [
    "##predict using the random forest model 'best_model'\n",
    "\n",
    "y_pred = best_model.predict(scaled_x_data)\n",
    "\n",
    "# Inverse transform scaled test data to get back the original raw data\n",
    "original_x_test = scaler.inverse_transform(scaled_x_test)\n",
    "\n",
    "# Create a DataFrame with predictions and original data\n",
    "y_pred_df = pd.DataFrame(y_pred, columns=['Predicted_WO_Priority'])  # Creating a DataFrame for predictions\n",
    "original_x_df = pd.DataFrame(x_data_array, columns=x_data.columns)  \n",
    "\n",
    "# Concatenate y_pred_df and original_x_df along columns\n",
    "result_df = pd.concat([y_pred_df, original_x_df.reset_index(drop=True)], axis=1)\n",
    "\n",
    "# Concatenate actual y data as well \n",
    "final_result_df = pd.concat([result_df, y_data.reset_index(drop=True)], axis=1)\n",
    "\n",
    "# Export result_df to a CSV file or use as needed\n",
    "final_result_df.to_csv('predictions_with_original_data.csv', index=False)  # Exporting to CSV without index"
   ]
  }
 ],
 "metadata": {
  "kernelspec": {
   "display_name": "Python 3 (ipykernel)",
   "language": "python",
   "name": "python3"
  },
  "language_info": {
   "codemirror_mode": {
    "name": "ipython",
    "version": 3
   },
   "file_extension": ".py",
   "mimetype": "text/x-python",
   "name": "python",
   "nbconvert_exporter": "python",
   "pygments_lexer": "ipython3",
   "version": "3.9.7"
  }
 },
 "nbformat": 4,
 "nbformat_minor": 5
}
