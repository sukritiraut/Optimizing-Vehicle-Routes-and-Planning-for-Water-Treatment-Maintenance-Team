{
 "cells": [
  {
   "cell_type": "code",
   "execution_count": 9,
   "id": "e3f97f82",
   "metadata": {
    "scrolled": true
   },
   "outputs": [],
   "source": [
    "from datetime import datetime\n",
    "import time\n",
    "\n",
    "from utils2 import get_matrix_from_api\n",
    "from GetRoute import get_route_lat_long\n",
    "from Station import pump_station\n",
    "from BruteForce import brute_force\n",
    "from NearestNeighbor import nearest_neighbor, solve_tsp_nearest\n",
    "from Genetic import get_route, get_route_no0, population_size, initial_population, total_dist_individual, \\\n",
    "                        fitness_prob, roulette_wheel,crossover, mutation, genetic, genetic_route"
   ]
  },
  {
   "cell_type": "markdown",
   "id": "e8b7f85f",
   "metadata": {},
   "source": [
    "## Sample Route ##"
   ]
  },
  {
   "cell_type": "code",
   "execution_count": 6,
   "id": "e59aa04e",
   "metadata": {
    "scrolled": true
   },
   "outputs": [
    {
     "name": "stdout",
     "output_type": "stream",
     "text": [
      "route 1:  5\n",
      "route 2:  8\n",
      "route 3:  11\n",
      "route 4:  18\n"
     ]
    }
   ],
   "source": [
    "# sample routes. They are real pump locaitons\n",
    "\n",
    "a = [\n",
    "(33.9697702,-83.96162849999999),\n",
    "(34.0855533852, -83.9455640476),\n",
    "(33.8530741685, -83.9985179404),\n",
    "(33.978323909, -83.9402479833),\n",
    "(34.1441012544, -84.0348410659)\n",
    "]\n",
    "\n",
    "\n",
    "aa = [\n",
    "(33.9697702,-83.96162849999999),\n",
    "(34.0855533852, -83.9455640476),\n",
    "(33.8530741685, -83.9985179404),\n",
    "(33.978323909, -83.9402479833),\n",
    "(34.1441012544, -84.0348410659),\n",
    "(33.7745208966, -84.0488169856),\n",
    "(34.0183517233, -83.9039972317),\n",
    "(33.9127822128, -83.8943183944)\n",
    "]\n",
    "\n",
    "aaa = [\n",
    "(33.9697702,-83.96162849999999),\n",
    "(34.0855533852, -83.9455640476),\n",
    "(33.8530741685, -83.9985179404),\n",
    "(33.978323909, -83.9402479833),\n",
    "(34.1441012544, -84.0348410659),\n",
    "(33.7745208966, -84.0488169856),\n",
    "(34.0183517233, -83.9039972317),\n",
    "(33.9127822128, -83.8943183944),\n",
    "(34.0387634682, -84.0262908335),\n",
    "(34.0358304517, -83.8991189891),\n",
    "(33.926389675, -83.9431847443)\n",
    "]\n",
    "\n",
    "\n",
    "aaaa = [\n",
    "(33.9697702,-83.96162849999999),\n",
    "(34.0855533852, -83.9455640476),\n",
    "(33.8530741685, -83.9985179404),\n",
    "(33.978323909, -83.9402479833),\n",
    "(34.1441012544, -84.0348410659),\n",
    "(33.7745208966, -84.0488169856),\n",
    "(34.0183517233, -83.9039972317),\n",
    "(33.9127822128, -83.8943183944),\n",
    "(34.0387634682, -84.0262908335),\n",
    "(34.0358304517, -83.8991189891),\n",
    "(33.926389675, -83.9431847443),\n",
    "(34.020524, -83.986882),\n",
    "(34.0151791572, -83.9697058165),\n",
    "(34.0133864975, -83.8794551011),\n",
    "(33.9248640065, -84.1077010366),\n",
    "(33.979012657, -84.2076871267),\n",
    "(33.9669095174, -83.8783789366),\n",
    "(33.9853818446, -84.1786268856)\n",
    "]\n",
    "\n",
    "\n",
    "print('route 1: ', len(a))\n",
    "print('route 2: ', len(aa))\n",
    "print('route 3: ', len(aaa))\n",
    "print('route 4: ', len(aaaa))"
   ]
  },
  {
   "cell_type": "markdown",
   "id": "85f003a7",
   "metadata": {},
   "source": [
    "## a, aaa, aaaa are the route in (lat,long) ##"
   ]
  },
  {
   "cell_type": "markdown",
   "id": "9aca5f62",
   "metadata": {},
   "source": [
    "## Brute Force ##"
   ]
  },
  {
   "cell_type": "code",
   "execution_count": 13,
   "id": "f8bdb931",
   "metadata": {},
   "outputs": [
    {
     "name": "stdout",
     "output_type": "stream",
     "text": [
      "Route:  [0, 11, 10, 9, 4, 5, 3, 2, 1, 6, 7, 8, 0]\n",
      "Total Distance:  50  Miles\n",
      "Total duration:  120  Minutes\n",
      "Execution Time:  222.37279725074768\n",
      "[(33.9697702, -83.96162849999999), (33.89101397, -83.9935007364), (33.86256468, -84.036341178), (33.85686507, -84.0456169955), (33.81369345, -84.0171421372), (33.82028371, -84.0174451274), (33.77694998, -84.0312280304), (33.76532566, -84.0162516178), (33.77277979, -84.0103339624), (33.80128003, -83.9935705634), (33.81035397, -84.0013275003), (33.85954742, -84.0029534809), (33.9697702, -83.96162849999999)]\n",
      "['Wate Treament Facility', 'NORTHFORKE PLANTATION', 'TANGLEWOOD', 'BROOKWOOD VILLAGE', 'COUNTRY CLUB OF GWINNETT 1', 'COUNTRY CLUB OF GWINNETT 2', 'BRIDLE POINT', 'ELLINGTON SPRINGS', 'MINK LIVSEY', 'LAKEPORT', 'LENORA SPRINGS', 'HICKORY STATION', 'Wate Treament Facility']\n"
     ]
    }
   ],
   "source": [
    "# Brute force: works up to 8 locations, beyond that will be slow\n",
    "\n",
    "aaa = [(33.9697702, -83.96162849999999), (33.77277979, -84.0103339624), (33.76532566, -84.0162516178), (33.77694998, -84.0312280304), (33.81369345, -84.0171421372), (33.82028371, -84.0174451274), (33.80128003, -83.9935705634), (33.81035397, -84.0013275003), (33.85954742, -84.0029534809), (33.85686507, -84.0456169955), (33.86256468, -84.036341178), (33.89101397, -83.9935007364)]\n",
    "\n",
    "dist_matrix, dura_matrix = get_matrix_from_api(aaa)\n",
    "\n",
    "\n",
    "start_time = time.time()\n",
    "\n",
    "route, distance, duration = brute_force(dist_matrix, dura_matrix)\n",
    "\n",
    "route_real = get_route_lat_long(aaa, route)\n",
    "\n",
    "pump_name = pump_station(route_real)\n",
    "\n",
    "\n",
    "end_time = time.time()\n",
    "\n",
    "print('Route: ', route)\n",
    "print('Total Distance: ', distance, \" Miles\")\n",
    "print('Total duration: ', duration, \" Minutes\")\n",
    "print('Execution Time: ', end_time - start_time)\n",
    "print(route_real)\n",
    "print(pump_name)"
   ]
  },
  {
   "cell_type": "markdown",
   "id": "1d61bfe7",
   "metadata": {},
   "source": [
    "## Nearest Negihbor ##"
   ]
  },
  {
   "cell_type": "code",
   "execution_count": 2,
   "id": "5467fc42",
   "metadata": {},
   "outputs": [
    {
     "name": "stdout",
     "output_type": "stream",
     "text": [
      "Route:  [0, 2, 1, 0]\n",
      "Total Distance:  34  Miles\n",
      "Total duration:  70  Minutes\n",
      "Execution Time:  0.5039653778076172\n",
      "[(33.9697702, -83.96162849999999), (33.92719319, -83.895154254), (34.01125161, -84.0708972416), (33.9697702, -83.96162849999999)]\n",
      "['Wate Treament Facility', 'GREAT RIVER', 'HUNTCREST', 'Wate Treament Facility']\n"
     ]
    }
   ],
   "source": [
    "# Nearest Neighbor\n",
    "\n",
    "aaa = [(33.9697702, -83.96162849999999), (34.01125161, -84.0708972416), (33.92719319, -83.895154254)]\n",
    "\n",
    "\n",
    "dist_matrix, dura_matrix = get_matrix_from_api(aaa) \n",
    "\n",
    "\n",
    "\n",
    "start_time = time.time()\n",
    "route, distance, duration = nearest_neighbor(dist_matrix, dura_matrix)\n",
    "route_real = get_route_lat_long(aaa, route)\n",
    "pump_name = pump_station(route_real)\n",
    "end_time = time.time()\n",
    "\n",
    "\n",
    "print('Route: ', route)\n",
    "print('Total Distance: ', distance, \" Miles\")\n",
    "print('Total duration: ', duration, \" Minutes\")\n",
    "print('Execution Time: ', end_time - start_time)\n",
    "print(route_real)\n",
    "print(pump_name)"
   ]
  },
  {
   "cell_type": "markdown",
   "id": "a9fbb31e",
   "metadata": {},
   "source": [
    "## Genetic Algorithm ##"
   ]
  },
  {
   "cell_type": "code",
   "execution_count": 3,
   "id": "76385aa6",
   "metadata": {},
   "outputs": [
    {
     "name": "stdout",
     "output_type": "stream",
     "text": [
      "6000\n",
      "Route:  [0, 10, 7, 2, 5, 8, 4, 1, 9, 6, 3, 0]\n",
      "Total Distance:  84  Miles\n",
      "Total duration:  172  Minutes\n",
      "Execution Time:  451.4948637485504\n",
      "[(33.9697702, -83.96162849999999), (33.926389675, -83.9431847443), (33.9127822128, -83.8943183944), (33.8530741685, -83.9985179404), (33.7745208966, -84.0488169856), (34.0387634682, -84.0262908335), (34.1441012544, -84.0348410659), (34.0855533852, -83.9455640476), (34.0358304517, -83.8991189891), (34.0183517233, -83.9039972317), (33.978323909, -83.9402479833), (33.9697702, -83.96162849999999)]\n",
      "['Wate Treament Facility', 'AVINGTON GLEN', 'ARCHER HIGH SCHOOL', 'ABINGTON DRIVE', 'ANDERSON LIVESY ELEMENTARY SCHOOL', 'ARDEN RIDGE', 'AMBERCREST', 'ABBERONE', 'AUBURN ROAD', 'APPALACHEE FARMS', 'ALCOVY RIVER', 'Wate Treament Facility']\n"
     ]
    }
   ],
   "source": [
    "route_list = get_route(aaa)\n",
    "route_list_no0 = get_route_no0(aaa)\n",
    "dist_matrix, dura_matrix = get_matrix_from_api(aaa)\n",
    "\n",
    "\n",
    "n_population = population_size(route_list)\n",
    "crossover_per = 0.8\n",
    "mutation_per = 0.2\n",
    "n_generations = 500\n",
    "\n",
    "\n",
    "\n",
    "\n",
    "start_time = time.time()\n",
    "\n",
    "\n",
    "route, distance, duration = genetic_route(route_list, \n",
    "                                                route_list_no0, \n",
    "                                                n_population, \n",
    "                                                n_generations, \n",
    "                                                crossover_per, \n",
    "                                                mutation_per,\n",
    "                                                dist_matrix,\n",
    "                                                dura_matrix)\n",
    "route_real = get_route_lat_long(aaa, route)\n",
    "pump_name = pump_station(route_real)\n",
    "\n",
    "end_time = time.time()\n",
    "\n",
    "\n",
    "print(n_population)\n",
    "print('Route: ', route)\n",
    "print('Total Distance: ', distance, \" Miles\")\n",
    "print('Total duration: ', duration, \" Minutes\")\n",
    "print('Execution Time: ', end_time - start_time)\n",
    "print(route_real)\n",
    "print(pump_name)"
   ]
  },
  {
   "cell_type": "code",
   "execution_count": null,
   "id": "7994b1f2",
   "metadata": {},
   "outputs": [],
   "source": []
  }
 ],
 "metadata": {
  "kernelspec": {
   "display_name": "Python 3 (ipykernel)",
   "language": "python",
   "name": "python3"
  },
  "language_info": {
   "codemirror_mode": {
    "name": "ipython",
    "version": 3
   },
   "file_extension": ".py",
   "mimetype": "text/x-python",
   "name": "python",
   "nbconvert_exporter": "python",
   "pygments_lexer": "ipython3",
   "version": "3.9.7"
  }
 },
 "nbformat": 4,
 "nbformat_minor": 5
}
