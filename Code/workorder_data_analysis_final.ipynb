{
 "cells": [
  {
   "cell_type": "code",
   "execution_count": 2,
   "id": "b9e159ec",
   "metadata": {
    "colab": {
     "base_uri": "https://localhost:8080/",
     "height": 206
    },
    "id": "b9e159ec",
    "outputId": "25c355f4-7cba-477c-82b9-ba15c8cc3719"
   },
   "outputs": [
    {
     "data": {
      "text/html": [
       "<div>\n",
       "<style scoped>\n",
       "    .dataframe tbody tr th:only-of-type {\n",
       "        vertical-align: middle;\n",
       "    }\n",
       "\n",
       "    .dataframe tbody tr th {\n",
       "        vertical-align: top;\n",
       "    }\n",
       "\n",
       "    .dataframe thead th {\n",
       "        text-align: right;\n",
       "    }\n",
       "</style>\n",
       "<table border=\"1\" class=\"dataframe\">\n",
       "  <thead>\n",
       "    <tr style=\"text-align: right;\">\n",
       "      <th></th>\n",
       "      <th>Entry ID</th>\n",
       "      <th>Location</th>\n",
       "      <th>Log Date</th>\n",
       "      <th>Create Date</th>\n",
       "      <th>Completed On</th>\n",
       "      <th>Created By</th>\n",
       "      <th>LOG TYPE</th>\n",
       "      <th>TIME IN</th>\n",
       "      <th>TIME OUT</th>\n",
       "    </tr>\n",
       "  </thead>\n",
       "  <tbody>\n",
       "    <tr>\n",
       "      <th>0</th>\n",
       "      <td>33</td>\n",
       "      <td>GWINNETT COUNTY DWR -&gt; PUMP STATIONS -&gt; ROUTE ...</td>\n",
       "      <td>6/28/2021 3:32 PM</td>\n",
       "      <td>6/28/2021 3:39 PM</td>\n",
       "      <td>6/28/2021 3:39 PM</td>\n",
       "      <td>John W Thompson</td>\n",
       "      <td>STATION CHECK</td>\n",
       "      <td>2021-06-28 15:32</td>\n",
       "      <td>2021-06-28 16:00</td>\n",
       "    </tr>\n",
       "    <tr>\n",
       "      <th>1</th>\n",
       "      <td>35</td>\n",
       "      <td>GWINNETT COUNTY DWR -&gt; PUMP STATIONS -&gt; ROUTE ...</td>\n",
       "      <td>7/1/2021 7:35 AM</td>\n",
       "      <td>7/1/2021 7:42 AM</td>\n",
       "      <td>7/1/2021 7:42 AM</td>\n",
       "      <td>Lauren R Wilder</td>\n",
       "      <td>STATION CHECK</td>\n",
       "      <td>2021-07-01 07:38</td>\n",
       "      <td>NaN</td>\n",
       "    </tr>\n",
       "    <tr>\n",
       "      <th>2</th>\n",
       "      <td>36</td>\n",
       "      <td>GWINNETT COUNTY DWR -&gt; PUMP STATIONS -&gt; ROUTE ...</td>\n",
       "      <td>7/1/2021 9:23 AM</td>\n",
       "      <td>7/1/2021 9:30 AM</td>\n",
       "      <td>7/1/2021 9:30 AM</td>\n",
       "      <td>John W Thompson</td>\n",
       "      <td>STATION CHECK</td>\n",
       "      <td>2021-07-01 09:24</td>\n",
       "      <td>NaN</td>\n",
       "    </tr>\n",
       "    <tr>\n",
       "      <th>3</th>\n",
       "      <td>37</td>\n",
       "      <td>GWINNETT COUNTY DWR -&gt; PUMP STATIONS -&gt; ROUTE ...</td>\n",
       "      <td>7/2/2021 7:58 AM</td>\n",
       "      <td>7/2/2021 8:17 AM</td>\n",
       "      <td>7/2/2021 8:17 AM</td>\n",
       "      <td>John W Thompson</td>\n",
       "      <td>STATION CHECK</td>\n",
       "      <td>2021-07-02 07:59</td>\n",
       "      <td>NaN</td>\n",
       "    </tr>\n",
       "    <tr>\n",
       "      <th>4</th>\n",
       "      <td>38</td>\n",
       "      <td>GWINNETT COUNTY DWR -&gt; PUMP STATIONS -&gt; ROUTE ...</td>\n",
       "      <td>7/2/2021 7:42 AM</td>\n",
       "      <td>7/2/2021 8:52 AM</td>\n",
       "      <td>7/2/2021 8:52 AM</td>\n",
       "      <td>Kenneth E Romines</td>\n",
       "      <td>ALARM CALL</td>\n",
       "      <td>2021-07-02 08:00</td>\n",
       "      <td>2021-07-02 10:00</td>\n",
       "    </tr>\n",
       "  </tbody>\n",
       "</table>\n",
       "</div>"
      ],
      "text/plain": [
       "   Entry ID                                           Location  \\\n",
       "0        33  GWINNETT COUNTY DWR -> PUMP STATIONS -> ROUTE ...   \n",
       "1        35  GWINNETT COUNTY DWR -> PUMP STATIONS -> ROUTE ...   \n",
       "2        36  GWINNETT COUNTY DWR -> PUMP STATIONS -> ROUTE ...   \n",
       "3        37  GWINNETT COUNTY DWR -> PUMP STATIONS -> ROUTE ...   \n",
       "4        38  GWINNETT COUNTY DWR -> PUMP STATIONS -> ROUTE ...   \n",
       "\n",
       "            Log Date        Create Date       Completed On         Created By  \\\n",
       "0  6/28/2021 3:32 PM  6/28/2021 3:39 PM  6/28/2021 3:39 PM    John W Thompson   \n",
       "1   7/1/2021 7:35 AM   7/1/2021 7:42 AM   7/1/2021 7:42 AM    Lauren R Wilder   \n",
       "2   7/1/2021 9:23 AM   7/1/2021 9:30 AM   7/1/2021 9:30 AM    John W Thompson   \n",
       "3   7/2/2021 7:58 AM   7/2/2021 8:17 AM   7/2/2021 8:17 AM    John W Thompson   \n",
       "4   7/2/2021 7:42 AM   7/2/2021 8:52 AM   7/2/2021 8:52 AM  Kenneth E Romines   \n",
       "\n",
       "        LOG TYPE           TIME IN          TIME OUT  \n",
       "0  STATION CHECK  2021-06-28 15:32  2021-06-28 16:00  \n",
       "1  STATION CHECK  2021-07-01 07:38               NaN  \n",
       "2  STATION CHECK  2021-07-01 09:24               NaN  \n",
       "3  STATION CHECK  2021-07-02 07:59               NaN  \n",
       "4     ALARM CALL  2021-07-02 08:00  2021-07-02 10:00  "
      ]
     },
     "execution_count": 2,
     "metadata": {},
     "output_type": "execute_result"
    }
   ],
   "source": [
    "#import pump station maintenance log data \n",
    "\n",
    "import pandas as pd\n",
    "\n",
    "data = pd.read_csv(r\"eLoggerData.csv\")\n",
    "data.head(5)\n"
   ]
  },
  {
   "cell_type": "code",
   "execution_count": 3,
   "id": "425596f4",
   "metadata": {},
   "outputs": [
    {
     "data": {
      "text/plain": [
       "(23899, 9)"
      ]
     },
     "execution_count": 3,
     "metadata": {},
     "output_type": "execute_result"
    }
   ],
   "source": [
    "data.shape"
   ]
  },
  {
   "cell_type": "code",
   "execution_count": 4,
   "id": "5ac67c93",
   "metadata": {
    "colab": {
     "base_uri": "https://localhost:8080/",
     "height": 206
    },
    "id": "5ac67c93",
    "outputId": "27550d31-6891-4b27-846a-ece7d114782e"
   },
   "outputs": [
    {
     "data": {
      "text/html": [
       "<div>\n",
       "<style scoped>\n",
       "    .dataframe tbody tr th:only-of-type {\n",
       "        vertical-align: middle;\n",
       "    }\n",
       "\n",
       "    .dataframe tbody tr th {\n",
       "        vertical-align: top;\n",
       "    }\n",
       "\n",
       "    .dataframe thead th {\n",
       "        text-align: right;\n",
       "    }\n",
       "</style>\n",
       "<table border=\"1\" class=\"dataframe\">\n",
       "  <thead>\n",
       "    <tr style=\"text-align: right;\">\n",
       "      <th></th>\n",
       "      <th>ï»¿Pump Station Address_raw data</th>\n",
       "      <th>long</th>\n",
       "      <th>lat</th>\n",
       "      <th>Pump_Identifier</th>\n",
       "      <th>Pump Station Address</th>\n",
       "    </tr>\n",
       "  </thead>\n",
       "  <tbody>\n",
       "    <tr>\n",
       "      <th>0</th>\n",
       "      <td>684 Winder Hwy LawrencevilleÂ GA</td>\n",
       "      <td>-83.961629</td>\n",
       "      <td>33.969770</td>\n",
       "      <td>1</td>\n",
       "      <td>NaN</td>\n",
       "    </tr>\n",
       "    <tr>\n",
       "      <th>1</th>\n",
       "      <td>ABBERONE</td>\n",
       "      <td>-83.945564</td>\n",
       "      <td>34.085553</td>\n",
       "      <td>2</td>\n",
       "      <td>ABBERRONE</td>\n",
       "    </tr>\n",
       "    <tr>\n",
       "      <th>2</th>\n",
       "      <td>ABBERRONE</td>\n",
       "      <td>-83.945564</td>\n",
       "      <td>34.085553</td>\n",
       "      <td>2</td>\n",
       "      <td>ABBERRONE</td>\n",
       "    </tr>\n",
       "    <tr>\n",
       "      <th>3</th>\n",
       "      <td>ABINGTON DRIVE</td>\n",
       "      <td>-83.998518</td>\n",
       "      <td>33.853074</td>\n",
       "      <td>3</td>\n",
       "      <td>NaN</td>\n",
       "    </tr>\n",
       "    <tr>\n",
       "      <th>4</th>\n",
       "      <td>ALCOVY RIVER</td>\n",
       "      <td>-83.940248</td>\n",
       "      <td>33.978324</td>\n",
       "      <td>4</td>\n",
       "      <td>ALCOVY RIVER BOOSTER STATION</td>\n",
       "    </tr>\n",
       "  </tbody>\n",
       "</table>\n",
       "</div>"
      ],
      "text/plain": [
       "   ï»¿Pump Station Address_raw data       long        lat  Pump_Identifier  \\\n",
       "0  684 Winder Hwy LawrencevilleÂ GA -83.961629  33.969770                1   \n",
       "1                          ABBERONE -83.945564  34.085553                2   \n",
       "2                         ABBERRONE -83.945564  34.085553                2   \n",
       "3                    ABINGTON DRIVE -83.998518  33.853074                3   \n",
       "4                      ALCOVY RIVER -83.940248  33.978324                4   \n",
       "\n",
       "           Pump Station Address  \n",
       "0                           NaN  \n",
       "1                     ABBERRONE  \n",
       "2                     ABBERRONE  \n",
       "3                           NaN  \n",
       "4  ALCOVY RIVER BOOSTER STATION  "
      ]
     },
     "execution_count": 4,
     "metadata": {},
     "output_type": "execute_result"
    }
   ],
   "source": [
    "#location data with longitude and latitude\n",
    "\n",
    "loc_lookup = pd.read_csv(r\"Locations_v2.csv\",encoding='ISO-8859-1')\n",
    "loc_lookup.head(5)"
   ]
  },
  {
   "cell_type": "code",
   "execution_count": 5,
   "id": "88646668",
   "metadata": {},
   "outputs": [
    {
     "data": {
      "text/html": [
       "<div>\n",
       "<style scoped>\n",
       "    .dataframe tbody tr th:only-of-type {\n",
       "        vertical-align: middle;\n",
       "    }\n",
       "\n",
       "    .dataframe tbody tr th {\n",
       "        vertical-align: top;\n",
       "    }\n",
       "\n",
       "    .dataframe thead th {\n",
       "        text-align: right;\n",
       "    }\n",
       "</style>\n",
       "<table border=\"1\" class=\"dataframe\">\n",
       "  <thead>\n",
       "    <tr style=\"text-align: right;\">\n",
       "      <th></th>\n",
       "      <th>long</th>\n",
       "      <th>lat</th>\n",
       "      <th>Pump_Identifier</th>\n",
       "      <th>Pump Station Address</th>\n",
       "      <th>Pump Station Address_raw data</th>\n",
       "    </tr>\n",
       "  </thead>\n",
       "  <tbody>\n",
       "    <tr>\n",
       "      <th>0</th>\n",
       "      <td>-83.961629</td>\n",
       "      <td>33.969770</td>\n",
       "      <td>1</td>\n",
       "      <td>NaN</td>\n",
       "      <td>684 Winder Hwy LawrencevilleÂ GA</td>\n",
       "    </tr>\n",
       "    <tr>\n",
       "      <th>1</th>\n",
       "      <td>-83.945564</td>\n",
       "      <td>34.085553</td>\n",
       "      <td>2</td>\n",
       "      <td>ABBERRONE</td>\n",
       "      <td>ABBERONE</td>\n",
       "    </tr>\n",
       "    <tr>\n",
       "      <th>2</th>\n",
       "      <td>-83.945564</td>\n",
       "      <td>34.085553</td>\n",
       "      <td>2</td>\n",
       "      <td>ABBERRONE</td>\n",
       "      <td>ABBERRONE</td>\n",
       "    </tr>\n",
       "    <tr>\n",
       "      <th>3</th>\n",
       "      <td>-83.998518</td>\n",
       "      <td>33.853074</td>\n",
       "      <td>3</td>\n",
       "      <td>NaN</td>\n",
       "      <td>ABINGTON DRIVE</td>\n",
       "    </tr>\n",
       "    <tr>\n",
       "      <th>4</th>\n",
       "      <td>-83.940248</td>\n",
       "      <td>33.978324</td>\n",
       "      <td>4</td>\n",
       "      <td>ALCOVY RIVER BOOSTER STATION</td>\n",
       "      <td>ALCOVY RIVER</td>\n",
       "    </tr>\n",
       "  </tbody>\n",
       "</table>\n",
       "</div>"
      ],
      "text/plain": [
       "        long        lat  Pump_Identifier          Pump Station Address  \\\n",
       "0 -83.961629  33.969770                1                           NaN   \n",
       "1 -83.945564  34.085553                2                     ABBERRONE   \n",
       "2 -83.945564  34.085553                2                     ABBERRONE   \n",
       "3 -83.998518  33.853074                3                           NaN   \n",
       "4 -83.940248  33.978324                4  ALCOVY RIVER BOOSTER STATION   \n",
       "\n",
       "      Pump Station Address_raw data  \n",
       "0  684 Winder Hwy LawrencevilleÂ GA  \n",
       "1                          ABBERONE  \n",
       "2                         ABBERRONE  \n",
       "3                    ABINGTON DRIVE  \n",
       "4                      ALCOVY RIVER  "
      ]
     },
     "execution_count": 5,
     "metadata": {},
     "output_type": "execute_result"
    }
   ],
   "source": [
    "loc_lookup['Pump Station Address_raw data'] = loc_lookup['ï»¿Pump Station Address_raw data']\n",
    "loc_lookup.drop(columns=['ï»¿Pump Station Address_raw data'], inplace=True)\n",
    "loc_lookup.head(5)"
   ]
  },
  {
   "cell_type": "code",
   "execution_count": 6,
   "id": "ff0ce521",
   "metadata": {},
   "outputs": [
    {
     "data": {
      "text/html": [
       "<div>\n",
       "<style scoped>\n",
       "    .dataframe tbody tr th:only-of-type {\n",
       "        vertical-align: middle;\n",
       "    }\n",
       "\n",
       "    .dataframe tbody tr th {\n",
       "        vertical-align: top;\n",
       "    }\n",
       "\n",
       "    .dataframe thead th {\n",
       "        text-align: right;\n",
       "    }\n",
       "</style>\n",
       "<table border=\"1\" class=\"dataframe\">\n",
       "  <thead>\n",
       "    <tr style=\"text-align: right;\">\n",
       "      <th></th>\n",
       "      <th>long</th>\n",
       "      <th>lat</th>\n",
       "      <th>Pump_Identifier</th>\n",
       "      <th>Pump Station Address</th>\n",
       "      <th>Pump Station Address_raw data</th>\n",
       "      <th>Pump Station Address Final</th>\n",
       "    </tr>\n",
       "  </thead>\n",
       "  <tbody>\n",
       "    <tr>\n",
       "      <th>0</th>\n",
       "      <td>-83.961629</td>\n",
       "      <td>33.969770</td>\n",
       "      <td>1</td>\n",
       "      <td>NaN</td>\n",
       "      <td>684 Winder Hwy LawrencevilleÂ GA</td>\n",
       "      <td>684 Winder Hwy LawrencevilleÂ GA</td>\n",
       "    </tr>\n",
       "    <tr>\n",
       "      <th>1</th>\n",
       "      <td>-83.945564</td>\n",
       "      <td>34.085553</td>\n",
       "      <td>2</td>\n",
       "      <td>ABBERRONE</td>\n",
       "      <td>ABBERONE</td>\n",
       "      <td>ABBERRONE</td>\n",
       "    </tr>\n",
       "    <tr>\n",
       "      <th>2</th>\n",
       "      <td>-83.945564</td>\n",
       "      <td>34.085553</td>\n",
       "      <td>2</td>\n",
       "      <td>ABBERRONE</td>\n",
       "      <td>ABBERRONE</td>\n",
       "      <td>ABBERRONE</td>\n",
       "    </tr>\n",
       "    <tr>\n",
       "      <th>3</th>\n",
       "      <td>-83.998518</td>\n",
       "      <td>33.853074</td>\n",
       "      <td>3</td>\n",
       "      <td>NaN</td>\n",
       "      <td>ABINGTON DRIVE</td>\n",
       "      <td>ABINGTON DRIVE</td>\n",
       "    </tr>\n",
       "    <tr>\n",
       "      <th>4</th>\n",
       "      <td>-83.940248</td>\n",
       "      <td>33.978324</td>\n",
       "      <td>4</td>\n",
       "      <td>ALCOVY RIVER BOOSTER STATION</td>\n",
       "      <td>ALCOVY RIVER</td>\n",
       "      <td>ALCOVY RIVER BOOSTER STATION</td>\n",
       "    </tr>\n",
       "  </tbody>\n",
       "</table>\n",
       "</div>"
      ],
      "text/plain": [
       "        long        lat  Pump_Identifier          Pump Station Address  \\\n",
       "0 -83.961629  33.969770                1                           NaN   \n",
       "1 -83.945564  34.085553                2                     ABBERRONE   \n",
       "2 -83.945564  34.085553                2                     ABBERRONE   \n",
       "3 -83.998518  33.853074                3                           NaN   \n",
       "4 -83.940248  33.978324                4  ALCOVY RIVER BOOSTER STATION   \n",
       "\n",
       "      Pump Station Address_raw data        Pump Station Address Final  \n",
       "0  684 Winder Hwy LawrencevilleÂ GA  684 Winder Hwy LawrencevilleÂ GA  \n",
       "1                          ABBERONE                         ABBERRONE  \n",
       "2                         ABBERRONE                         ABBERRONE  \n",
       "3                    ABINGTON DRIVE                    ABINGTON DRIVE  \n",
       "4                      ALCOVY RIVER      ALCOVY RIVER BOOSTER STATION  "
      ]
     },
     "execution_count": 6,
     "metadata": {},
     "output_type": "execute_result"
    }
   ],
   "source": [
    "# Create the new field 'Pump Station Address Final' using the fillna method..\n",
    "#use Pump Station Address data is available, otherwise use Pump Station Address_raw data\n",
    "\n",
    "loc_lookup['Pump Station Address Final'] = loc_lookup['Pump Station Address'].fillna(loc_lookup['Pump Station Address_raw data']) #to use for display\n",
    "loc_lookup.head(5)"
   ]
  },
  {
   "cell_type": "code",
   "execution_count": 7,
   "id": "194d6ae0",
   "metadata": {},
   "outputs": [
    {
     "data": {
      "text/html": [
       "<div>\n",
       "<style scoped>\n",
       "    .dataframe tbody tr th:only-of-type {\n",
       "        vertical-align: middle;\n",
       "    }\n",
       "\n",
       "    .dataframe tbody tr th {\n",
       "        vertical-align: top;\n",
       "    }\n",
       "\n",
       "    .dataframe thead th {\n",
       "        text-align: right;\n",
       "    }\n",
       "</style>\n",
       "<table border=\"1\" class=\"dataframe\">\n",
       "  <thead>\n",
       "    <tr style=\"text-align: right;\">\n",
       "      <th></th>\n",
       "      <th>long</th>\n",
       "      <th>lat</th>\n",
       "      <th>Pump_Identifier</th>\n",
       "      <th>Pump Station Address</th>\n",
       "      <th>Pump Station Address Final</th>\n",
       "    </tr>\n",
       "  </thead>\n",
       "  <tbody>\n",
       "    <tr>\n",
       "      <th>0</th>\n",
       "      <td>-83.961629</td>\n",
       "      <td>33.969770</td>\n",
       "      <td>1</td>\n",
       "      <td>684 Winder Hwy LawrencevilleÂ GA</td>\n",
       "      <td>684 Winder Hwy LawrencevilleÂ GA</td>\n",
       "    </tr>\n",
       "    <tr>\n",
       "      <th>1</th>\n",
       "      <td>-83.945564</td>\n",
       "      <td>34.085553</td>\n",
       "      <td>2</td>\n",
       "      <td>ABBERONE</td>\n",
       "      <td>ABBERRONE</td>\n",
       "    </tr>\n",
       "    <tr>\n",
       "      <th>2</th>\n",
       "      <td>-83.945564</td>\n",
       "      <td>34.085553</td>\n",
       "      <td>2</td>\n",
       "      <td>ABBERRONE</td>\n",
       "      <td>ABBERRONE</td>\n",
       "    </tr>\n",
       "    <tr>\n",
       "      <th>3</th>\n",
       "      <td>-83.998518</td>\n",
       "      <td>33.853074</td>\n",
       "      <td>3</td>\n",
       "      <td>ABINGTON DRIVE</td>\n",
       "      <td>ABINGTON DRIVE</td>\n",
       "    </tr>\n",
       "    <tr>\n",
       "      <th>4</th>\n",
       "      <td>-83.940248</td>\n",
       "      <td>33.978324</td>\n",
       "      <td>4</td>\n",
       "      <td>ALCOVY RIVER</td>\n",
       "      <td>ALCOVY RIVER BOOSTER STATION</td>\n",
       "    </tr>\n",
       "  </tbody>\n",
       "</table>\n",
       "</div>"
      ],
      "text/plain": [
       "        long        lat  Pump_Identifier              Pump Station Address  \\\n",
       "0 -83.961629  33.969770                1  684 Winder Hwy LawrencevilleÂ GA   \n",
       "1 -83.945564  34.085553                2                          ABBERONE   \n",
       "2 -83.945564  34.085553                2                         ABBERRONE   \n",
       "3 -83.998518  33.853074                3                    ABINGTON DRIVE   \n",
       "4 -83.940248  33.978324                4                      ALCOVY RIVER   \n",
       "\n",
       "         Pump Station Address Final  \n",
       "0  684 Winder Hwy LawrencevilleÂ GA  \n",
       "1                         ABBERRONE  \n",
       "2                         ABBERRONE  \n",
       "3                    ABINGTON DRIVE  \n",
       "4      ALCOVY RIVER BOOSTER STATION  "
      ]
     },
     "execution_count": 7,
     "metadata": {},
     "output_type": "execute_result"
    }
   ],
   "source": [
    "#only keep tje final address column\n",
    "\n",
    "loc_lookup.drop(columns=['Pump Station Address'], inplace=True)\n",
    "loc_lookup.rename(columns={'Pump Station Address_raw data': 'Pump Station Address'}, inplace=True) #tojoin with raw data..making column name same\n",
    "loc_lookup.head(5)"
   ]
  },
  {
   "cell_type": "code",
   "execution_count": 8,
   "id": "47d58a69-4d78-4cb8-9d18-d4824cbaa82a",
   "metadata": {},
   "outputs": [],
   "source": [
    "loc_lookup.to_csv(r'C:\\Users\\stuti\\Desktop\\CSE 6242_Fall2023\\project\\Location_v3.csv', index = None, header=True) #to input in the algorithms"
   ]
  },
  {
   "cell_type": "code",
   "execution_count": 7,
   "id": "008235f5",
   "metadata": {
    "id": "008235f5"
   },
   "outputs": [],
   "source": [
    "df=data"
   ]
  },
  {
   "cell_type": "code",
   "execution_count": 8,
   "id": "9b4fa9eb",
   "metadata": {
    "colab": {
     "base_uri": "https://localhost:8080/"
    },
    "id": "9b4fa9eb",
    "outputId": "46467178-8785-4572-dc8f-9c5ec6bae159"
   },
   "outputs": [
    {
     "name": "stderr",
     "output_type": "stream",
     "text": [
      "C:\\Users\\stuti\\AppData\\Local\\Temp/ipykernel_4528/3471786876.py:3: FutureWarning: Columnar iteration over characters will be deprecated in future releases.\n",
      "  df['County'],df['Pump Station'],df['Route'],df['Pump Station Address']=df['Location'].str.split('->').str\n"
     ]
    }
   ],
   "source": [
    "#parsing location names in the dataframe\n",
    "\n",
    "df['County'],df['Pump Station'],df['Route'],df['Pump Station Address']=df['Location'].str.split('->').str"
   ]
  },
  {
   "cell_type": "code",
   "execution_count": 9,
   "id": "e70f80a7",
   "metadata": {
    "id": "e70f80a7"
   },
   "outputs": [],
   "source": [
    "# Remove trailing white spaces\n",
    "df['Pump Station Address'] = df['Pump Station Address'].str.strip()"
   ]
  },
  {
   "cell_type": "code",
   "execution_count": 10,
   "id": "95e41fb6",
   "metadata": {
    "colab": {
     "base_uri": "https://localhost:8080/",
     "height": 310
    },
    "id": "95e41fb6",
    "outputId": "41d29941-9d0d-4edf-fe66-f6f4311d30a5"
   },
   "outputs": [
    {
     "data": {
      "text/html": [
       "<div>\n",
       "<style scoped>\n",
       "    .dataframe tbody tr th:only-of-type {\n",
       "        vertical-align: middle;\n",
       "    }\n",
       "\n",
       "    .dataframe tbody tr th {\n",
       "        vertical-align: top;\n",
       "    }\n",
       "\n",
       "    .dataframe thead th {\n",
       "        text-align: right;\n",
       "    }\n",
       "</style>\n",
       "<table border=\"1\" class=\"dataframe\">\n",
       "  <thead>\n",
       "    <tr style=\"text-align: right;\">\n",
       "      <th></th>\n",
       "      <th>Entry ID</th>\n",
       "      <th>Location</th>\n",
       "      <th>Log Date</th>\n",
       "      <th>Create Date</th>\n",
       "      <th>Completed On</th>\n",
       "      <th>Created By</th>\n",
       "      <th>LOG TYPE</th>\n",
       "      <th>TIME IN</th>\n",
       "      <th>TIME OUT</th>\n",
       "      <th>County</th>\n",
       "      <th>Pump Station</th>\n",
       "      <th>Route</th>\n",
       "      <th>Pump Station Address</th>\n",
       "    </tr>\n",
       "  </thead>\n",
       "  <tbody>\n",
       "    <tr>\n",
       "      <th>0</th>\n",
       "      <td>33</td>\n",
       "      <td>GWINNETT COUNTY DWR -&gt; PUMP STATIONS -&gt; ROUTE ...</td>\n",
       "      <td>6/28/2021 3:32 PM</td>\n",
       "      <td>6/28/2021 3:39 PM</td>\n",
       "      <td>6/28/2021 3:39 PM</td>\n",
       "      <td>John W Thompson</td>\n",
       "      <td>STATION CHECK</td>\n",
       "      <td>2021-06-28 15:32</td>\n",
       "      <td>2021-06-28 16:00</td>\n",
       "      <td>GWINNETT COUNTY DWR</td>\n",
       "      <td>PUMP STATIONS</td>\n",
       "      <td>ROUTE 01</td>\n",
       "      <td>DACULA CITY</td>\n",
       "    </tr>\n",
       "    <tr>\n",
       "      <th>1</th>\n",
       "      <td>35</td>\n",
       "      <td>GWINNETT COUNTY DWR -&gt; PUMP STATIONS -&gt; ROUTE ...</td>\n",
       "      <td>7/1/2021 7:35 AM</td>\n",
       "      <td>7/1/2021 7:42 AM</td>\n",
       "      <td>7/1/2021 7:42 AM</td>\n",
       "      <td>Lauren R Wilder</td>\n",
       "      <td>STATION CHECK</td>\n",
       "      <td>2021-07-01 07:38</td>\n",
       "      <td>NaN</td>\n",
       "      <td>GWINNETT COUNTY DWR</td>\n",
       "      <td>PUMP STATIONS</td>\n",
       "      <td>ROUTE 01</td>\n",
       "      <td>DACULA CITY</td>\n",
       "    </tr>\n",
       "    <tr>\n",
       "      <th>2</th>\n",
       "      <td>36</td>\n",
       "      <td>GWINNETT COUNTY DWR -&gt; PUMP STATIONS -&gt; ROUTE ...</td>\n",
       "      <td>7/1/2021 9:23 AM</td>\n",
       "      <td>7/1/2021 9:30 AM</td>\n",
       "      <td>7/1/2021 9:30 AM</td>\n",
       "      <td>John W Thompson</td>\n",
       "      <td>STATION CHECK</td>\n",
       "      <td>2021-07-01 09:24</td>\n",
       "      <td>NaN</td>\n",
       "      <td>GWINNETT COUNTY DWR</td>\n",
       "      <td>PUMP STATIONS</td>\n",
       "      <td>ROUTE 01</td>\n",
       "      <td>DACULA CITY</td>\n",
       "    </tr>\n",
       "    <tr>\n",
       "      <th>3</th>\n",
       "      <td>37</td>\n",
       "      <td>GWINNETT COUNTY DWR -&gt; PUMP STATIONS -&gt; ROUTE ...</td>\n",
       "      <td>7/2/2021 7:58 AM</td>\n",
       "      <td>7/2/2021 8:17 AM</td>\n",
       "      <td>7/2/2021 8:17 AM</td>\n",
       "      <td>John W Thompson</td>\n",
       "      <td>STATION CHECK</td>\n",
       "      <td>2021-07-02 07:59</td>\n",
       "      <td>NaN</td>\n",
       "      <td>GWINNETT COUNTY DWR</td>\n",
       "      <td>PUMP STATIONS</td>\n",
       "      <td>ROUTE 01</td>\n",
       "      <td>DACULA CITY</td>\n",
       "    </tr>\n",
       "    <tr>\n",
       "      <th>4</th>\n",
       "      <td>38</td>\n",
       "      <td>GWINNETT COUNTY DWR -&gt; PUMP STATIONS -&gt; ROUTE ...</td>\n",
       "      <td>7/2/2021 7:42 AM</td>\n",
       "      <td>7/2/2021 8:52 AM</td>\n",
       "      <td>7/2/2021 8:52 AM</td>\n",
       "      <td>Kenneth E Romines</td>\n",
       "      <td>ALARM CALL</td>\n",
       "      <td>2021-07-02 08:00</td>\n",
       "      <td>2021-07-02 10:00</td>\n",
       "      <td>GWINNETT COUNTY DWR</td>\n",
       "      <td>PUMP STATIONS</td>\n",
       "      <td>ROUTE 01</td>\n",
       "      <td>DACULA CITY</td>\n",
       "    </tr>\n",
       "  </tbody>\n",
       "</table>\n",
       "</div>"
      ],
      "text/plain": [
       "   Entry ID                                           Location  \\\n",
       "0        33  GWINNETT COUNTY DWR -> PUMP STATIONS -> ROUTE ...   \n",
       "1        35  GWINNETT COUNTY DWR -> PUMP STATIONS -> ROUTE ...   \n",
       "2        36  GWINNETT COUNTY DWR -> PUMP STATIONS -> ROUTE ...   \n",
       "3        37  GWINNETT COUNTY DWR -> PUMP STATIONS -> ROUTE ...   \n",
       "4        38  GWINNETT COUNTY DWR -> PUMP STATIONS -> ROUTE ...   \n",
       "\n",
       "            Log Date        Create Date       Completed On         Created By  \\\n",
       "0  6/28/2021 3:32 PM  6/28/2021 3:39 PM  6/28/2021 3:39 PM    John W Thompson   \n",
       "1   7/1/2021 7:35 AM   7/1/2021 7:42 AM   7/1/2021 7:42 AM    Lauren R Wilder   \n",
       "2   7/1/2021 9:23 AM   7/1/2021 9:30 AM   7/1/2021 9:30 AM    John W Thompson   \n",
       "3   7/2/2021 7:58 AM   7/2/2021 8:17 AM   7/2/2021 8:17 AM    John W Thompson   \n",
       "4   7/2/2021 7:42 AM   7/2/2021 8:52 AM   7/2/2021 8:52 AM  Kenneth E Romines   \n",
       "\n",
       "        LOG TYPE           TIME IN          TIME OUT                County  \\\n",
       "0  STATION CHECK  2021-06-28 15:32  2021-06-28 16:00  GWINNETT COUNTY DWR    \n",
       "1  STATION CHECK  2021-07-01 07:38               NaN  GWINNETT COUNTY DWR    \n",
       "2  STATION CHECK  2021-07-01 09:24               NaN  GWINNETT COUNTY DWR    \n",
       "3  STATION CHECK  2021-07-02 07:59               NaN  GWINNETT COUNTY DWR    \n",
       "4     ALARM CALL  2021-07-02 08:00  2021-07-02 10:00  GWINNETT COUNTY DWR    \n",
       "\n",
       "      Pump Station       Route Pump Station Address  \n",
       "0   PUMP STATIONS    ROUTE 01           DACULA CITY  \n",
       "1   PUMP STATIONS    ROUTE 01           DACULA CITY  \n",
       "2   PUMP STATIONS    ROUTE 01           DACULA CITY  \n",
       "3   PUMP STATIONS    ROUTE 01           DACULA CITY  \n",
       "4   PUMP STATIONS    ROUTE 01           DACULA CITY  "
      ]
     },
     "execution_count": 10,
     "metadata": {},
     "output_type": "execute_result"
    }
   ],
   "source": [
    "df.head(5)"
   ]
  },
  {
   "cell_type": "code",
   "execution_count": 11,
   "id": "1c4cd4b0",
   "metadata": {},
   "outputs": [],
   "source": [
    "#removing some erroneous out of range date range\n",
    "\n",
    "df = df[(df['TIME IN'] < '2023-10-19 09:00:00') & (df['TIME OUT'] < '2023-10-19 09:00:00')]"
   ]
  },
  {
   "cell_type": "code",
   "execution_count": 12,
   "id": "7580de5a",
   "metadata": {
    "id": "7580de5a"
   },
   "outputs": [
    {
     "name": "stderr",
     "output_type": "stream",
     "text": [
      "C:\\Users\\stuti\\AppData\\Local\\Temp/ipykernel_4528/1082975368.py:3: SettingWithCopyWarning: \n",
      "A value is trying to be set on a copy of a slice from a DataFrame.\n",
      "Try using .loc[row_indexer,col_indexer] = value instead\n",
      "\n",
      "See the caveats in the documentation: https://pandas.pydata.org/pandas-docs/stable/user_guide/indexing.html#returning-a-view-versus-a-copy\n",
      "  df['Create_d'] = pd.to_datetime(df['Create Date']).dt.date\n",
      "C:\\Users\\stuti\\AppData\\Local\\Temp/ipykernel_4528/1082975368.py:4: SettingWithCopyWarning: \n",
      "A value is trying to be set on a copy of a slice from a DataFrame.\n",
      "Try using .loc[row_indexer,col_indexer] = value instead\n",
      "\n",
      "See the caveats in the documentation: https://pandas.pydata.org/pandas-docs/stable/user_guide/indexing.html#returning-a-view-versus-a-copy\n",
      "  df['TimeIn_d'] = pd.to_datetime(df['TIME IN']).dt.date\n",
      "C:\\Users\\stuti\\AppData\\Local\\Temp/ipykernel_4528/1082975368.py:5: SettingWithCopyWarning: \n",
      "A value is trying to be set on a copy of a slice from a DataFrame.\n",
      "Try using .loc[row_indexer,col_indexer] = value instead\n",
      "\n",
      "See the caveats in the documentation: https://pandas.pydata.org/pandas-docs/stable/user_guide/indexing.html#returning-a-view-versus-a-copy\n",
      "  df['TimeOut_d'] = pd.to_datetime(df['TIME OUT']).dt.date\n"
     ]
    }
   ],
   "source": [
    "#create date field from date time\n",
    "\n",
    "df['Create_d'] = pd.to_datetime(df['Create Date']).dt.date\n",
    "df['TimeIn_d'] = pd.to_datetime(df['TIME IN']).dt.date\n",
    "df['TimeOut_d'] = pd.to_datetime(df['TIME OUT']).dt.date"
   ]
  },
  {
   "cell_type": "code",
   "execution_count": 13,
   "id": "842f3a54",
   "metadata": {
    "id": "842f3a54"
   },
   "outputs": [
    {
     "data": {
      "text/plain": [
       "(23193, 16)"
      ]
     },
     "execution_count": 13,
     "metadata": {},
     "output_type": "execute_result"
    }
   ],
   "source": [
    "#sort logs created time by maintenance staff for a given day\n",
    "\n",
    "df=df.sort_values(by=['Created By','Create_d'], ascending=[True, True])\n",
    "df.shape"
   ]
  },
  {
   "cell_type": "code",
   "execution_count": 14,
   "id": "df00b460",
   "metadata": {
    "id": "df00b460"
   },
   "outputs": [],
   "source": [
    "#remove time in and time out stamps that are null\n",
    "\n",
    "df = df[(df['TIME IN'].notna()) & (df['TIME OUT'].notna())]"
   ]
  },
  {
   "cell_type": "code",
   "execution_count": 15,
   "id": "09b768f3",
   "metadata": {
    "colab": {
     "base_uri": "https://localhost:8080/"
    },
    "id": "09b768f3",
    "outputId": "220a1590-b7ca-43b3-da86-d53badf8158b"
   },
   "outputs": [
    {
     "data": {
      "text/plain": [
       "(23193, 16)"
      ]
     },
     "execution_count": 15,
     "metadata": {},
     "output_type": "execute_result"
    }
   ],
   "source": [
    "df.shape"
   ]
  },
  {
   "cell_type": "code",
   "execution_count": 16,
   "id": "dkfSKECZGrHw",
   "metadata": {
    "id": "dkfSKECZGrHw"
   },
   "outputs": [],
   "source": [
    "#make sure the travelling is happening on the same day\n",
    "\n",
    "df = df[df['TimeIn_d'] == df['TimeOut_d']]"
   ]
  },
  {
   "cell_type": "code",
   "execution_count": 17,
   "id": "51af99a6",
   "metadata": {
    "colab": {
     "base_uri": "https://localhost:8080/"
    },
    "id": "51af99a6",
    "outputId": "6dd9516e-c11f-4cd9-8c6b-0751ec595154"
   },
   "outputs": [
    {
     "data": {
      "text/plain": [
       "(22952, 16)"
      ]
     },
     "execution_count": 17,
     "metadata": {},
     "output_type": "execute_result"
    }
   ],
   "source": [
    "df.shape"
   ]
  },
  {
   "cell_type": "code",
   "execution_count": 18,
   "id": "951e5da1",
   "metadata": {
    "colab": {
     "base_uri": "https://localhost:8080/"
    },
    "id": "951e5da1",
    "outputId": "20b85a18-f304-4aea-85ad-a7fe48d5e3b2"
   },
   "outputs": [
    {
     "data": {
      "text/plain": [
       "Index(['Entry ID', 'Location', 'Log Date', 'Create Date', 'Completed On',\n",
       "       'Created By', 'LOG TYPE', 'TIME IN', 'TIME OUT', 'County',\n",
       "       'Pump Station', 'Route', 'Pump Station Address', 'Create_d', 'TimeIn_d',\n",
       "       'TimeOut_d'],\n",
       "      dtype='object')"
      ]
     },
     "execution_count": 18,
     "metadata": {},
     "output_type": "execute_result"
    }
   ],
   "source": [
    "df.columns"
   ]
  },
  {
   "cell_type": "code",
   "execution_count": 19,
   "id": "94f93ca0",
   "metadata": {
    "id": "94f93ca0"
   },
   "outputs": [],
   "source": [
    "#narrow down to required columns only\n",
    "\n",
    "df=df[['Created By', 'Create_d', 'TimeIn_d', 'Pump Station Address', 'TIME IN', 'TIME OUT']]"
   ]
  },
  {
   "cell_type": "code",
   "execution_count": 20,
   "id": "5ede809a",
   "metadata": {
    "id": "5ede809a"
   },
   "outputs": [],
   "source": [
    "#calculate time spent in each pump station\n",
    "\n",
    "df['TIME IN'] = pd.to_datetime(df['TIME IN'])\n",
    "df['TIME OUT'] = pd.to_datetime(df['TIME OUT'])\n",
    "\n",
    "#in minutes \n",
    "df['TimeDifference'] = (df['TIME OUT'] - df['TIME IN']).dt.total_seconds() / 60\n",
    "\n",
    "df=df[df['TimeDifference']>0] #technicians have to spend some time at the station"
   ]
  },
  {
   "cell_type": "code",
   "execution_count": 21,
   "id": "90bf46a9",
   "metadata": {
    "colab": {
     "base_uri": "https://localhost:8080/",
     "height": 206
    },
    "id": "90bf46a9",
    "outputId": "e4f53edd-be4a-44fd-d77b-d07db9fb6a95"
   },
   "outputs": [
    {
     "data": {
      "text/html": [
       "<div>\n",
       "<style scoped>\n",
       "    .dataframe tbody tr th:only-of-type {\n",
       "        vertical-align: middle;\n",
       "    }\n",
       "\n",
       "    .dataframe tbody tr th {\n",
       "        vertical-align: top;\n",
       "    }\n",
       "\n",
       "    .dataframe thead th {\n",
       "        text-align: right;\n",
       "    }\n",
       "</style>\n",
       "<table border=\"1\" class=\"dataframe\">\n",
       "  <thead>\n",
       "    <tr style=\"text-align: right;\">\n",
       "      <th></th>\n",
       "      <th>Created By</th>\n",
       "      <th>Create_d</th>\n",
       "      <th>TimeIn_d</th>\n",
       "      <th>Pump Station Address</th>\n",
       "      <th>TIME IN</th>\n",
       "      <th>TIME OUT</th>\n",
       "      <th>TimeDifference</th>\n",
       "    </tr>\n",
       "  </thead>\n",
       "  <tbody>\n",
       "    <tr>\n",
       "      <th>2142</th>\n",
       "      <td>Adam B Kersey</td>\n",
       "      <td>2021-12-06</td>\n",
       "      <td>2021-12-06</td>\n",
       "      <td>HUNTCREST</td>\n",
       "      <td>2021-12-06 09:00:00</td>\n",
       "      <td>2021-12-06 10:00:00</td>\n",
       "      <td>60.0</td>\n",
       "    </tr>\n",
       "    <tr>\n",
       "      <th>2159</th>\n",
       "      <td>Adam B Kersey</td>\n",
       "      <td>2021-12-06</td>\n",
       "      <td>2021-12-06</td>\n",
       "      <td>GREAT RIVER</td>\n",
       "      <td>2021-12-06 11:00:00</td>\n",
       "      <td>2021-12-06 12:30:00</td>\n",
       "      <td>90.0</td>\n",
       "    </tr>\n",
       "    <tr>\n",
       "      <th>2232</th>\n",
       "      <td>Adam B Kersey</td>\n",
       "      <td>2021-12-08</td>\n",
       "      <td>2021-12-08</td>\n",
       "      <td>GATES OF EWING</td>\n",
       "      <td>2021-12-08 08:00:00</td>\n",
       "      <td>2021-12-08 09:30:00</td>\n",
       "      <td>90.0</td>\n",
       "    </tr>\n",
       "    <tr>\n",
       "      <th>2234</th>\n",
       "      <td>Adam B Kersey</td>\n",
       "      <td>2021-12-08</td>\n",
       "      <td>2021-12-08</td>\n",
       "      <td>HARBINS LANDING</td>\n",
       "      <td>2021-12-08 09:45:00</td>\n",
       "      <td>2021-12-08 12:00:00</td>\n",
       "      <td>135.0</td>\n",
       "    </tr>\n",
       "    <tr>\n",
       "      <th>2242</th>\n",
       "      <td>Adam B Kersey</td>\n",
       "      <td>2021-12-08</td>\n",
       "      <td>2021-12-08</td>\n",
       "      <td>AUBURN ROAD</td>\n",
       "      <td>2021-12-08 13:00:00</td>\n",
       "      <td>2021-12-08 15:00:00</td>\n",
       "      <td>120.0</td>\n",
       "    </tr>\n",
       "  </tbody>\n",
       "</table>\n",
       "</div>"
      ],
      "text/plain": [
       "         Created By    Create_d    TimeIn_d Pump Station Address  \\\n",
       "2142  Adam B Kersey  2021-12-06  2021-12-06            HUNTCREST   \n",
       "2159  Adam B Kersey  2021-12-06  2021-12-06          GREAT RIVER   \n",
       "2232  Adam B Kersey  2021-12-08  2021-12-08       GATES OF EWING   \n",
       "2234  Adam B Kersey  2021-12-08  2021-12-08      HARBINS LANDING   \n",
       "2242  Adam B Kersey  2021-12-08  2021-12-08          AUBURN ROAD   \n",
       "\n",
       "                 TIME IN            TIME OUT  TimeDifference  \n",
       "2142 2021-12-06 09:00:00 2021-12-06 10:00:00            60.0  \n",
       "2159 2021-12-06 11:00:00 2021-12-06 12:30:00            90.0  \n",
       "2232 2021-12-08 08:00:00 2021-12-08 09:30:00            90.0  \n",
       "2234 2021-12-08 09:45:00 2021-12-08 12:00:00           135.0  \n",
       "2242 2021-12-08 13:00:00 2021-12-08 15:00:00           120.0  "
      ]
     },
     "execution_count": 21,
     "metadata": {},
     "output_type": "execute_result"
    }
   ],
   "source": [
    "df.head(5)"
   ]
  },
  {
   "cell_type": "code",
   "execution_count": 22,
   "id": "p8LS_XCzxe5w",
   "metadata": {
    "colab": {
     "base_uri": "https://localhost:8080/"
    },
    "id": "p8LS_XCzxe5w",
    "outputId": "07b17e74-1455-4ab1-caa4-afe5c2bdd1eb"
   },
   "outputs": [
    {
     "data": {
      "text/plain": [
       "(22060, 7)"
      ]
     },
     "execution_count": 22,
     "metadata": {},
     "output_type": "execute_result"
    }
   ],
   "source": [
    "df.shape"
   ]
  },
  {
   "cell_type": "code",
   "execution_count": 23,
   "id": "29745ef4",
   "metadata": {
    "colab": {
     "base_uri": "https://localhost:8080/",
     "height": 206
    },
    "id": "29745ef4",
    "outputId": "12326726-e1b2-4b41-995d-9bbe3e716413"
   },
   "outputs": [
    {
     "data": {
      "text/html": [
       "<div>\n",
       "<style scoped>\n",
       "    .dataframe tbody tr th:only-of-type {\n",
       "        vertical-align: middle;\n",
       "    }\n",
       "\n",
       "    .dataframe tbody tr th {\n",
       "        vertical-align: top;\n",
       "    }\n",
       "\n",
       "    .dataframe thead th {\n",
       "        text-align: right;\n",
       "    }\n",
       "</style>\n",
       "<table border=\"1\" class=\"dataframe\">\n",
       "  <thead>\n",
       "    <tr style=\"text-align: right;\">\n",
       "      <th></th>\n",
       "      <th>Created By</th>\n",
       "      <th>Create_d</th>\n",
       "      <th>TimeIn_d</th>\n",
       "      <th>Pump Station Address</th>\n",
       "      <th>TIME IN</th>\n",
       "      <th>TIME OUT</th>\n",
       "      <th>TimeDifference</th>\n",
       "      <th>long</th>\n",
       "      <th>lat</th>\n",
       "      <th>Pump_Identifier</th>\n",
       "      <th>Pump Station Address Final</th>\n",
       "    </tr>\n",
       "  </thead>\n",
       "  <tbody>\n",
       "    <tr>\n",
       "      <th>0</th>\n",
       "      <td>Adam B Kersey</td>\n",
       "      <td>2021-12-06</td>\n",
       "      <td>2021-12-06</td>\n",
       "      <td>HUNTCREST</td>\n",
       "      <td>2021-12-06 09:00:00</td>\n",
       "      <td>2021-12-06 10:00:00</td>\n",
       "      <td>60.0</td>\n",
       "      <td>-84.070897</td>\n",
       "      <td>34.011252</td>\n",
       "      <td>96</td>\n",
       "      <td>HUNTCREST</td>\n",
       "    </tr>\n",
       "    <tr>\n",
       "      <th>1</th>\n",
       "      <td>Adam B Kersey</td>\n",
       "      <td>2021-12-06</td>\n",
       "      <td>2021-12-06</td>\n",
       "      <td>GREAT RIVER</td>\n",
       "      <td>2021-12-06 11:00:00</td>\n",
       "      <td>2021-12-06 12:30:00</td>\n",
       "      <td>90.0</td>\n",
       "      <td>-83.895154</td>\n",
       "      <td>33.927193</td>\n",
       "      <td>81</td>\n",
       "      <td>GREAT RIVER</td>\n",
       "    </tr>\n",
       "    <tr>\n",
       "      <th>2</th>\n",
       "      <td>Adam B Kersey</td>\n",
       "      <td>2021-12-08</td>\n",
       "      <td>2021-12-08</td>\n",
       "      <td>GATES OF EWING</td>\n",
       "      <td>2021-12-08 08:00:00</td>\n",
       "      <td>2021-12-08 09:30:00</td>\n",
       "      <td>90.0</td>\n",
       "      <td>-83.888419</td>\n",
       "      <td>33.954144</td>\n",
       "      <td>77</td>\n",
       "      <td>GATES OF EWING</td>\n",
       "    </tr>\n",
       "    <tr>\n",
       "      <th>3</th>\n",
       "      <td>Adam B Kersey</td>\n",
       "      <td>2021-12-08</td>\n",
       "      <td>2021-12-08</td>\n",
       "      <td>HARBINS LANDING</td>\n",
       "      <td>2021-12-08 09:45:00</td>\n",
       "      <td>2021-12-08 12:00:00</td>\n",
       "      <td>135.0</td>\n",
       "      <td>-83.864029</td>\n",
       "      <td>33.964481</td>\n",
       "      <td>85</td>\n",
       "      <td>HARBINS LANDING</td>\n",
       "    </tr>\n",
       "    <tr>\n",
       "      <th>4</th>\n",
       "      <td>Adam B Kersey</td>\n",
       "      <td>2021-12-08</td>\n",
       "      <td>2021-12-08</td>\n",
       "      <td>AUBURN ROAD</td>\n",
       "      <td>2021-12-08 13:00:00</td>\n",
       "      <td>2021-12-08 15:00:00</td>\n",
       "      <td>120.0</td>\n",
       "      <td>-83.899119</td>\n",
       "      <td>34.035830</td>\n",
       "      <td>10</td>\n",
       "      <td>AUBURN ROAD</td>\n",
       "    </tr>\n",
       "  </tbody>\n",
       "</table>\n",
       "</div>"
      ],
      "text/plain": [
       "      Created By    Create_d    TimeIn_d Pump Station Address  \\\n",
       "0  Adam B Kersey  2021-12-06  2021-12-06            HUNTCREST   \n",
       "1  Adam B Kersey  2021-12-06  2021-12-06          GREAT RIVER   \n",
       "2  Adam B Kersey  2021-12-08  2021-12-08       GATES OF EWING   \n",
       "3  Adam B Kersey  2021-12-08  2021-12-08      HARBINS LANDING   \n",
       "4  Adam B Kersey  2021-12-08  2021-12-08          AUBURN ROAD   \n",
       "\n",
       "              TIME IN            TIME OUT  TimeDifference       long  \\\n",
       "0 2021-12-06 09:00:00 2021-12-06 10:00:00            60.0 -84.070897   \n",
       "1 2021-12-06 11:00:00 2021-12-06 12:30:00            90.0 -83.895154   \n",
       "2 2021-12-08 08:00:00 2021-12-08 09:30:00            90.0 -83.888419   \n",
       "3 2021-12-08 09:45:00 2021-12-08 12:00:00           135.0 -83.864029   \n",
       "4 2021-12-08 13:00:00 2021-12-08 15:00:00           120.0 -83.899119   \n",
       "\n",
       "         lat  Pump_Identifier Pump Station Address Final  \n",
       "0  34.011252               96                  HUNTCREST  \n",
       "1  33.927193               81                GREAT RIVER  \n",
       "2  33.954144               77             GATES OF EWING  \n",
       "3  33.964481               85            HARBINS LANDING  \n",
       "4  34.035830               10                AUBURN ROAD  "
      ]
     },
     "execution_count": 23,
     "metadata": {},
     "output_type": "execute_result"
    }
   ],
   "source": [
    "\n",
    "# Merge the two DataFrames on 'Pump Station Address' and pull lat and long info\n",
    "\n",
    "merged_df = df.merge(loc_lookup, on='Pump Station Address', how='left')\n",
    "merged_df.head(5)"
   ]
  },
  {
   "cell_type": "code",
   "execution_count": 24,
   "id": "XgH9DJIyuqKe",
   "metadata": {
    "id": "XgH9DJIyuqKe"
   },
   "outputs": [
    {
     "data": {
      "text/html": [
       "<div>\n",
       "<style scoped>\n",
       "    .dataframe tbody tr th:only-of-type {\n",
       "        vertical-align: middle;\n",
       "    }\n",
       "\n",
       "    .dataframe tbody tr th {\n",
       "        vertical-align: top;\n",
       "    }\n",
       "\n",
       "    .dataframe thead th {\n",
       "        text-align: right;\n",
       "    }\n",
       "</style>\n",
       "<table border=\"1\" class=\"dataframe\">\n",
       "  <thead>\n",
       "    <tr style=\"text-align: right;\">\n",
       "      <th></th>\n",
       "      <th>Created By</th>\n",
       "      <th>Create_d</th>\n",
       "      <th>TimeIn_d</th>\n",
       "      <th>Pump Station Address</th>\n",
       "      <th>TIME IN</th>\n",
       "      <th>TIME OUT</th>\n",
       "      <th>TimeDifference</th>\n",
       "      <th>long</th>\n",
       "      <th>lat</th>\n",
       "      <th>Pump_Identifier</th>\n",
       "      <th>Pump Station Address Final</th>\n",
       "      <th>long_lat</th>\n",
       "    </tr>\n",
       "  </thead>\n",
       "  <tbody>\n",
       "    <tr>\n",
       "      <th>0</th>\n",
       "      <td>Adam B Kersey</td>\n",
       "      <td>2021-12-06</td>\n",
       "      <td>2021-12-06</td>\n",
       "      <td>HUNTCREST</td>\n",
       "      <td>2021-12-06 09:00:00</td>\n",
       "      <td>2021-12-06 10:00:00</td>\n",
       "      <td>60.0</td>\n",
       "      <td>-84.070897</td>\n",
       "      <td>34.011252</td>\n",
       "      <td>96</td>\n",
       "      <td>HUNTCREST</td>\n",
       "      <td>-84.0708972416, 34.01125161</td>\n",
       "    </tr>\n",
       "    <tr>\n",
       "      <th>1</th>\n",
       "      <td>Adam B Kersey</td>\n",
       "      <td>2021-12-06</td>\n",
       "      <td>2021-12-06</td>\n",
       "      <td>GREAT RIVER</td>\n",
       "      <td>2021-12-06 11:00:00</td>\n",
       "      <td>2021-12-06 12:30:00</td>\n",
       "      <td>90.0</td>\n",
       "      <td>-83.895154</td>\n",
       "      <td>33.927193</td>\n",
       "      <td>81</td>\n",
       "      <td>GREAT RIVER</td>\n",
       "      <td>-83.895154254, 33.92719319</td>\n",
       "    </tr>\n",
       "    <tr>\n",
       "      <th>2</th>\n",
       "      <td>Adam B Kersey</td>\n",
       "      <td>2021-12-08</td>\n",
       "      <td>2021-12-08</td>\n",
       "      <td>GATES OF EWING</td>\n",
       "      <td>2021-12-08 08:00:00</td>\n",
       "      <td>2021-12-08 09:30:00</td>\n",
       "      <td>90.0</td>\n",
       "      <td>-83.888419</td>\n",
       "      <td>33.954144</td>\n",
       "      <td>77</td>\n",
       "      <td>GATES OF EWING</td>\n",
       "      <td>-83.8884193553, 33.95414376</td>\n",
       "    </tr>\n",
       "    <tr>\n",
       "      <th>3</th>\n",
       "      <td>Adam B Kersey</td>\n",
       "      <td>2021-12-08</td>\n",
       "      <td>2021-12-08</td>\n",
       "      <td>HARBINS LANDING</td>\n",
       "      <td>2021-12-08 09:45:00</td>\n",
       "      <td>2021-12-08 12:00:00</td>\n",
       "      <td>135.0</td>\n",
       "      <td>-83.864029</td>\n",
       "      <td>33.964481</td>\n",
       "      <td>85</td>\n",
       "      <td>HARBINS LANDING</td>\n",
       "      <td>-83.8640293043, 33.96448133</td>\n",
       "    </tr>\n",
       "    <tr>\n",
       "      <th>4</th>\n",
       "      <td>Adam B Kersey</td>\n",
       "      <td>2021-12-08</td>\n",
       "      <td>2021-12-08</td>\n",
       "      <td>AUBURN ROAD</td>\n",
       "      <td>2021-12-08 13:00:00</td>\n",
       "      <td>2021-12-08 15:00:00</td>\n",
       "      <td>120.0</td>\n",
       "      <td>-83.899119</td>\n",
       "      <td>34.035830</td>\n",
       "      <td>10</td>\n",
       "      <td>AUBURN ROAD</td>\n",
       "      <td>-83.8991189891, 34.03583045</td>\n",
       "    </tr>\n",
       "  </tbody>\n",
       "</table>\n",
       "</div>"
      ],
      "text/plain": [
       "      Created By    Create_d    TimeIn_d Pump Station Address  \\\n",
       "0  Adam B Kersey  2021-12-06  2021-12-06            HUNTCREST   \n",
       "1  Adam B Kersey  2021-12-06  2021-12-06          GREAT RIVER   \n",
       "2  Adam B Kersey  2021-12-08  2021-12-08       GATES OF EWING   \n",
       "3  Adam B Kersey  2021-12-08  2021-12-08      HARBINS LANDING   \n",
       "4  Adam B Kersey  2021-12-08  2021-12-08          AUBURN ROAD   \n",
       "\n",
       "              TIME IN            TIME OUT  TimeDifference       long  \\\n",
       "0 2021-12-06 09:00:00 2021-12-06 10:00:00            60.0 -84.070897   \n",
       "1 2021-12-06 11:00:00 2021-12-06 12:30:00            90.0 -83.895154   \n",
       "2 2021-12-08 08:00:00 2021-12-08 09:30:00            90.0 -83.888419   \n",
       "3 2021-12-08 09:45:00 2021-12-08 12:00:00           135.0 -83.864029   \n",
       "4 2021-12-08 13:00:00 2021-12-08 15:00:00           120.0 -83.899119   \n",
       "\n",
       "         lat  Pump_Identifier Pump Station Address Final  \\\n",
       "0  34.011252               96                  HUNTCREST   \n",
       "1  33.927193               81                GREAT RIVER   \n",
       "2  33.954144               77             GATES OF EWING   \n",
       "3  33.964481               85            HARBINS LANDING   \n",
       "4  34.035830               10                AUBURN ROAD   \n",
       "\n",
       "                      long_lat  \n",
       "0  -84.0708972416, 34.01125161  \n",
       "1   -83.895154254, 33.92719319  \n",
       "2  -83.8884193553, 33.95414376  \n",
       "3  -83.8640293043, 33.96448133  \n",
       "4  -83.8991189891, 34.03583045  "
      ]
     },
     "execution_count": 24,
     "metadata": {},
     "output_type": "execute_result"
    }
   ],
   "source": [
    "#combine long and lat\n",
    "\n",
    "merged_df['long_lat'] = merged_df['long'].astype(str) + ', ' + merged_df['lat'].astype(float).astype(str)\n",
    "merged_df.head(5)"
   ]
  },
  {
   "cell_type": "code",
   "execution_count": 25,
   "id": "4a7d89fa",
   "metadata": {},
   "outputs": [
    {
     "data": {
      "text/plain": [
       "(22060, 12)"
      ]
     },
     "execution_count": 25,
     "metadata": {},
     "output_type": "execute_result"
    }
   ],
   "source": [
    "merged_df.shape"
   ]
  },
  {
   "cell_type": "code",
   "execution_count": 26,
   "id": "b6f87a99",
   "metadata": {},
   "outputs": [],
   "source": [
    "merged_df.to_csv(r'C:\\Users\\stuti\\Desktop\\CSE 6242_Fall2023\\project\\merged_df.csv', index = None, header=True)"
   ]
  },
  {
   "cell_type": "code",
   "execution_count": 27,
   "id": "0DWMByQvyNel",
   "metadata": {
    "colab": {
     "base_uri": "https://localhost:8080/"
    },
    "id": "0DWMByQvyNel",
    "outputId": "3534e89a-90b1-429e-af25-e6ff7169ba59"
   },
   "outputs": [
    {
     "name": "stdout",
     "output_type": "stream",
     "text": [
      "             Created By    TimeIn_d                   long_lat_1  \\\n",
      "0         Adam B Kersey  2021-12-06  -84.0708972416, 34.01125161   \n",
      "1         Adam B Kersey  2021-12-08  -83.8884193553, 33.95414376   \n",
      "2         Adam B Kersey  2021-12-09  -83.9957768663, 34.00375169   \n",
      "3         Adam B Kersey  2021-12-13   -83.895154254, 33.92719319   \n",
      "4         Adam B Kersey  2021-12-14   -84.036341178, 33.86256468   \n",
      "...                 ...         ...                          ...   \n",
      "6190  Taurus L Stinnett  2023-03-23  -83.8963879989, 34.10700821   \n",
      "6191    Zachary L Green  2022-08-02  -83.8967797927, 33.98931888   \n",
      "6192    Zachary L Green  2022-08-25  -84.1077010366, 33.92486401   \n",
      "6193    Zachary L Green  2022-11-01   -84.251488169, 33.91361474   \n",
      "6194    Zachary L Green  2022-12-07   -84.103233214, 33.83999742   \n",
      "\n",
      "                       long_lat_2                   long_lat_3 long_lat_4  \\\n",
      "0      -83.895154254, 33.92719319                          NaN        NaN   \n",
      "1     -83.8640293043, 33.96448133  -83.8991189891, 34.03583045        NaN   \n",
      "2                             NaN                          NaN        NaN   \n",
      "3                             NaN                          NaN        NaN   \n",
      "4     -84.1143379868, 33.83063085                          NaN        NaN   \n",
      "...                           ...                          ...        ...   \n",
      "6190  -83.8842016631, 34.09655975  -83.9044137184, 34.09214918        NaN   \n",
      "6191                          NaN                          NaN        NaN   \n",
      "6192  -83.9402479833, 33.97832391  -83.9402479833, 33.97832391        NaN   \n",
      "6193                          NaN                          NaN        NaN   \n",
      "6194  -84.1185645638, 33.83800342  -84.0456169955, 33.85686507        NaN   \n",
      "\n",
      "     long_lat_5 long_lat_6 long_lat_7 long_lat_8  ... TimeDifference_4  \\\n",
      "0           NaN        NaN        NaN        NaN  ...              NaN   \n",
      "1           NaN        NaN        NaN        NaN  ...              NaN   \n",
      "2           NaN        NaN        NaN        NaN  ...              NaN   \n",
      "3           NaN        NaN        NaN        NaN  ...              NaN   \n",
      "4           NaN        NaN        NaN        NaN  ...              NaN   \n",
      "...         ...        ...        ...        ...  ...              ...   \n",
      "6190        NaN        NaN        NaN        NaN  ...              NaN   \n",
      "6191        NaN        NaN        NaN        NaN  ...              NaN   \n",
      "6192        NaN        NaN        NaN        NaN  ...              NaN   \n",
      "6193        NaN        NaN        NaN        NaN  ...              NaN   \n",
      "6194        NaN        NaN        NaN        NaN  ...              NaN   \n",
      "\n",
      "     TimeDifference_5 TimeDifference_6 TimeDifference_7 TimeDifference_8  \\\n",
      "0                 NaN              NaN              NaN              NaN   \n",
      "1                 NaN              NaN              NaN              NaN   \n",
      "2                 NaN              NaN              NaN              NaN   \n",
      "3                 NaN              NaN              NaN              NaN   \n",
      "4                 NaN              NaN              NaN              NaN   \n",
      "...               ...              ...              ...              ...   \n",
      "6190              NaN              NaN              NaN              NaN   \n",
      "6191              NaN              NaN              NaN              NaN   \n",
      "6192              NaN              NaN              NaN              NaN   \n",
      "6193              NaN              NaN              NaN              NaN   \n",
      "6194              NaN              NaN              NaN              NaN   \n",
      "\n",
      "     TimeDifference_9 TimeDifference_10 TimeDifference_11 TimeDifference_12  \\\n",
      "0                 NaN               NaN               NaN               NaN   \n",
      "1                 NaN               NaN               NaN               NaN   \n",
      "2                 NaN               NaN               NaN               NaN   \n",
      "3                 NaN               NaN               NaN               NaN   \n",
      "4                 NaN               NaN               NaN               NaN   \n",
      "...               ...               ...               ...               ...   \n",
      "6190              NaN               NaN               NaN               NaN   \n",
      "6191              NaN               NaN               NaN               NaN   \n",
      "6192              NaN               NaN               NaN               NaN   \n",
      "6193              NaN               NaN               NaN               NaN   \n",
      "6194              NaN               NaN               NaN               NaN   \n",
      "\n",
      "     TimeDifference_13  \n",
      "0                  NaN  \n",
      "1                  NaN  \n",
      "2                  NaN  \n",
      "3                  NaN  \n",
      "4                  NaN  \n",
      "...                ...  \n",
      "6190               NaN  \n",
      "6191               NaN  \n",
      "6192               NaN  \n",
      "6193               NaN  \n",
      "6194               NaN  \n",
      "\n",
      "[6195 rows x 28 columns]\n"
     ]
    }
   ],
   "source": [
    "##create dataframe where each row is a maintenance staff and an unique date and all the locations visited each day and time spent in\n",
    "#each location are displayed horizontally\n",
    "\n",
    "# Enumerate 'Pump Station Address' within each group\n",
    "merged_df['Pump Station Address_Num'] = merged_df.groupby(['Created By', 'TimeIn_d']).cumcount() + 1\n",
    "\n",
    "# Pivot the table to get the desired format\n",
    "pivot_df = merged_df.pivot(index=['Created By', 'TimeIn_d'], columns='Pump Station Address_Num', values=['long_lat', 'TimeDifference'])\n",
    "\n",
    "# Flatten the multi-index columns\n",
    "pivot_df.columns = [f'{col[0]}_{col[1]}' for col in pivot_df.columns]\n",
    "\n",
    "# Reset the index to make 'Created By' and 'Create_d' regular columns\n",
    "pivot_df.reset_index(inplace=True)\n",
    "\n",
    "# Display the transposed DataFrame\n",
    "print(pivot_df)"
   ]
  },
  {
   "cell_type": "code",
   "execution_count": 28,
   "id": "umoB5GLFymNW",
   "metadata": {
    "colab": {
     "base_uri": "https://localhost:8080/"
    },
    "id": "umoB5GLFymNW",
    "outputId": "53061f10-07ce-4588-c8ab-3b64aafd8e7f"
   },
   "outputs": [
    {
     "name": "stdout",
     "output_type": "stream",
     "text": [
      "             Created By    TimeIn_d                   long_lat_1  \\\n",
      "0         Adam B Kersey  2021-12-06  -84.0708972416, 34.01125161   \n",
      "1         Adam B Kersey  2021-12-08  -83.8884193553, 33.95414376   \n",
      "2         Adam B Kersey  2021-12-09  -83.9957768663, 34.00375169   \n",
      "3         Adam B Kersey  2021-12-13   -83.895154254, 33.92719319   \n",
      "4         Adam B Kersey  2021-12-14   -84.036341178, 33.86256468   \n",
      "...                 ...         ...                          ...   \n",
      "6190  Taurus L Stinnett  2023-03-23  -83.8963879989, 34.10700821   \n",
      "6191    Zachary L Green  2022-08-02  -83.8967797927, 33.98931888   \n",
      "6192    Zachary L Green  2022-08-25  -84.1077010366, 33.92486401   \n",
      "6193    Zachary L Green  2022-11-01   -84.251488169, 33.91361474   \n",
      "6194    Zachary L Green  2022-12-07   -84.103233214, 33.83999742   \n",
      "\n",
      "                       long_lat_2                   long_lat_3 long_lat_4  \\\n",
      "0      -83.895154254, 33.92719319                          NaN        NaN   \n",
      "1     -83.8640293043, 33.96448133  -83.8991189891, 34.03583045        NaN   \n",
      "2                             NaN                          NaN        NaN   \n",
      "3                             NaN                          NaN        NaN   \n",
      "4     -84.1143379868, 33.83063085                          NaN        NaN   \n",
      "...                           ...                          ...        ...   \n",
      "6190  -83.8842016631, 34.09655975  -83.9044137184, 34.09214918        NaN   \n",
      "6191                          NaN                          NaN        NaN   \n",
      "6192  -83.9402479833, 33.97832391  -83.9402479833, 33.97832391        NaN   \n",
      "6193                          NaN                          NaN        NaN   \n",
      "6194  -84.1185645638, 33.83800342  -84.0456169955, 33.85686507        NaN   \n",
      "\n",
      "     long_lat_5 long_lat_6 long_lat_7 long_lat_8  ... TimeDifference_5  \\\n",
      "0           NaN        NaN        NaN        NaN  ...              NaN   \n",
      "1           NaN        NaN        NaN        NaN  ...              NaN   \n",
      "2           NaN        NaN        NaN        NaN  ...              NaN   \n",
      "3           NaN        NaN        NaN        NaN  ...              NaN   \n",
      "4           NaN        NaN        NaN        NaN  ...              NaN   \n",
      "...         ...        ...        ...        ...  ...              ...   \n",
      "6190        NaN        NaN        NaN        NaN  ...              NaN   \n",
      "6191        NaN        NaN        NaN        NaN  ...              NaN   \n",
      "6192        NaN        NaN        NaN        NaN  ...              NaN   \n",
      "6193        NaN        NaN        NaN        NaN  ...              NaN   \n",
      "6194        NaN        NaN        NaN        NaN  ...              NaN   \n",
      "\n",
      "     TimeDifference_6 TimeDifference_7 TimeDifference_8 TimeDifference_9  \\\n",
      "0                 NaN              NaN              NaN              NaN   \n",
      "1                 NaN              NaN              NaN              NaN   \n",
      "2                 NaN              NaN              NaN              NaN   \n",
      "3                 NaN              NaN              NaN              NaN   \n",
      "4                 NaN              NaN              NaN              NaN   \n",
      "...               ...              ...              ...              ...   \n",
      "6190              NaN              NaN              NaN              NaN   \n",
      "6191              NaN              NaN              NaN              NaN   \n",
      "6192              NaN              NaN              NaN              NaN   \n",
      "6193              NaN              NaN              NaN              NaN   \n",
      "6194              NaN              NaN              NaN              NaN   \n",
      "\n",
      "     TimeDifference_10 TimeDifference_11 TimeDifference_12 TimeDifference_13  \\\n",
      "0                  NaN               NaN               NaN               NaN   \n",
      "1                  NaN               NaN               NaN               NaN   \n",
      "2                  NaN               NaN               NaN               NaN   \n",
      "3                  NaN               NaN               NaN               NaN   \n",
      "4                  NaN               NaN               NaN               NaN   \n",
      "...                ...               ...               ...               ...   \n",
      "6190               NaN               NaN               NaN               NaN   \n",
      "6191               NaN               NaN               NaN               NaN   \n",
      "6192               NaN               NaN               NaN               NaN   \n",
      "6193               NaN               NaN               NaN               NaN   \n",
      "6194               NaN               NaN               NaN               NaN   \n",
      "\n",
      "                                           All_long_lat  \n",
      "0     (-84.0708972416, 34.01125161), (-83.895154254,...  \n",
      "1     (-83.8884193553, 33.95414376), (-83.8640293043...  \n",
      "2                         (-83.9957768663, 34.00375169)  \n",
      "3                          (-83.895154254, 33.92719319)  \n",
      "4     (-84.036341178, 33.86256468), (-84.1143379868,...  \n",
      "...                                                 ...  \n",
      "6190  (-83.8963879989, 34.10700821), (-83.8842016631...  \n",
      "6191                      (-83.8967797927, 33.98931888)  \n",
      "6192  (-84.1077010366, 33.92486401), (-83.9402479833...  \n",
      "6193                       (-84.251488169, 33.91361474)  \n",
      "6194  (-84.103233214, 33.83999742), (-84.1185645638,...  \n",
      "\n",
      "[6195 rows x 29 columns]\n"
     ]
    }
   ],
   "source": [
    "#create new column ' All_long_lat' and remove nan\n",
    "\n",
    "pivot_df['All_long_lat'] = pivot_df.apply(\n",
    "    lambda row: ', '.join(['(' + str(row[col]) + ')' for col in pivot_df.columns if col.startswith('long_lat') and (pd.notna(row[col]) and str(row[col]) != '(nan, nan)')]),\n",
    "    axis=1\n",
    ")\n",
    "\n",
    "print(pivot_df)"
   ]
  },
  {
   "cell_type": "code",
   "execution_count": 29,
   "id": "15a90365",
   "metadata": {},
   "outputs": [],
   "source": [
    "pivot_df.to_csv(r'C:\\Users\\stuti\\Desktop\\CSE 6242_Fall2023\\project\\pivot_df.csv', index = None, header=True)"
   ]
  },
  {
   "cell_type": "code",
   "execution_count": 30,
   "id": "0jf5mdqw0faI",
   "metadata": {
    "colab": {
     "base_uri": "https://localhost:8080/",
     "height": 206
    },
    "id": "0jf5mdqw0faI",
    "outputId": "eb961023-8832-40fc-f657-1e4ea763b436"
   },
   "outputs": [
    {
     "data": {
      "text/html": [
       "<div>\n",
       "<style scoped>\n",
       "    .dataframe tbody tr th:only-of-type {\n",
       "        vertical-align: middle;\n",
       "    }\n",
       "\n",
       "    .dataframe tbody tr th {\n",
       "        vertical-align: top;\n",
       "    }\n",
       "\n",
       "    .dataframe thead th {\n",
       "        text-align: right;\n",
       "    }\n",
       "</style>\n",
       "<table border=\"1\" class=\"dataframe\">\n",
       "  <thead>\n",
       "    <tr style=\"text-align: right;\">\n",
       "      <th></th>\n",
       "      <th>Created By</th>\n",
       "      <th>TimeIn_d</th>\n",
       "      <th>All_long_lat</th>\n",
       "    </tr>\n",
       "  </thead>\n",
       "  <tbody>\n",
       "    <tr>\n",
       "      <th>0</th>\n",
       "      <td>Adam B Kersey</td>\n",
       "      <td>2021-12-06</td>\n",
       "      <td>(-84.0708972416, 34.01125161), (-83.895154254,...</td>\n",
       "    </tr>\n",
       "    <tr>\n",
       "      <th>1</th>\n",
       "      <td>Adam B Kersey</td>\n",
       "      <td>2021-12-08</td>\n",
       "      <td>(-83.8884193553, 33.95414376), (-83.8640293043...</td>\n",
       "    </tr>\n",
       "    <tr>\n",
       "      <th>2</th>\n",
       "      <td>Adam B Kersey</td>\n",
       "      <td>2021-12-09</td>\n",
       "      <td>(-83.9957768663, 34.00375169)</td>\n",
       "    </tr>\n",
       "    <tr>\n",
       "      <th>3</th>\n",
       "      <td>Adam B Kersey</td>\n",
       "      <td>2021-12-13</td>\n",
       "      <td>(-83.895154254, 33.92719319)</td>\n",
       "    </tr>\n",
       "    <tr>\n",
       "      <th>4</th>\n",
       "      <td>Adam B Kersey</td>\n",
       "      <td>2021-12-14</td>\n",
       "      <td>(-84.036341178, 33.86256468), (-84.1143379868,...</td>\n",
       "    </tr>\n",
       "  </tbody>\n",
       "</table>\n",
       "</div>"
      ],
      "text/plain": [
       "      Created By    TimeIn_d  \\\n",
       "0  Adam B Kersey  2021-12-06   \n",
       "1  Adam B Kersey  2021-12-08   \n",
       "2  Adam B Kersey  2021-12-09   \n",
       "3  Adam B Kersey  2021-12-13   \n",
       "4  Adam B Kersey  2021-12-14   \n",
       "\n",
       "                                        All_long_lat  \n",
       "0  (-84.0708972416, 34.01125161), (-83.895154254,...  \n",
       "1  (-83.8884193553, 33.95414376), (-83.8640293043...  \n",
       "2                      (-83.9957768663, 34.00375169)  \n",
       "3                       (-83.895154254, 33.92719319)  \n",
       "4  (-84.036341178, 33.86256468), (-84.1143379868,...  "
      ]
     },
     "execution_count": 30,
     "metadata": {},
     "output_type": "execute_result"
    }
   ],
   "source": [
    "#fields to export\n",
    "export=pivot_df[['Created By', 'TimeIn_d', 'All_long_lat']]\n",
    "export.head(5)"
   ]
  },
  {
   "cell_type": "code",
   "execution_count": 31,
   "id": "535b88ef",
   "metadata": {},
   "outputs": [
    {
     "name": "stderr",
     "output_type": "stream",
     "text": [
      "C:\\Users\\stuti\\AppData\\Local\\Temp/ipykernel_4528/2918621519.py:5: SettingWithCopyWarning: \n",
      "A value is trying to be set on a copy of a slice from a DataFrame.\n",
      "Try using .loc[row_indexer,col_indexer] = value instead\n",
      "\n",
      "See the caveats in the documentation: https://pandas.pydata.org/pandas-docs/stable/user_guide/indexing.html#returning-a-view-versus-a-copy\n",
      "  export['All_long_lat_final'] = export['All_long_lat'].str.replace(pattern, '', regex=True)\n"
     ]
    },
    {
     "data": {
      "text/html": [
       "<div>\n",
       "<style scoped>\n",
       "    .dataframe tbody tr th:only-of-type {\n",
       "        vertical-align: middle;\n",
       "    }\n",
       "\n",
       "    .dataframe tbody tr th {\n",
       "        vertical-align: top;\n",
       "    }\n",
       "\n",
       "    .dataframe thead th {\n",
       "        text-align: right;\n",
       "    }\n",
       "</style>\n",
       "<table border=\"1\" class=\"dataframe\">\n",
       "  <thead>\n",
       "    <tr style=\"text-align: right;\">\n",
       "      <th></th>\n",
       "      <th>Created By</th>\n",
       "      <th>TimeIn_d</th>\n",
       "      <th>All_long_lat_final</th>\n",
       "    </tr>\n",
       "  </thead>\n",
       "  <tbody>\n",
       "    <tr>\n",
       "      <th>6190</th>\n",
       "      <td>Taurus L Stinnett</td>\n",
       "      <td>2023-03-23</td>\n",
       "      <td>(-83.8963879989, 34.10700821), (-83.8842016631...</td>\n",
       "    </tr>\n",
       "    <tr>\n",
       "      <th>6191</th>\n",
       "      <td>Zachary L Green</td>\n",
       "      <td>2022-08-02</td>\n",
       "      <td>(-83.8967797927, 33.98931888)</td>\n",
       "    </tr>\n",
       "    <tr>\n",
       "      <th>6192</th>\n",
       "      <td>Zachary L Green</td>\n",
       "      <td>2022-08-25</td>\n",
       "      <td>(-84.1077010366, 33.92486401), (-83.9402479833...</td>\n",
       "    </tr>\n",
       "    <tr>\n",
       "      <th>6193</th>\n",
       "      <td>Zachary L Green</td>\n",
       "      <td>2022-11-01</td>\n",
       "      <td>(-84.251488169, 33.91361474)</td>\n",
       "    </tr>\n",
       "    <tr>\n",
       "      <th>6194</th>\n",
       "      <td>Zachary L Green</td>\n",
       "      <td>2022-12-07</td>\n",
       "      <td>(-84.103233214, 33.83999742), (-84.1185645638,...</td>\n",
       "    </tr>\n",
       "  </tbody>\n",
       "</table>\n",
       "</div>"
      ],
      "text/plain": [
       "             Created By    TimeIn_d  \\\n",
       "6190  Taurus L Stinnett  2023-03-23   \n",
       "6191    Zachary L Green  2022-08-02   \n",
       "6192    Zachary L Green  2022-08-25   \n",
       "6193    Zachary L Green  2022-11-01   \n",
       "6194    Zachary L Green  2022-12-07   \n",
       "\n",
       "                                     All_long_lat_final  \n",
       "6190  (-83.8963879989, 34.10700821), (-83.8842016631...  \n",
       "6191                      (-83.8967797927, 33.98931888)  \n",
       "6192  (-84.1077010366, 33.92486401), (-83.9402479833...  \n",
       "6193                       (-84.251488169, 33.91361474)  \n",
       "6194  (-84.103233214, 33.83999742), (-84.1185645638,...  "
      ]
     },
     "execution_count": 31,
     "metadata": {},
     "output_type": "execute_result"
    }
   ],
   "source": [
    "#if still getting (nan, nan), remove in the field All_long_lat_final\n",
    "\n",
    "# Define the regex pattern and replace it with an empty string\n",
    "pattern = r',?\\s?\\(nan, nan\\),?'\n",
    "export['All_long_lat_final'] = export['All_long_lat'].str.replace(pattern, '', regex=True)\n",
    "export = export.drop('All_long_lat', axis=1)\n",
    "# Remove rows where 'All_long_lat_final' is empty\n",
    "export = export[export['All_long_lat_final'].str.strip() != '']\n",
    "# Reset the index if needed\n",
    "export.reset_index(drop=True, inplace=True)\n",
    "\n",
    "export.tail(5)"
   ]
  },
  {
   "cell_type": "code",
   "execution_count": 32,
   "id": "f45fb255",
   "metadata": {
    "id": "f45fb255"
   },
   "outputs": [],
   "source": [
    "export.to_csv(r'C:\\Users\\stuti\\Desktop\\CSE 6242_Fall2023\\project\\route_data.csv', index = None, header=True) #to input in the algorithms"
   ]
  }
 ],
 "metadata": {
  "colab": {
   "provenance": []
  },
  "kernelspec": {
   "display_name": "Python 3 (ipykernel)",
   "language": "python",
   "name": "python3"
  },
  "language_info": {
   "codemirror_mode": {
    "name": "ipython",
    "version": 3
   },
   "file_extension": ".py",
   "mimetype": "text/x-python",
   "name": "python",
   "nbconvert_exporter": "python",
   "pygments_lexer": "ipython3",
   "version": "3.12.0"
  }
 },
 "nbformat": 4,
 "nbformat_minor": 5
}
