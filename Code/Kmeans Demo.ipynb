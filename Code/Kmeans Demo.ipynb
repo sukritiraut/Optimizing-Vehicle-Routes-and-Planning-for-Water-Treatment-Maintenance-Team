{
 "cells": [
  {
   "cell_type": "code",
   "execution_count": 2,
   "id": "ffee87f3",
   "metadata": {},
   "outputs": [],
   "source": [
    "from Kmeans import route_np_array, kmean_manhattan, route_output"
   ]
  },
  {
   "cell_type": "code",
   "execution_count": 10,
   "id": "5f991936",
   "metadata": {},
   "outputs": [
    {
     "name": "stdout",
     "output_type": "stream",
     "text": [
      "6\n",
      "[(33.9697702, -83.96162849999999), (33.8911850544, -84.2222456983), (33.9728036622, -84.2614801386), (33.9900944837, -84.2329583971), (33.9998261479, -84.2202579898), (33.8306308526, -84.1143379868)]\n",
      "[[(33.9697702, -83.96162849999999), (33.8911850544, -84.2222456983), (33.8306308526, -84.1143379868)], [(33.9697702, -83.96162849999999), (33.9728036622, -84.2614801386), (33.9900944837, -84.2329583971), (33.9998261479, -84.2202579898)]]\n",
      "2\n"
     ]
    }
   ],
   "source": [
    "\n",
    "\n",
    "\n",
    "\n",
    "k = 2\n",
    "\n",
    "\n",
    "\n",
    "route_array = route_np_array(route)\n",
    "#print(route_array)\n",
    "\n",
    "route_array, k, m, label, centers_new = kmean_manhattan(route_array, k, 200)\n",
    "\n",
    "#print(label)\n",
    "\n",
    "\n",
    "final_route = route_output(route, label, k)\n",
    "\n",
    "print(len(route))\n",
    "print(route)\n",
    "print(final_route)\n",
    "print(len(final_route))\n",
    "\n",
    "\n",
    "[[(33.9697702, -83.96162849999999), (33.8911850544, -84.2222456983), (33.8306308526, -84.1143379868)], [(33.9697702, -83.96162849999999), (33.9728036622, -84.2614801386), (33.9900944837, -84.2329583971), (33.9998261479, -84.2202579898)]]"
   ]
  },
  {
   "cell_type": "code",
   "execution_count": 5,
   "id": "80ed2aeb",
   "metadata": {},
   "outputs": [
    {
     "name": "stdout",
     "output_type": "stream",
     "text": [
      "Total_Execution_Time:  5.024042844772339\n"
     ]
    }
   ],
   "source": [
    "import time\n",
    "from utils2 import get_matrix_from_api\n",
    "from NearestNeighbor import nearest_neighbor\n",
    "\n",
    "\n",
    "NN_route = []\n",
    "NN_distance = []\n",
    "NN_duration = []\n",
    "NN_time = []\n",
    "NN_route_real = []\n",
    "\n",
    "\n",
    "total_start_time = time.time()\n",
    "\n",
    "for a in final_route:\n",
    "    \n",
    "    if len(a) >= 1:  # More than 1 location\n",
    "        \n",
    "        #print(a)\n",
    "        \n",
    "        dist_matrix, dura_matrix = get_matrix_from_api(a)\n",
    "\n",
    "        start_time = time.time()\n",
    "\n",
    "        route, distance, duration = nearest_neighbor(dist_matrix, dura_matrix)\n",
    "\n",
    "        end_time = time.time()\n",
    "        \n",
    "        NN_route.append(route)\n",
    "        NN_distance.append(distance)\n",
    "        NN_duration.append(duration)\n",
    "        NN_time.append(end_time - start_time)\n",
    "\n",
    "        \n",
    "        # Get actual lat, long\n",
    "        route_real = [a[i] for i in route]\n",
    "        \n",
    "        NN_route_real.append(route_real)\n",
    "            \n",
    "        \n",
    "     \n",
    "    else:\n",
    "        \n",
    "        NN_route.append(0)\n",
    "        NN_distance.append(0)\n",
    "        NN_duration.append(0)\n",
    "        NN_time.append(0)\n",
    "\n",
    "         \n",
    "    time.sleep(2)        \n",
    "            \n",
    "            \n",
    "total_end_time = time.time()\n",
    "             \n",
    "print(\"Total_Execution_Time: \", total_end_time - total_start_time)"
   ]
  },
  {
   "cell_type": "code",
   "execution_count": 9,
   "id": "daaa4c2a",
   "metadata": {},
   "outputs": [
    {
     "name": "stdout",
     "output_type": "stream",
     "text": [
      "[[0, 3, 2, 1, 0], [0, 2, 1, 0]]\n",
      "[[(33.9697702, -83.96162849999999), (33.9998261479, -84.2202579898), (33.9900944837, -84.2329583971), (33.9728036622, -84.2614801386), (33.9697702, -83.96162849999999)], [(33.9697702, -83.96162849999999), (33.8306308526, -84.1143379868), (33.8911850544, -84.2222456983), (33.9697702, -83.96162849999999)]]\n"
     ]
    }
   ],
   "source": [
    "print(NN_route)\n",
    "print(NN_route_real)"
   ]
  },
  {
   "cell_type": "code",
   "execution_count": 6,
   "id": "26b35758",
   "metadata": {},
   "outputs": [
    {
     "name": "stdout",
     "output_type": "stream",
     "text": [
      "Total_Execution_Time:  4.924309730529785\n"
     ]
    }
   ],
   "source": [
    "import time\n",
    "from utils2 import get_matrix_from_api\n",
    "from BruteForce import brute_force\n",
    "\n",
    "\n",
    "bf_route = []\n",
    "bf_distance = []\n",
    "bf_duration = []\n",
    "bf_time = []\n",
    "bf_route_real = []\n",
    "\n",
    "\n",
    "total_start_time = time.time()\n",
    "\n",
    "for a in final_route:\n",
    "    \n",
    "    if len(a) >= 1:  # More than 1 location\n",
    "        \n",
    "        #print(a)\n",
    "        \n",
    "        dist_matrix, dura_matrix = get_matrix_from_api(a)\n",
    "\n",
    "        start_time = time.time()\n",
    "\n",
    "        route, distance, duration = brute_force(dist_matrix, dura_matrix)\n",
    "        \n",
    "        end_time = time.time()\n",
    "\n",
    "        bf_route.append(route)\n",
    "        bf_distance.append(distance)\n",
    "        bf_duration.append(duration)\n",
    "        bf_time.append(format(end_time - start_time))\n",
    "\n",
    "        \n",
    "        # Get actual lat, long\n",
    "        route_real = [a[i] for i in route]\n",
    "        \n",
    "        bf_route_real.append(route_real)\n",
    "            \n",
    "        \n",
    "     \n",
    "    else:\n",
    "        \n",
    "        bf_route.append(0)\n",
    "        bf_distance.append(0)\n",
    "        bf_duration.append(0)\n",
    "        bf_time.append(0)\n",
    "\n",
    "         \n",
    "    time.sleep(2)        \n",
    "            \n",
    "            \n",
    "total_end_time = time.time()\n",
    "             \n",
    "print(\"Total_Execution_Time: \", total_end_time - total_start_time)"
   ]
  },
  {
   "cell_type": "code",
   "execution_count": 7,
   "id": "c2c49ead",
   "metadata": {},
   "outputs": [
    {
     "name": "stdout",
     "output_type": "stream",
     "text": [
      "[[0, 1, 2, 3, 0], [0, 2, 1, 0]]\n"
     ]
    }
   ],
   "source": [
    "print(bf_route)"
   ]
  },
  {
   "cell_type": "code",
   "execution_count": 8,
   "id": "52728119",
   "metadata": {},
   "outputs": [
    {
     "name": "stdout",
     "output_type": "stream",
     "text": [
      "[[(33.9697702, -83.96162849999999), (33.9728036622, -84.2614801386), (33.9900944837, -84.2329583971), (33.9998261479, -84.2202579898), (33.9697702, -83.96162849999999)], [(33.9697702, -83.96162849999999), (33.8306308526, -84.1143379868), (33.8911850544, -84.2222456983), (33.9697702, -83.96162849999999)]]\n"
     ]
    }
   ],
   "source": [
    "print(bf_route_real[:])"
   ]
  },
  {
   "cell_type": "code",
   "execution_count": null,
   "id": "01a2e8c5",
   "metadata": {},
   "outputs": [],
   "source": []
  }
 ],
 "metadata": {
  "kernelspec": {
   "display_name": "Python 3 (ipykernel)",
   "language": "python",
   "name": "python3"
  },
  "language_info": {
   "codemirror_mode": {
    "name": "ipython",
    "version": 3
   },
   "file_extension": ".py",
   "mimetype": "text/x-python",
   "name": "python",
   "nbconvert_exporter": "python",
   "pygments_lexer": "ipython3",
   "version": "3.9.7"
  }
 },
 "nbformat": 4,
 "nbformat_minor": 5
}
