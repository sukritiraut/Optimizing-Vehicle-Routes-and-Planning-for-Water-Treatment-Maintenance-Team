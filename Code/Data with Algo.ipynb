{
 "cells": [
  {
   "cell_type": "code",
   "execution_count": 56,
   "id": "1614467d",
   "metadata": {},
   "outputs": [],
   "source": [
    "import pandas as pd\n",
    "import numpy as np\n",
    "import time\n",
    "from datetime import datetime\n",
    "from utils2 import get_matrix_from_api\n",
    "from BruteForce import brute_force\n",
    "from NearestNeighbor import nearest_neighbor, solve_tsp_nearest\n",
    "from Genetic import get_route, get_route_no0, population_size, initial_population, total_dist_individual, \\\n",
    "                        fitness_prob, roulette_wheel,crossover, mutation, genetic, genetic_route"
   ]
  },
  {
   "cell_type": "code",
   "execution_count": 57,
   "id": "748a2f11",
   "metadata": {
    "scrolled": false
   },
   "outputs": [
    {
     "data": {
      "text/html": [
       "<div>\n",
       "<style scoped>\n",
       "    .dataframe tbody tr th:only-of-type {\n",
       "        vertical-align: middle;\n",
       "    }\n",
       "\n",
       "    .dataframe tbody tr th {\n",
       "        vertical-align: top;\n",
       "    }\n",
       "\n",
       "    .dataframe thead th {\n",
       "        text-align: right;\n",
       "    }\n",
       "</style>\n",
       "<table border=\"1\" class=\"dataframe\">\n",
       "  <thead>\n",
       "    <tr style=\"text-align: right;\">\n",
       "      <th></th>\n",
       "      <th>Created By</th>\n",
       "      <th>TimeIn_d</th>\n",
       "      <th>All_long_lat</th>\n",
       "      <th>All_long_lat2</th>\n",
       "      <th>All_long_lat_final</th>\n",
       "    </tr>\n",
       "  </thead>\n",
       "  <tbody>\n",
       "    <tr>\n",
       "      <th>0</th>\n",
       "      <td>Adam B Kersey</td>\n",
       "      <td>12/6/2021</td>\n",
       "      <td>(-84.0708972416, 34.01125161), (-83.895154254,...</td>\n",
       "      <td>(-83.96162849999999, 33.9697702), (-84.0708972...</td>\n",
       "      <td>[(33.9697702, -83.96162849999999), (34.0112516...</td>\n",
       "    </tr>\n",
       "    <tr>\n",
       "      <th>1</th>\n",
       "      <td>Adam B Kersey</td>\n",
       "      <td>12/8/2021</td>\n",
       "      <td>(-83.8884193553, 33.95414376), (-83.8640293043...</td>\n",
       "      <td>(-83.96162849999999, 33.9697702), (-83.8884193...</td>\n",
       "      <td>[(33.9697702, -83.96162849999999), (33.9541437...</td>\n",
       "    </tr>\n",
       "    <tr>\n",
       "      <th>2</th>\n",
       "      <td>Adam B Kersey</td>\n",
       "      <td>12/9/2021</td>\n",
       "      <td>(-83.9957768663, 34.00375169)</td>\n",
       "      <td>(-83.96162849999999, 33.9697702), (-83.9957768...</td>\n",
       "      <td>[(33.9697702, -83.96162849999999), (34.0037516...</td>\n",
       "    </tr>\n",
       "    <tr>\n",
       "      <th>3</th>\n",
       "      <td>Adam B Kersey</td>\n",
       "      <td>12/13/2021</td>\n",
       "      <td>(-83.895154254, 33.92719319)</td>\n",
       "      <td>(-83.96162849999999, 33.9697702), (-83.8951542...</td>\n",
       "      <td>[(33.9697702, -83.96162849999999), (33.9271931...</td>\n",
       "    </tr>\n",
       "    <tr>\n",
       "      <th>4</th>\n",
       "      <td>Adam B Kersey</td>\n",
       "      <td>12/14/2021</td>\n",
       "      <td>(-84.036341178, 33.86256468), (-84.1143379868,...</td>\n",
       "      <td>(-83.96162849999999, 33.9697702), (-84.0363411...</td>\n",
       "      <td>[(33.9697702, -83.96162849999999), (33.8625646...</td>\n",
       "    </tr>\n",
       "  </tbody>\n",
       "</table>\n",
       "</div>"
      ],
      "text/plain": [
       "      Created By    TimeIn_d  \\\n",
       "0  Adam B Kersey   12/6/2021   \n",
       "1  Adam B Kersey   12/8/2021   \n",
       "2  Adam B Kersey   12/9/2021   \n",
       "3  Adam B Kersey  12/13/2021   \n",
       "4  Adam B Kersey  12/14/2021   \n",
       "\n",
       "                                        All_long_lat  \\\n",
       "0  (-84.0708972416, 34.01125161), (-83.895154254,...   \n",
       "1  (-83.8884193553, 33.95414376), (-83.8640293043...   \n",
       "2                      (-83.9957768663, 34.00375169)   \n",
       "3                       (-83.895154254, 33.92719319)   \n",
       "4  (-84.036341178, 33.86256468), (-84.1143379868,...   \n",
       "\n",
       "                                       All_long_lat2  \\\n",
       "0  (-83.96162849999999, 33.9697702), (-84.0708972...   \n",
       "1  (-83.96162849999999, 33.9697702), (-83.8884193...   \n",
       "2  (-83.96162849999999, 33.9697702), (-83.9957768...   \n",
       "3  (-83.96162849999999, 33.9697702), (-83.8951542...   \n",
       "4  (-83.96162849999999, 33.9697702), (-84.0363411...   \n",
       "\n",
       "                                  All_long_lat_final  \n",
       "0  [(33.9697702, -83.96162849999999), (34.0112516...  \n",
       "1  [(33.9697702, -83.96162849999999), (33.9541437...  \n",
       "2  [(33.9697702, -83.96162849999999), (34.0037516...  \n",
       "3  [(33.9697702, -83.96162849999999), (33.9271931...  \n",
       "4  [(33.9697702, -83.96162849999999), (33.8625646...  "
      ]
     },
     "execution_count": 57,
     "metadata": {},
     "output_type": "execute_result"
    }
   ],
   "source": [
    "df = pd.read_csv(\"./final_data.csv\")\n",
    "\n",
    "df.head(5)"
   ]
  },
  {
   "cell_type": "code",
   "execution_count": 58,
   "id": "36d37f4d",
   "metadata": {},
   "outputs": [],
   "source": [
    "# Need to manual create a new column and add \"(-83.96162849999999, 33.9697702), \"\n",
    "\n",
    "\n",
    "df['All_long_lat2'].str.strip()\n",
    "\n",
    "total_route = []\n",
    "for i in range(0, len(df['All_long_lat2'])):\n",
    "    \n",
    "\n",
    "    route_per_row = []\n",
    "    for j in eval(df['All_long_lat2'][i]):\n",
    "        \n",
    "        tup = (j[1], j[0])\n",
    "        \n",
    "        #print(tup)\n",
    "        \n",
    "        route_per_row.append(tup)\n",
    "        \n",
    "    \n",
    "    #route_per_row.insert(0, (33.9697702,-83.96162849999999))  # Starting point\n",
    "    \n",
    "    total_route.append(route_per_row)                                                                                                 "
   ]
  },
  {
   "cell_type": "code",
   "execution_count": 59,
   "id": "665c2f6c",
   "metadata": {},
   "outputs": [],
   "source": [
    "df['All_long_lat_final'] = total_route\n",
    "df.to_csv(\"./final_data.csv\", index=False)"
   ]
  },
  {
   "cell_type": "code",
   "execution_count": 60,
   "id": "03705c78",
   "metadata": {},
   "outputs": [
    {
     "name": "stdout",
     "output_type": "stream",
     "text": [
      "6195\n"
     ]
    },
    {
     "data": {
      "text/html": [
       "<div>\n",
       "<style scoped>\n",
       "    .dataframe tbody tr th:only-of-type {\n",
       "        vertical-align: middle;\n",
       "    }\n",
       "\n",
       "    .dataframe tbody tr th {\n",
       "        vertical-align: top;\n",
       "    }\n",
       "\n",
       "    .dataframe thead th {\n",
       "        text-align: right;\n",
       "    }\n",
       "</style>\n",
       "<table border=\"1\" class=\"dataframe\">\n",
       "  <thead>\n",
       "    <tr style=\"text-align: right;\">\n",
       "      <th></th>\n",
       "      <th>Created By</th>\n",
       "      <th>TimeIn_d</th>\n",
       "      <th>All_long_lat</th>\n",
       "      <th>All_long_lat2</th>\n",
       "      <th>All_long_lat_final</th>\n",
       "    </tr>\n",
       "  </thead>\n",
       "  <tbody>\n",
       "    <tr>\n",
       "      <th>0</th>\n",
       "      <td>Adam B Kersey</td>\n",
       "      <td>12/6/2021</td>\n",
       "      <td>(-84.0708972416, 34.01125161), (-83.895154254,...</td>\n",
       "      <td>(-83.96162849999999, 33.9697702), (-84.0708972...</td>\n",
       "      <td>[(33.9697702, -83.96162849999999), (34.0112516...</td>\n",
       "    </tr>\n",
       "    <tr>\n",
       "      <th>1</th>\n",
       "      <td>Adam B Kersey</td>\n",
       "      <td>12/8/2021</td>\n",
       "      <td>(-83.8884193553, 33.95414376), (-83.8640293043...</td>\n",
       "      <td>(-83.96162849999999, 33.9697702), (-83.8884193...</td>\n",
       "      <td>[(33.9697702, -83.96162849999999), (33.9541437...</td>\n",
       "    </tr>\n",
       "    <tr>\n",
       "      <th>2</th>\n",
       "      <td>Adam B Kersey</td>\n",
       "      <td>12/9/2021</td>\n",
       "      <td>(-83.9957768663, 34.00375169)</td>\n",
       "      <td>(-83.96162849999999, 33.9697702), (-83.9957768...</td>\n",
       "      <td>[(33.9697702, -83.96162849999999), (34.0037516...</td>\n",
       "    </tr>\n",
       "    <tr>\n",
       "      <th>3</th>\n",
       "      <td>Adam B Kersey</td>\n",
       "      <td>12/13/2021</td>\n",
       "      <td>(-83.895154254, 33.92719319)</td>\n",
       "      <td>(-83.96162849999999, 33.9697702), (-83.8951542...</td>\n",
       "      <td>[(33.9697702, -83.96162849999999), (33.9271931...</td>\n",
       "    </tr>\n",
       "    <tr>\n",
       "      <th>4</th>\n",
       "      <td>Adam B Kersey</td>\n",
       "      <td>12/14/2021</td>\n",
       "      <td>(-84.036341178, 33.86256468), (-84.1143379868,...</td>\n",
       "      <td>(-83.96162849999999, 33.9697702), (-84.0363411...</td>\n",
       "      <td>[(33.9697702, -83.96162849999999), (33.8625646...</td>\n",
       "    </tr>\n",
       "  </tbody>\n",
       "</table>\n",
       "</div>"
      ],
      "text/plain": [
       "      Created By    TimeIn_d  \\\n",
       "0  Adam B Kersey   12/6/2021   \n",
       "1  Adam B Kersey   12/8/2021   \n",
       "2  Adam B Kersey   12/9/2021   \n",
       "3  Adam B Kersey  12/13/2021   \n",
       "4  Adam B Kersey  12/14/2021   \n",
       "\n",
       "                                        All_long_lat  \\\n",
       "0  (-84.0708972416, 34.01125161), (-83.895154254,...   \n",
       "1  (-83.8884193553, 33.95414376), (-83.8640293043...   \n",
       "2                      (-83.9957768663, 34.00375169)   \n",
       "3                       (-83.895154254, 33.92719319)   \n",
       "4  (-84.036341178, 33.86256468), (-84.1143379868,...   \n",
       "\n",
       "                                       All_long_lat2  \\\n",
       "0  (-83.96162849999999, 33.9697702), (-84.0708972...   \n",
       "1  (-83.96162849999999, 33.9697702), (-83.8884193...   \n",
       "2  (-83.96162849999999, 33.9697702), (-83.9957768...   \n",
       "3  (-83.96162849999999, 33.9697702), (-83.8951542...   \n",
       "4  (-83.96162849999999, 33.9697702), (-84.0363411...   \n",
       "\n",
       "                                  All_long_lat_final  \n",
       "0  [(33.9697702, -83.96162849999999), (34.0112516...  \n",
       "1  [(33.9697702, -83.96162849999999), (33.9541437...  \n",
       "2  [(33.9697702, -83.96162849999999), (34.0037516...  \n",
       "3  [(33.9697702, -83.96162849999999), (33.9271931...  \n",
       "4  [(33.9697702, -83.96162849999999), (33.8625646...  "
      ]
     },
     "execution_count": 60,
     "metadata": {},
     "output_type": "execute_result"
    }
   ],
   "source": [
    "print(len(df))\n",
    "df.head(5)"
   ]
  },
  {
   "cell_type": "code",
   "execution_count": 61,
   "id": "e0ad149a",
   "metadata": {},
   "outputs": [
    {
     "data": {
      "text/plain": [
       "[(5, 1253),\n",
       " (4, 1142),\n",
       " (3, 1021),\n",
       " (6, 1006),\n",
       " (2, 917),\n",
       " (7, 529),\n",
       " (8, 220),\n",
       " (9, 70),\n",
       " (10, 19),\n",
       " (11, 13),\n",
       " (12, 3),\n",
       " (14, 1),\n",
       " (13, 1)]"
      ]
     },
     "execution_count": 61,
     "metadata": {},
     "output_type": "execute_result"
    }
   ],
   "source": [
    "from collections import Counter\n",
    "\n",
    "leng = []\n",
    "for i in total_route:\n",
    "    leng.append(len(i))\n",
    "\n",
    "Counter(leng).most_common()"
   ]
  },
  {
   "cell_type": "markdown",
   "id": "8c6b566d",
   "metadata": {},
   "source": [
    "## Original Distance / Duration ##"
   ]
  },
  {
   "cell_type": "code",
   "execution_count": 62,
   "id": "319cd538",
   "metadata": {},
   "outputs": [],
   "source": [
    "#orig_distance = []\n",
    "#orig_duration = []\n",
    "\n",
    "#for a in total_route[:5]:        \n",
    "#    dist_matrix, dura_matrix = get_matrix_from_api(a)\n",
    "    \n",
    "#    dis = round(np.sum(dist_matrix, axis = 1)[0] /1609)\n",
    "#    dur = round(np.sum(dura_matrix, axis = 1)[0] /60)\n",
    "\n",
    "#    orig_distance.append(dis)\n",
    "#    orig_duration.append(dur)\n",
    "    \n",
    "#    time.sleep(1)\n",
    "    \n",
    "#df['Original_Distance'] = orig_distance\n",
    "#df['Original_Duration'] = orig_duration\n",
    "\n",
    "#df.head(5)"
   ]
  },
  {
   "cell_type": "code",
   "execution_count": 63,
   "id": "027baea4",
   "metadata": {},
   "outputs": [
    {
     "data": {
      "text/html": [
       "<div>\n",
       "<style scoped>\n",
       "    .dataframe tbody tr th:only-of-type {\n",
       "        vertical-align: middle;\n",
       "    }\n",
       "\n",
       "    .dataframe tbody tr th {\n",
       "        vertical-align: top;\n",
       "    }\n",
       "\n",
       "    .dataframe thead th {\n",
       "        text-align: right;\n",
       "    }\n",
       "</style>\n",
       "<table border=\"1\" class=\"dataframe\">\n",
       "  <thead>\n",
       "    <tr style=\"text-align: right;\">\n",
       "      <th></th>\n",
       "      <th>Created By</th>\n",
       "      <th>TimeIn_d</th>\n",
       "      <th>All_long_lat</th>\n",
       "      <th>All_long_lat2</th>\n",
       "      <th>All_long_lat_final</th>\n",
       "      <th>Original_Distance</th>\n",
       "      <th>Original_Duration</th>\n",
       "    </tr>\n",
       "  </thead>\n",
       "  <tbody>\n",
       "    <tr>\n",
       "      <th>0</th>\n",
       "      <td>Adam B Kersey</td>\n",
       "      <td>12/6/2021</td>\n",
       "      <td>(-84.0708972416, 34.01125161), (-83.895154254,...</td>\n",
       "      <td>(-83.96162849999999, 33.9697702), (-84.0708972...</td>\n",
       "      <td>[(33.9697702, -83.96162849999999), (34.0112516...</td>\n",
       "      <td>35</td>\n",
       "      <td>70</td>\n",
       "    </tr>\n",
       "    <tr>\n",
       "      <th>1</th>\n",
       "      <td>Adam B Kersey</td>\n",
       "      <td>12/8/2021</td>\n",
       "      <td>(-83.8884193553, 33.95414376), (-83.8640293043...</td>\n",
       "      <td>(-83.96162849999999, 33.9697702), (-83.8884193...</td>\n",
       "      <td>[(33.9697702, -83.96162849999999), (33.9541437...</td>\n",
       "      <td>25</td>\n",
       "      <td>60</td>\n",
       "    </tr>\n",
       "    <tr>\n",
       "      <th>2</th>\n",
       "      <td>Adam B Kersey</td>\n",
       "      <td>12/9/2021</td>\n",
       "      <td>(-83.9957768663, 34.00375169)</td>\n",
       "      <td>(-83.96162849999999, 33.9697702), (-83.9957768...</td>\n",
       "      <td>[(33.9697702, -83.96162849999999), (34.0037516...</td>\n",
       "      <td>10</td>\n",
       "      <td>21</td>\n",
       "    </tr>\n",
       "    <tr>\n",
       "      <th>3</th>\n",
       "      <td>Adam B Kersey</td>\n",
       "      <td>12/13/2021</td>\n",
       "      <td>(-83.895154254, 33.92719319)</td>\n",
       "      <td>(-83.96162849999999, 33.9697702), (-83.8951542...</td>\n",
       "      <td>[(33.9697702, -83.96162849999999), (33.9271931...</td>\n",
       "      <td>13</td>\n",
       "      <td>33</td>\n",
       "    </tr>\n",
       "    <tr>\n",
       "      <th>4</th>\n",
       "      <td>Adam B Kersey</td>\n",
       "      <td>12/14/2021</td>\n",
       "      <td>(-84.036341178, 33.86256468), (-84.1143379868,...</td>\n",
       "      <td>(-83.96162849999999, 33.9697702), (-84.0363411...</td>\n",
       "      <td>[(33.9697702, -83.96162849999999), (33.8625646...</td>\n",
       "      <td>34</td>\n",
       "      <td>71</td>\n",
       "    </tr>\n",
       "  </tbody>\n",
       "</table>\n",
       "</div>"
      ],
      "text/plain": [
       "      Created By    TimeIn_d  \\\n",
       "0  Adam B Kersey   12/6/2021   \n",
       "1  Adam B Kersey   12/8/2021   \n",
       "2  Adam B Kersey   12/9/2021   \n",
       "3  Adam B Kersey  12/13/2021   \n",
       "4  Adam B Kersey  12/14/2021   \n",
       "\n",
       "                                        All_long_lat  \\\n",
       "0  (-84.0708972416, 34.01125161), (-83.895154254,...   \n",
       "1  (-83.8884193553, 33.95414376), (-83.8640293043...   \n",
       "2                      (-83.9957768663, 34.00375169)   \n",
       "3                       (-83.895154254, 33.92719319)   \n",
       "4  (-84.036341178, 33.86256468), (-84.1143379868,...   \n",
       "\n",
       "                                       All_long_lat2  \\\n",
       "0  (-83.96162849999999, 33.9697702), (-84.0708972...   \n",
       "1  (-83.96162849999999, 33.9697702), (-83.8884193...   \n",
       "2  (-83.96162849999999, 33.9697702), (-83.9957768...   \n",
       "3  (-83.96162849999999, 33.9697702), (-83.8951542...   \n",
       "4  (-83.96162849999999, 33.9697702), (-84.0363411...   \n",
       "\n",
       "                                  All_long_lat_final  Original_Distance  \\\n",
       "0  [(33.9697702, -83.96162849999999), (34.0112516...                 35   \n",
       "1  [(33.9697702, -83.96162849999999), (33.9541437...                 25   \n",
       "2  [(33.9697702, -83.96162849999999), (34.0037516...                 10   \n",
       "3  [(33.9697702, -83.96162849999999), (33.9271931...                 13   \n",
       "4  [(33.9697702, -83.96162849999999), (33.8625646...                 34   \n",
       "\n",
       "   Original_Duration  \n",
       "0                 70  \n",
       "1                 60  \n",
       "2                 21  \n",
       "3                 33  \n",
       "4                 71  "
      ]
     },
     "execution_count": 63,
     "metadata": {},
     "output_type": "execute_result"
    }
   ],
   "source": [
    "orig_distance = []\n",
    "orig_duration = []\n",
    "\n",
    "route = total_route[:]\n",
    "#route = total_route[4561:6195]\n",
    "\n",
    "\n",
    "for a in route:  \n",
    "    \n",
    "    dist_matrix, dura_matrix = get_matrix_from_api(a)\n",
    "    \n",
    "    r = [i for i in range(0, len(a))]\n",
    "    r.append(0)\n",
    "    \n",
    "    end = len(r)\n",
    "    \n",
    "    #print(r)\n",
    "    #print(end)\n",
    "    \n",
    "    d = 0\n",
    "    t = 0\n",
    "    for i, j in zip(r[0:end-1], r[1:end]):\n",
    "        \n",
    "        #print(i,j)\n",
    "        \n",
    "        d += dist_matrix[i][j]\n",
    "        t += dura_matrix[i][j]\n",
    "\n",
    "    orig_distance.append(round(d/1609))\n",
    "    orig_duration.append(round(t/60))\n",
    "    \n",
    "    \n",
    "df['Original_Distance'] = orig_distance\n",
    "df['Original_Duration'] = orig_duration\n",
    "\n",
    "df.head(5)"
   ]
  },
  {
   "cell_type": "code",
   "execution_count": null,
   "id": "94a13a47",
   "metadata": {},
   "outputs": [],
   "source": []
  },
  {
   "cell_type": "code",
   "execution_count": 64,
   "id": "09bc706b",
   "metadata": {},
   "outputs": [],
   "source": [
    "df.to_csv(\"./final_data1.csv\", index=False)"
   ]
  },
  {
   "cell_type": "code",
   "execution_count": 65,
   "id": "2ef30937",
   "metadata": {
    "scrolled": true
   },
   "outputs": [
    {
     "name": "stdout",
     "output_type": "stream",
     "text": [
      "6195\n",
      "6196\n"
     ]
    }
   ],
   "source": [
    "print(len(orig_distance))  # range(len+1, 6195)\n",
    "\n",
    "new_start = len(orig_distance) + 1\n",
    "\n",
    "print(new_start)"
   ]
  },
  {
   "cell_type": "code",
   "execution_count": null,
   "id": "89a0fbf5",
   "metadata": {},
   "outputs": [],
   "source": [
    "# BK\n",
    "\n",
    "orig_distance1 = orig_distance\n",
    "orig_duration1 = orig_duration"
   ]
  },
  {
   "cell_type": "markdown",
   "id": "8b8a8f6f",
   "metadata": {},
   "source": [
    "## Brute Force ##"
   ]
  },
  {
   "cell_type": "code",
   "execution_count": 10,
   "id": "a3e45885",
   "metadata": {},
   "outputs": [
    {
     "name": "stdout",
     "output_type": "stream",
     "text": [
      "Total_Execution_Time:  2:21:20.429142\n"
     ]
    }
   ],
   "source": [
    "bf_route = []\n",
    "bf_distance = []\n",
    "bf_duration = []\n",
    "bf_time = []\n",
    "\n",
    "\n",
    "total_start_time = time.time()\n",
    "\n",
    "for a in total_route:\n",
    "    \n",
    "    if len(a) >= 1:\n",
    "        \n",
    "        #print(a)\n",
    "        \n",
    "        dist_matrix, dura_matrix = get_matrix_from_api(a)\n",
    "\n",
    "        start_time = datetime.now()\n",
    "\n",
    "        route, distance, duration = brute_force(dist_matrix, dura_matrix)\n",
    "\n",
    "        end_time = datetime.now()\n",
    "\n",
    "        bf_route.append(route)\n",
    "        bf_distance.append(distance)\n",
    "        bf_duration.append(duration)\n",
    "        bf_time.append(end_time - start_time)\n",
    "\n",
    "     \n",
    "    else:\n",
    "        \n",
    "        bf_route.append(0)\n",
    "        bf_distance.append(0)\n",
    "        bf_duration.append(0)\n",
    "        bf_time.append(0)\n",
    "\n",
    "         \n",
    "    time.sleep(2)        \n",
    "            \n",
    "            \n",
    "total_end_time = time.time()\n",
    "             \n",
    "print(\"Total_Execution_Time: \", format(total_end_time - total_start_time))"
   ]
  },
  {
   "cell_type": "code",
   "execution_count": null,
   "id": "bedf46bc",
   "metadata": {},
   "outputs": [],
   "source": []
  },
  {
   "cell_type": "code",
   "execution_count": 11,
   "id": "dcb46946",
   "metadata": {},
   "outputs": [],
   "source": [
    "df['BF_Route'] = bf_route\n",
    "df['BF_Distance'] = bf_distance\n",
    "df['BF_Duration'] = bf_duration\n",
    "df['BF_Time'] = bf_time"
   ]
  },
  {
   "cell_type": "code",
   "execution_count": 12,
   "id": "fa3a0f0d",
   "metadata": {},
   "outputs": [],
   "source": [
    "df.to_csv(\"./final_data2.csv\", index=False)"
   ]
  },
  {
   "cell_type": "markdown",
   "id": "70707f11",
   "metadata": {},
   "source": [
    "## Nearest Neighbor ##"
   ]
  },
  {
   "cell_type": "code",
   "execution_count": 16,
   "id": "81fb92fb",
   "metadata": {},
   "outputs": [
    {
     "name": "stdout",
     "output_type": "stream",
     "text": [
      "Total_Execution_Time:  0:25:59.453746\n"
     ]
    }
   ],
   "source": [
    "nn_route = []\n",
    "nn_distance = []\n",
    "nn_duration = []\n",
    "nn_time = []\n",
    "\n",
    "\n",
    "total_start_time = datetime.now()\n",
    "\n",
    "\n",
    "for a in total_route:\n",
    "#for a in total_route[len(nn_route)+1 : 3404]:    #If run into ConnectionPool issue get len(nn_route)\n",
    "    \n",
    "    if len(a) >= 1:\n",
    "        \n",
    "        #print(a)\n",
    "        \n",
    "        dist_matrix, dura_matrix = get_matrix_from_api(a)\n",
    "\n",
    "        start_time = time.time()\n",
    "        route, distance, duration = nearest_neighbor(dist_matrix, dura_matrix)\n",
    "        end_time = time.time()\n",
    "\n",
    "        nn_route.append(route)\n",
    "        nn_distance.append(distance)\n",
    "        nn_duration.append(duration)\n",
    "        nn_time.append(end_time - start_time)\n",
    "\n",
    "     \n",
    "    else:\n",
    "        \n",
    "        nn_route.append(0)\n",
    "        nn_distance.append(0)\n",
    "        nn_duration.append(0)\n",
    "        nn_time.append(0)\n",
    "\n",
    "        \n",
    "    #time.sleep(2)\n",
    "    \n",
    "total_end_time = datetime.now()\n",
    "             \n",
    "print(\"Total_Execution_Time: \", format(total_end_time - total_start_time))"
   ]
  },
  {
   "cell_type": "code",
   "execution_count": 17,
   "id": "d8a47ec4",
   "metadata": {},
   "outputs": [
    {
     "data": {
      "text/plain": [
       "3403"
      ]
     },
     "execution_count": 17,
     "metadata": {},
     "output_type": "execute_result"
    }
   ],
   "source": [
    "len(nn_route)"
   ]
  },
  {
   "cell_type": "code",
   "execution_count": 20,
   "id": "34c95a29",
   "metadata": {},
   "outputs": [],
   "source": [
    "df['NN_Route'] = nn_route\n",
    "df['NN_Distance'] = nn_distance\n",
    "df['NN_Duration'] = nn_duration\n",
    "df['NN_Time'] = nn_time"
   ]
  },
  {
   "cell_type": "code",
   "execution_count": 21,
   "id": "dfa22bbf",
   "metadata": {},
   "outputs": [],
   "source": [
    "df.to_csv(\"./sample_data4.csv\", index=False)"
   ]
  },
  {
   "cell_type": "markdown",
   "id": "81c4c0eb",
   "metadata": {},
   "source": [
    "## Genetic Algorithm ##"
   ]
  },
  {
   "cell_type": "code",
   "execution_count": 10,
   "id": "cf1fc6cc",
   "metadata": {},
   "outputs": [
    {
     "ename": "TypeError",
     "evalue": "unsupported operand type(s) for -: 'datetime.datetime' and 'float'",
     "output_type": "error",
     "traceback": [
      "\u001b[1;31m---------------------------------------------------------------------------\u001b[0m",
      "\u001b[1;31mTypeError\u001b[0m                                 Traceback (most recent call last)",
      "\u001b[1;32m~\\AppData\\Local\\Temp/ipykernel_25832/1570874368.py\u001b[0m in \u001b[0;36m<module>\u001b[1;34m\u001b[0m\n\u001b[0;32m     44\u001b[0m         \u001b[0mga_distance\u001b[0m\u001b[1;33m.\u001b[0m\u001b[0mappend\u001b[0m\u001b[1;33m(\u001b[0m\u001b[0mminimum_distance\u001b[0m\u001b[1;33m)\u001b[0m\u001b[1;33m\u001b[0m\u001b[1;33m\u001b[0m\u001b[0m\n\u001b[0;32m     45\u001b[0m         \u001b[0mga_duration\u001b[0m\u001b[1;33m.\u001b[0m\u001b[0mappend\u001b[0m\u001b[1;33m(\u001b[0m\u001b[0mduration\u001b[0m\u001b[1;33m)\u001b[0m\u001b[1;33m\u001b[0m\u001b[1;33m\u001b[0m\u001b[0m\n\u001b[1;32m---> 46\u001b[1;33m         \u001b[0mga_time\u001b[0m\u001b[1;33m.\u001b[0m\u001b[0mappend\u001b[0m\u001b[1;33m(\u001b[0m\u001b[0mend_time\u001b[0m \u001b[1;33m-\u001b[0m \u001b[0mstart_time\u001b[0m\u001b[1;33m)\u001b[0m\u001b[1;33m\u001b[0m\u001b[1;33m\u001b[0m\u001b[0m\n\u001b[0m\u001b[0;32m     47\u001b[0m \u001b[1;33m\u001b[0m\u001b[0m\n\u001b[0;32m     48\u001b[0m     \u001b[1;32melse\u001b[0m\u001b[1;33m:\u001b[0m\u001b[1;33m\u001b[0m\u001b[1;33m\u001b[0m\u001b[0m\n",
      "\u001b[1;31mTypeError\u001b[0m: unsupported operand type(s) for -: 'datetime.datetime' and 'float'"
     ]
    }
   ],
   "source": [
    "ga_route = []\n",
    "ga_distance = []\n",
    "ga_duration = []\n",
    "ga_time = []\n",
    "\n",
    "\n",
    "total_start_time = time.time()\n",
    "\n",
    "for a in total_route[:5]:\n",
    "    \n",
    "    if len(a) >= 1:\n",
    "        \n",
    "        route_list = get_route(a)\n",
    "        \n",
    "        #print(a)\n",
    "        \n",
    "        route_list_no0 = get_route_no0(a)\n",
    "        dist_matrix, dura_matrix = get_matrix_from_api(a)\n",
    "\n",
    "\n",
    "        n_population = population_size(route_list)\n",
    "        #n_population = 500 \n",
    "        crossover_per = 0.8\n",
    "        mutation_per = 0.2\n",
    "        n_generations = 500\n",
    "\n",
    "\n",
    "\n",
    "        start_time = time.time()\n",
    "\n",
    "        route, distance, duration = genetic_route(route_list, \n",
    "                                                        route_list_no0, \n",
    "                                                        n_population, \n",
    "                                                        n_generations, \n",
    "                                                        crossover_per, \n",
    "                                                        mutation_per,\n",
    "                                                        dist_matrix,\n",
    "                                                        dura_matrix)\n",
    "\n",
    "\n",
    "        end_time = datetime.now()\n",
    "        \n",
    "        ga_route.append(route)\n",
    "        ga_distance.append(distance)\n",
    "        ga_duration.append(duration)\n",
    "        ga_time.append(end_time - start_time)\n",
    "     \n",
    "    else:\n",
    "        \n",
    "        ga_route.append(0)\n",
    "        ga_distance.append(0)\n",
    "        ga_duration.append(0)\n",
    "        ga_time.append(0)\n",
    "\n",
    "    time.sleep(3)\n",
    "    \n",
    "total_end_time = datetime.now()\n",
    "             \n",
    "print(\"Total_Execution_Time: \", format(total_end_time - total_start_time))"
   ]
  },
  {
   "cell_type": "code",
   "execution_count": null,
   "id": "1e052b6f",
   "metadata": {},
   "outputs": [],
   "source": [
    "df['GA_Route'] = ga_route\n",
    "df['GA_Distance'] = ga_distance\n",
    "df['GA_Duration'] = ga_duration\n",
    "df['GA_Time'] = ga_time"
   ]
  },
  {
   "cell_type": "code",
   "execution_count": null,
   "id": "f467d696",
   "metadata": {},
   "outputs": [],
   "source": [
    "df.to_csv(\"./sample_data5.csv\", index=False)"
   ]
  }
 ],
 "metadata": {
  "kernelspec": {
   "display_name": "Python 3 (ipykernel)",
   "language": "python",
   "name": "python3"
  },
  "language_info": {
   "codemirror_mode": {
    "name": "ipython",
    "version": 3
   },
   "file_extension": ".py",
   "mimetype": "text/x-python",
   "name": "python",
   "nbconvert_exporter": "python",
   "pygments_lexer": "ipython3",
   "version": "3.9.7"
  }
 },
 "nbformat": 4,
 "nbformat_minor": 5
}
